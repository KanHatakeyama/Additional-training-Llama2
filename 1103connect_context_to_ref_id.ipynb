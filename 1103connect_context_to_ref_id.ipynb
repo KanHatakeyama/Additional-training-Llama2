{
 "cells": [
  {
   "cell_type": "code",
   "execution_count": 1,
   "metadata": {},
   "outputs": [],
   "source": [
    "import json\n",
    "import glob\n",
    "import yaml\n",
    "from tqdm import tqdm"
   ]
  },
  {
   "cell_type": "code",
   "execution_count": 2,
   "metadata": {},
   "outputs": [
    {
     "data": {
      "text/plain": [
       "'\\nref_yaml_list=glob.glob(\"database/html/1102parse/yaml/*.yaml\")\\nlen(ref_yaml_list)\\n\\nref_list=[]\\nfor path in tqdm(ref_yaml_list):\\n    with open(path,\"r\") as f:\\n        d=yaml.safe_load(f)\\n        ref_list.append(d)\\n'"
      ]
     },
     "execution_count": 2,
     "metadata": {},
     "output_type": "execute_result"
    }
   ],
   "source": [
    "#done\n",
    "\"\"\"\n",
    "ref_yaml_list=glob.glob(\"database/html/1102parse/yaml/*.yaml\")\n",
    "len(ref_yaml_list)\n",
    "\n",
    "ref_list=[]\n",
    "for path in tqdm(ref_yaml_list):\n",
    "    with open(path,\"r\") as f:\n",
    "        d=yaml.safe_load(f)\n",
    "        ref_list.append(d)\n",
    "\"\"\""
   ]
  },
  {
   "cell_type": "code",
   "execution_count": 3,
   "metadata": {},
   "outputs": [
    {
     "data": {
      "text/plain": [
       "'\\nsel_ref_list=[]\\n\\nfor ref in ref_list:\\n    if ref[\"License\"].find(\"Creative Commons\")==-1:\\n        #print(ref[\"doi\"])\\n        continue\\n\\n    if len(ref[\"main\"])==0:\\n        continue\\n\\n    sel_ref_list.append(ref)\\n\\n'"
      ]
     },
     "execution_count": 3,
     "metadata": {},
     "output_type": "execute_result"
    }
   ],
   "source": [
    "#done\n",
    "\"\"\"\n",
    "sel_ref_list=[]\n",
    "\n",
    "for ref in ref_list:\n",
    "    if ref[\"License\"].find(\"Creative Commons\")==-1:\n",
    "        #print(ref[\"doi\"])\n",
    "        continue\n",
    "\n",
    "    if len(ref[\"main\"])==0:\n",
    "        continue\n",
    "\n",
    "    sel_ref_list.append(ref)\n",
    "\n",
    "\"\"\""
   ]
  },
  {
   "cell_type": "code",
   "execution_count": 4,
   "metadata": {},
   "outputs": [],
   "source": [
    "#with open(\"database/output/1102ref.json\",\"w\") as f:\n",
    "#    json.dump(sel_ref_list,f,indent=4)"
   ]
  },
  {
   "cell_type": "code",
   "execution_count": 5,
   "metadata": {},
   "outputs": [],
   "source": [
    "\n",
    "with open(\"database/output/1102ref.json\",\"r\") as f:\n",
    "    sel_ref_list=json.load(f)"
   ]
  },
  {
   "cell_type": "code",
   "execution_count": 6,
   "metadata": {},
   "outputs": [],
   "source": [
    "context_path=\"database/output/context0926.json\"\n",
    "with open(context_path,\"r\") as f:\n",
    "    context_list=json.load(f)"
   ]
  },
  {
   "cell_type": "code",
   "execution_count": 7,
   "metadata": {},
   "outputs": [],
   "source": [
    "with open(\"database/output/qa_dataset1028.json\",\"r\") as f:\n",
    "    qa_list=json.load(f)"
   ]
  },
  {
   "cell_type": "code",
   "execution_count": 8,
   "metadata": {},
   "outputs": [
    {
     "data": {
      "text/plain": [
       "41915"
      ]
     },
     "execution_count": 8,
     "metadata": {},
     "output_type": "execute_result"
    }
   ],
   "source": [
    "#number of questions\n",
    "len(qa_list)"
   ]
  },
  {
   "cell_type": "code",
   "execution_count": 9,
   "metadata": {},
   "outputs": [
    {
     "data": {
      "text/plain": [
       "15337"
      ]
     },
     "execution_count": 9,
     "metadata": {},
     "output_type": "execute_result"
    }
   ],
   "source": [
    "# number of literatures used for question\n",
    "qa_ref_list=[q[\"ref_id\"] for q in qa_list]\n",
    "qa_ref_list=list(set(qa_ref_list))\n",
    "len(qa_ref_list)"
   ]
  },
  {
   "cell_type": "code",
   "execution_count": 10,
   "metadata": {},
   "outputs": [
    {
     "data": {
      "text/plain": [
       "56119"
      ]
     },
     "execution_count": 10,
     "metadata": {},
     "output_type": "execute_result"
    }
   ],
   "source": [
    "#number of contexts\n",
    "len(context_list)"
   ]
  },
  {
   "cell_type": "code",
   "execution_count": 23,
   "metadata": {},
   "outputs": [
    {
     "name": "stderr",
     "output_type": "stream",
     "text": [
      "100%|██████████| 64666/64666 [02:33<00:00, 421.65it/s]\n"
     ]
    }
   ],
   "source": [
    "\n",
    "import re\n",
    "import itertools\n",
    "from tqdm import tqdm\n",
    "import re\n",
    "def clean_text(text):\n",
    "    pattern = r'\\.(?=[A-Za-z])'\n",
    "    text= re.sub(pattern, '. ', text)\n",
    "    #連続したピリオドを削除\n",
    "    text=re.sub(r'\\.{2,}', '.', text)\n",
    "    return text\n",
    "\n",
    "\n",
    "def conv_text(text):\n",
    "    text=clean_text(text)\n",
    "    lower_text = text.lower()\n",
    "    cleaned_text = re.sub(r'[^a-z]', '', lower_text)\n",
    "    return cleaned_text\n",
    "\n",
    "max_check_length=50\n",
    "\n",
    "original_text_to_ref_id={}\n",
    "\n",
    "for ref_id in tqdm(range(len(sel_ref_list))):\n",
    "    for r in sel_ref_list[ref_id][\"main\"]:\n",
    "        text=r[\"text\"]\n",
    "        for spl_text in re.split(\"[.\\n]\",text):\n",
    "            spl_text=spl_text.strip()\n",
    "            key=conv_text(spl_text)[:max_check_length]\n",
    "            if len(spl_text)>10:\n",
    "                original_text_to_ref_id[key]=ref_id"
   ]
  },
  {
   "cell_type": "code",
   "execution_count": 25,
   "metadata": {},
   "outputs": [
    {
     "name": "stderr",
     "output_type": "stream",
     "text": [
      "  0%|          | 0/56119 [00:00<?, ?it/s]"
     ]
    },
    {
     "name": "stderr",
     "output_type": "stream",
     "text": [
      "100%|██████████| 56119/56119 [00:02<00:00, 23143.26it/s]\n"
     ]
    }
   ],
   "source": [
    "check_context_list=[]\n",
    "for context in tqdm(context_list):\n",
    "    context=conv_text(context)[:max_check_length]\n",
    "    check_context_list.append(context)"
   ]
  },
  {
   "cell_type": "code",
   "execution_count": 31,
   "metadata": {},
   "outputs": [
    {
     "name": "stderr",
     "output_type": "stream",
     "text": [
      "56119it [00:00, 783024.00it/s]\n"
     ]
    }
   ],
   "source": [
    "from tqdm import tqdm\n",
    "import Levenshtein as lev\n",
    "import json\n",
    "import joblib\n",
    "\n",
    "# `original_text_to_ref_id` が辞書であると仮定\n",
    "context_to_ref_id = {}\n",
    "\n",
    "for idx, (t1, o_t1) in tqdm(enumerate(zip(check_context_list, context_list))):\n",
    "    ref_id = original_text_to_ref_id.get(t1)  # 辞書のgetメソッドを使用\n",
    "    if ref_id is not None:\n",
    "        context_to_ref_id[o_t1] = ref_id\n",
    "\n",
    "    #if idx % 10000 == 0:  # 進捗出力と保存の頻度を下げる\n",
    "    #    print(idx, len(context_to_ref_id))\n",
    "    #    joblib.dump(context_to_ref_id, f\"database/processed/1103temp_{idx}.bin\")\n"
   ]
  },
  {
   "cell_type": "code",
   "execution_count": 34,
   "metadata": {},
   "outputs": [
    {
     "data": {
      "text/plain": [
       "['A GBFC consists of two bioelectrodes modified with immobilized enzymes catalysing the oxidation of glucose at the anode, mainly by GOx, and the reduction of dioxygen at the cathode via laccase or bilirubin oxidase. The concomitant oxidation and reduction processes at the electrodes yield electrical power. To date, the aim in biofuel cell research has been the achievement of direct electron transfer (DET) between the redox active sites of enzymes and the electrode. The majority of enzymatic fuel cells in the literature employ redox-active species with low molecular weight as mediators to establish an electron transfer between enzymes and electrodes. Mediators like osmium complexes, 2,2′-azino-bis(3-ethylbenzthiazoline)-6-sulfonic acid and ferrocyanide allow the fabrication of a GBFC that is able to deliver some hundreds of microwatts per cm (refs ,,). However, the immobilization of a mediator often involves complicated procedures and a decrease of the theoretical open-circuit potential (OCP) of the GBFC based on the potential difference between the prosthetic sites of the two types of enzymes involved. Furthermore, its use implies important technical issues. the mediator instability can affect directly GBFC performances over time. its leakage from the electrode may provoke toxic issues, especially in the case of implanted GBFCs. and the need for synthetic steps is a major issue for industrial applications and overall cost of the biofuel cell. Hence, considerable attention has recently been given to enzymatic biofuel cells based on DET. By using DET between an enzyme and an electrode, biofuel cells can operate close to the thermodynamic redox potential of the enzyme and, thereby, maximizing the OCP. Carbon nanotubes (CNTs) have diameters in the range of a few nanometers, high chemical and electrochemical stability and excellent electrical conductivity. For these reasons, CNTs are considered as ideal conducting nanowires to establish efficient DET between the active site of an enzyme and the electrode surface.',\n",
       " 'A Gram-positive bacterium, Lactococcus lactis, exhibits MDR when exposed to increasing concentrations of structurally unrelated toxic compounds, such as Hoechst 33342 (H33342), daunomycin, ethidium and rhodamine 6G (Rho6G) (). The MDR phenotype is induced by the overexpression of a heterodimeric multidrug transporter, LmrCD. The expression of LmrCD is regulated by a multidrug transcriptional repressor, LmrR, which is encoded in the same gene cluster as the lmrCD gene. LmrR is a homodimeric protein that belongs to the PadR-like family of multidrug transcriptional regulators. In the absence of the compound, LmrR binds to the promoter regions of the lmrCD genes to repress their transcription (). When the cells are exposed to the toxic compounds, LmrR is released from the promoter regions to induce membrane expression of the transporter. LmrR has been shown to bind the aforementioned compounds with relatively high affinities, thus, is a major sensory molecule that controls multidrug resistance in L. lactis.',\n",
       " 'A Japanese phase III clinical trial evaluated high-dose pirfenidone (1800\\xa0mg/day), low-dose (1200\\xa0mg/day), and placebo and reported that the low-dose group showed a significant effect on disease progression assessed by FVC decline compared with the placebo group. However, the effects of pirfenidone less than 1200\\xa0mg/day dose have not been confirmed.',\n",
       " 'A LEID requires a unique design on the device structure and material level.The electrodes and the solid electrolyte of the device should have both high mechanical strength and good interface bonding.Currently, LEIDs are mainly designed based on high-strength resin-based carbon fiber composite materials, where the carbon fiber (CF) with high strength and good electrical conductivity is the reinforcement and the electrodes, and the high-strength solid electrolyte serves the matrix to bond CFs together.However, although the concept of LEID has been proposed for decades, there is few practical LEID reported in literature.One reason for this situation is the lack of solid electrolytes with high mechanical strength, high ionic conductivity, and good processability.The soft solid electrolyte developed for lithium-ion batteries usually cannot meet the requirement of LEID.Besides, the structure of the device has not been purposefully designed and studied.A limited number of high-strength polymeric solid electrolytes were only tested in a simplified model device with a thin three-layer CF/separator/CF structure, and the mechanical properties of the devices were seldom mentioned.These thin and simple three-layered devices are far from real LEIDs, which should be mechanically strong and easy to <http://process.To|process.To> develop a LEID aiming at future practical application, we need to prepare multilayered LEID compatible with the forming/processing methods of conventional resin-based composites, and evaluate their mechanical properties following the standards of composite materials.Furthermore, it is also necessary to understand the coupling relationship between mechanics/energy storage performance, such as the effect of mechanical damage on the energy storage performance of the device..',\n",
       " 'A LIB cell comprises active material (Co, Ni, Mn, Li) coated on aluminum current collector, serving as a cathode, whereas the anode current collector typically comprises copper foil coated with a graphite/lithium mixture. Recent research on battery recycling has focused on the recovery of critical elements like Li, Co, Mn, Ni and C (graphite) via several stages that include pretreatment, such as dismantling, crushing, screening and potentially thermal treatment to remove organic binders. Current industrial scale recycling methods typically involve preliminary dismantling to remove the outer casing (metallic and plastic) to make the cells available for further processing in the case of large batteries, such as EV or power tools, whereas small batteries can be processed without preliminary dismantling. Cells are crushed and sieved in the initial treatment stages as this removes the need for complicated battery cell opening and therefore, all batteries in the incoming stream can be readily pre-treated in large volumes. The mechanical and thermal pretreatment enables partial removal of current collectors and toxic volatile components, such as LiPF6 electrolyte, organic solvents, and binder (PVDF). The metal-rich black mass is subjected to further treatment by mechanical separation, pyrometallurgical and/or hydrometallurgical processes.',\n",
       " 'A NCS system provides a good platform to look for exotic states such as the Weyl semimetal in TaAs and the topological nodal-line phase in PbTaSe2(ref.). Another NCS SC BiPd can provide a platform to study the interplay of SOC effects with superconductivity. This compound undergoes a structural transition from β-BiPd (orthorhombic) to α-BiPd (monoclinic) at 210\\u2009°C and then becomes superconducting at the transition temperature (Tc)∼3.7\\u2009K (refs , ). In comparison to many other NCS SCs, BiPd is a weakly correlated compound possessing a heavy atom, Bi. Measurements by point-contact spectroscopy and nuclear quadrupole resonance indicate a complex gap structure in BiPd, which might be caused by the lack of inversion symmetry. Recent scanning tunnelling microscopy measurements reveal that the superconducting state of BiPd appears to be topologically trivial, consistent with Bardeen–Cooper–Schrieffer theory with an s-wave order parameter. Further momentum and spin-resolved experimental evidence is highly desirable to establish the presence of topological Dirac surface states, and to study the underlying microscopic mechanism of superconductivity. A detailed high-resolution angle-resolved photoemission spectroscopy (ARPES) and spin-resolved ARPES study is necessary to prove or disprove the topological nature of the surface states in the normal state of BiPd. Such a characterization of the normal state is currently missing, but necessary and needed as a first step towards opening a discussion on the relationship between superconductivity and the topological properties of NCS systems.',\n",
       " 'A QKD link obviously requires the existence of a quantum channel, used to transmit the prepared qubits, but also needs a classical authenticated channel to extract a secret key from a set of raw detections. For high speed QKD, this postprocessing step — a key distillation process including key reconciliation and privacy amplification — is the part that takes more time, becoming a bottleneck for the secret key generation process.',\n",
       " 'A SERS substrate is generally fabricated from metallic nanostructures, i. e. Au, Ag, and Cu. Both chemical and electromagnetic enhancement mechanisms are well accepted as key contributors to SERS phenomenon. The latter is responsible to induce high field enhancement of the collective electronic oscillations on the metallic surface called surface plasmon resonance (SPR). The enhancement of SPR directly refers to the SERS sensitivity that mostly depends on various parameters of the metallic nanostructures such as dimension, morphology, composition, and shape. High field enhancement for SERS is typically generated at very specific area of metallic nanostructures and their aggregates called ‘hot spot’, which is located between the gap of nanoparticles aggregates or at the tip of anisotropic nanostructures such as nanorods and nanowires.',\n",
       " 'A U-shaped association between body mass index (BMI) and mortality exists in elderly population. The mortality rate has been higher in underweight elderly patients than those with normal bodyweight. Unexpectedly, a study has shown that the mortality is lower in elderly with overweight or mild moderate obesity than whose with normal bodyweight, although overweight and obese patients usually have comorbidities such as hypertension, type 2 diabetes mellitus and dyslipidemia than whose with normal bodyweight. This phenomenon is widely known as obesity paradox. However, unhealthy obesity has been associated with increased all-cause mortality among elderly subjects. The morbid obesity is related to higher prevalence of hypertension, diabetes and dyslipidemia, which could be associated with major adverse cardiovascular consequences in elderly patients. Nevertheless, the study on detailed associations of overweight and obesity with cardiac structures and function is still limited in elderly Asian population. Therefore, we collected data on Chinese elderly patients with primary hypertension in a cross-sectional study in order to investigate the relationship of overweight and obesity to cardiac remodeling and function.',\n",
       " 'A Weyl point is a point degeneracy between two bands in a three-dimensional (3D) band structure, with linear dispersion in all three dimensions in its vicinity. The simplest Hamiltonian in the wavevector space (k-space) that supports a Weyl point is. As σx,y,z together with the identity matrix form a complete basis for 2 × 2 Hermitian matrices, any perturbation on that preserves the translational symmetry can be written as a linear superposition of these four matrices. Thus, any small perturbation in k-space can only shift the Weyl point without destroying the degeneracy and opening a gap. Weyl points are 3D topological states. they are monopoles of Berry curvature in the wavevector space. Any closed two-dimensional (2D) surface surrounding the Weyl point has a unit Chern number. This implies the existence of topological surface states, in the form of a Fermi arc connecting two Weyl points of opposite charges for a finite system with its bulk described by.']"
      ]
     },
     "execution_count": 34,
     "metadata": {},
     "output_type": "execute_result"
    }
   ],
   "source": [
    "len(context_to_ref_id)\n",
    "list(context_to_ref_id.keys())[:10]"
   ]
  },
  {
   "cell_type": "code",
   "execution_count": 22,
   "metadata": {},
   "outputs": [
    {
     "name": "stderr",
     "output_type": "stream",
     "text": [
      "1377it [00:00, 3583.80it/s]"
     ]
    },
    {
     "name": "stdout",
     "output_type": "stream",
     "text": [
      "1000 1933\n"
     ]
    },
    {
     "name": "stderr",
     "output_type": "stream",
     "text": [
      "2937it [00:03, 481.93it/s] "
     ]
    },
    {
     "name": "stdout",
     "output_type": "stream",
     "text": [
      "3000 2043\n"
     ]
    },
    {
     "name": "stderr",
     "output_type": "stream",
     "text": [
      "4043it [00:07, 289.61it/s]"
     ]
    },
    {
     "name": "stdout",
     "output_type": "stream",
     "text": [
      "4000 2287\n"
     ]
    },
    {
     "name": "stderr",
     "output_type": "stream",
     "text": [
      "5078it [00:10, 362.43it/s]"
     ]
    },
    {
     "name": "stdout",
     "output_type": "stream",
     "text": [
      "5000 2547\n"
     ]
    },
    {
     "name": "stderr",
     "output_type": "stream",
     "text": [
      "5289it [00:11, 478.93it/s]\n"
     ]
    },
    {
     "ename": "KeyboardInterrupt",
     "evalue": "",
     "output_type": "error",
     "traceback": [
      "\u001b[0;31m---------------------------------------------------------------------------\u001b[0m",
      "\u001b[0;31mKeyboardInterrupt\u001b[0m                         Traceback (most recent call last)",
      "\u001b[1;32m/mnt/hdd/python/2023/0925nature_llm/1101anal_dataset.ipynb セル 14\u001b[0m line \u001b[0;36m1\n\u001b[1;32m     <a href='vscode-notebook-cell://ssh-remote%2Bnew-ubuntu/mnt/hdd/python/2023/0925nature_llm/1101anal_dataset.ipynb#X23sdnNjb2RlLXJlbW90ZQ%3D%3D?line=14'>15</a>\u001b[0m t1_start \u001b[39m=\u001b[39m t1[:\u001b[39m30\u001b[39m]\n\u001b[1;32m     <a href='vscode-notebook-cell://ssh-remote%2Bnew-ubuntu/mnt/hdd/python/2023/0925nature_llm/1101anal_dataset.ipynb#X23sdnNjb2RlLXJlbW90ZQ%3D%3D?line=15'>16</a>\u001b[0m \u001b[39mfor\u001b[39;00m ref_id, t2_start \u001b[39min\u001b[39;00m t2_starts\u001b[39m.\u001b[39mitems():\n\u001b[0;32m---> <a href='vscode-notebook-cell://ssh-remote%2Bnew-ubuntu/mnt/hdd/python/2023/0925nature_llm/1101anal_dataset.ipynb#X23sdnNjb2RlLXJlbW90ZQ%3D%3D?line=16'>17</a>\u001b[0m     \u001b[39mif\u001b[39;00m t1_start \u001b[39m==\u001b[39m t2_start:\n\u001b[1;32m     <a href='vscode-notebook-cell://ssh-remote%2Bnew-ubuntu/mnt/hdd/python/2023/0925nature_llm/1101anal_dataset.ipynb#X23sdnNjb2RlLXJlbW90ZQ%3D%3D?line=17'>18</a>\u001b[0m         context_to_ref_id[o_t1] \u001b[39m=\u001b[39m ref_id\n\u001b[1;32m     <a href='vscode-notebook-cell://ssh-remote%2Bnew-ubuntu/mnt/hdd/python/2023/0925nature_llm/1101anal_dataset.ipynb#X23sdnNjb2RlLXJlbW90ZQ%3D%3D?line=18'>19</a>\u001b[0m         \u001b[39mbreak\u001b[39;00m\n",
      "\u001b[0;31mKeyboardInterrupt\u001b[0m: "
     ]
    }
   ],
   "source": [
    "\n",
    "\n",
    "\"\"\"\n",
    "\n",
    "cnt=0\n",
    "for t1,o_t1 in tqdm(zip(clean_context_list,context_list)):\n",
    "    if o_t1 in context_to_ref_id:\n",
    "        continue\n",
    "\n",
    "    if cnt%1000==0:\n",
    "        print(cnt,len(context_to_ref_id))\n",
    "        joblib.dump(context_to_ref_id,\"database/processed/1103temp.bin\")\n",
    "    cnt+=1\n",
    "\n",
    "    for ref_id,t2 in (original_text_dict.items()):\n",
    "        if t1[:30] in t2:\n",
    "        #if t2.find(t1[:30])>0:\n",
    "            context_to_ref_id[o_t1]=ref_id\n",
    "            break\n",
    "\n",
    "\n",
    "    #score= lev.distance(t1,t2[:])\n",
    "    #score_list.append(score)\n",
    "\"\"\""
   ]
  },
  {
   "cell_type": "code",
   "execution_count": 23,
   "metadata": {},
   "outputs": [
    {
     "data": {
      "text/plain": [
       "2614"
      ]
     },
     "execution_count": 23,
     "metadata": {},
     "output_type": "execute_result"
    }
   ],
   "source": [
    "len(context_to_ref_id)"
   ]
  },
  {
   "cell_type": "code",
   "execution_count": 35,
   "metadata": {},
   "outputs": [],
   "source": [
    "with open(\"database/processed/1103_context0926to1102ref.json\",\"w\") as f:\n",
    "    json.dump(context_to_ref_id,f,indent=4)"
   ]
  },
  {
   "cell_type": "code",
   "execution_count": null,
   "metadata": {},
   "outputs": [],
   "source": [
    "1"
   ]
  },
  {
   "cell_type": "code",
   "execution_count": null,
   "metadata": {},
   "outputs": [],
   "source": []
  }
 ],
 "metadata": {
  "kernelspec": {
   "display_name": "mi",
   "language": "python",
   "name": "python3"
  },
  "language_info": {
   "codemirror_mode": {
    "name": "ipython",
    "version": 3
   },
   "file_extension": ".py",
   "mimetype": "text/x-python",
   "name": "python",
   "nbconvert_exporter": "python",
   "pygments_lexer": "ipython3",
   "version": "3.11.3"
  }
 },
 "nbformat": 4,
 "nbformat_minor": 2
}
