{
 "cells": [
  {
   "cell_type": "code",
   "execution_count": 1,
   "metadata": {},
   "outputs": [],
   "source": [
    "import json\n",
    "import glob\n",
    "import yaml\n",
    "from tqdm import tqdm"
   ]
  },
  {
   "cell_type": "code",
   "execution_count": 2,
   "metadata": {},
   "outputs": [
    {
     "data": {
      "text/plain": [
       "'\\nref_yaml_list=glob.glob(\"database/html/1102parse/yaml/*.yaml\")\\nlen(ref_yaml_list)\\n\\nref_list=[]\\nfor path in tqdm(ref_yaml_list):\\n    with open(path,\"r\") as f:\\n        d=yaml.safe_load(f)\\n        ref_list.append(d)\\n'"
      ]
     },
     "execution_count": 2,
     "metadata": {},
     "output_type": "execute_result"
    }
   ],
   "source": [
    "#done\n",
    "\"\"\"\n",
    "ref_yaml_list=glob.glob(\"database/html/1102parse/yaml/*.yaml\")\n",
    "len(ref_yaml_list)\n",
    "\n",
    "ref_list=[]\n",
    "for path in tqdm(ref_yaml_list):\n",
    "    with open(path,\"r\") as f:\n",
    "        d=yaml.safe_load(f)\n",
    "        ref_list.append(d)\n",
    "\"\"\""
   ]
  },
  {
   "cell_type": "code",
   "execution_count": 3,
   "metadata": {},
   "outputs": [
    {
     "data": {
      "text/plain": [
       "'\\nsel_ref_list=[]\\n\\nfor ref in ref_list:\\n    if ref[\"License\"].find(\"Creative Commons\")==-1:\\n        #print(ref[\"doi\"])\\n        continue\\n\\n    if len(ref[\"main\"])==0:\\n        continue\\n\\n    sel_ref_list.append(ref)\\n\\n'"
      ]
     },
     "execution_count": 3,
     "metadata": {},
     "output_type": "execute_result"
    }
   ],
   "source": [
    "#done\n",
    "\"\"\"\n",
    "sel_ref_list=[]\n",
    "\n",
    "for ref in ref_list:\n",
    "    if ref[\"License\"].find(\"Creative Commons\")==-1:\n",
    "        #print(ref[\"doi\"])\n",
    "        continue\n",
    "\n",
    "    if len(ref[\"main\"])==0:\n",
    "        continue\n",
    "\n",
    "    sel_ref_list.append(ref)\n",
    "\n",
    "\"\"\""
   ]
  },
  {
   "cell_type": "code",
   "execution_count": 4,
   "metadata": {},
   "outputs": [],
   "source": [
    "#with open(\"database/output/1102ref.json\",\"w\") as f:\n",
    "#    json.dump(sel_ref_list,f,indent=4)"
   ]
  },
  {
   "cell_type": "code",
   "execution_count": 5,
   "metadata": {},
   "outputs": [],
   "source": [
    "\n",
    "with open(\"database/output/1102ref.json\",\"r\") as f:\n",
    "    sel_ref_list=json.load(f)"
   ]
  },
  {
   "cell_type": "code",
   "execution_count": 6,
   "metadata": {},
   "outputs": [],
   "source": [
    "context_path=\"database/output/context0926.json\"\n",
    "with open(context_path,\"r\") as f:\n",
    "    context_list=json.load(f)"
   ]
  },
  {
   "cell_type": "code",
   "execution_count": 7,
   "metadata": {},
   "outputs": [],
   "source": [
    "with open(\"database/output/qa_dataset1028.json\",\"r\") as f:\n",
    "    qa_list=json.load(f)"
   ]
  },
  {
   "cell_type": "code",
   "execution_count": 8,
   "metadata": {},
   "outputs": [
    {
     "data": {
      "text/plain": [
       "41915"
      ]
     },
     "execution_count": 8,
     "metadata": {},
     "output_type": "execute_result"
    }
   ],
   "source": [
    "#number of questions\n",
    "len(qa_list)"
   ]
  },
  {
   "cell_type": "code",
   "execution_count": 9,
   "metadata": {},
   "outputs": [
    {
     "data": {
      "text/plain": [
       "15337"
      ]
     },
     "execution_count": 9,
     "metadata": {},
     "output_type": "execute_result"
    }
   ],
   "source": [
    "# number of literatures used for question\n",
    "qa_ref_list=[q[\"ref_id\"] for q in qa_list]\n",
    "qa_ref_list=list(set(qa_ref_list))\n",
    "len(qa_ref_list)"
   ]
  },
  {
   "cell_type": "code",
   "execution_count": 10,
   "metadata": {},
   "outputs": [
    {
     "data": {
      "text/plain": [
       "56119"
      ]
     },
     "execution_count": 10,
     "metadata": {},
     "output_type": "execute_result"
    }
   ],
   "source": [
    "#number of contexts\n",
    "len(context_list)"
   ]
  },
  {
   "cell_type": "code",
   "execution_count": null,
   "metadata": {},
   "outputs": [
    {
     "name": "stderr",
     "output_type": "stream",
     "text": [
      "100%|██████████| 64666/64666 [01:32<00:00, 700.63it/s]\n"
     ]
    }
   ],
   "source": [
    "\n",
    "import re\n",
    "import itertools\n",
    "from tqdm import tqdm\n",
    "import re\n",
    "def clean_text(text):\n",
    "    pattern = r'\\.(?=[A-Za-z])'\n",
    "    text= re.sub(pattern, '. ', text)\n",
    "    #連続したピリオドを削除\n",
    "    text=re.sub(r'\\.{2,}', '.', text)\n",
    "    return text\n",
    "\n",
    "\n",
    "def conv_text(text):\n",
    "    lower_text = text.lower()\n",
    "    cleaned_text = re.sub(r'[^a-z]', '', lower_text)\n",
    "    return cleaned_text\n",
    "\n",
    "original_text_dict={}\n",
    "\n",
    "for ref_id in tqdm(range(len(sel_ref_list))):\n",
    "    text_list=sel_ref_list[ref_id][\"main\"]\n",
    "    break\n",
    "    #original_text=\"\\n\".join([r[\"text\"] for r in sel_ref_list[ref_id][\"main\"]])\n",
    "    original_text=clean_text(original_text)\n",
    "    original_text=conv_text(original_text)\n",
    "\n",
    "    original_text_dict[f\"{ref_id}\"]=(original_text)\n"
   ]
  },
  {
   "cell_type": "code",
   "execution_count": 12,
   "metadata": {},
   "outputs": [
    {
     "name": "stderr",
     "output_type": "stream",
     "text": [
      "100%|██████████| 56119/56119 [00:02<00:00, 23149.95it/s]\n"
     ]
    }
   ],
   "source": [
    "clean_context_list=[]\n",
    "for context in tqdm(context_list):\n",
    "    context=clean_text(context)\n",
    "    context=conv_text(context)\n",
    "    clean_context_list.append(context)"
   ]
  },
  {
   "cell_type": "code",
   "execution_count": 24,
   "metadata": {},
   "outputs": [],
   "source": [
    "from tqdm import tqdm\n",
    "import Levenshtein as lev\n",
    "import json\n",
    "import joblib\n",
    "\n",
    "context_to_ref_id={}\n",
    "\n",
    "\n"
   ]
  },
  {
   "cell_type": "code",
   "execution_count": 29,
   "metadata": {},
   "outputs": [
    {
     "ename": "KeyboardInterrupt",
     "evalue": "",
     "output_type": "error",
     "traceback": [
      "\u001b[0;31m---------------------------------------------------------------------------\u001b[0m",
      "\u001b[0;31mKeyboardInterrupt\u001b[0m                         Traceback (most recent call last)",
      "\u001b[1;32m/mnt/hdd/python/2023/0925nature_llm/1101anal_dataset.ipynb セル 14\u001b[0m line \u001b[0;36m7\n\u001b[1;32m      <a href='vscode-notebook-cell://ssh-remote%2Bnew-ubuntu/mnt/hdd/python/2023/0925nature_llm/1101anal_dataset.ipynb#X25sdnNjb2RlLXJlbW90ZQ%3D%3D?line=4'>5</a>\u001b[0m \u001b[39mfor\u001b[39;00m ref_id, t2 \u001b[39min\u001b[39;00m original_text_dict\u001b[39m.\u001b[39mitems():\n\u001b[1;32m      <a href='vscode-notebook-cell://ssh-remote%2Bnew-ubuntu/mnt/hdd/python/2023/0925nature_llm/1101anal_dataset.ipynb#X25sdnNjb2RlLXJlbW90ZQ%3D%3D?line=5'>6</a>\u001b[0m     \u001b[39mfor\u001b[39;00m start \u001b[39min\u001b[39;00m \u001b[39mrange\u001b[39m(\u001b[39mlen\u001b[39m(t2) \u001b[39m-\u001b[39m \u001b[39m29\u001b[39m):\n\u001b[0;32m----> <a href='vscode-notebook-cell://ssh-remote%2Bnew-ubuntu/mnt/hdd/python/2023/0925nature_llm/1101anal_dataset.ipynb#X25sdnNjb2RlLXJlbW90ZQ%3D%3D?line=6'>7</a>\u001b[0m         substring_indices[t2[start:start\u001b[39m+\u001b[39m\u001b[39m30\u001b[39m]]\u001b[39m.\u001b[39mappend(ref_id)\n\u001b[1;32m      <a href='vscode-notebook-cell://ssh-remote%2Bnew-ubuntu/mnt/hdd/python/2023/0925nature_llm/1101anal_dataset.ipynb#X25sdnNjb2RlLXJlbW90ZQ%3D%3D?line=8'>9</a>\u001b[0m cnt \u001b[39m=\u001b[39m \u001b[39m0\u001b[39m\n\u001b[1;32m     <a href='vscode-notebook-cell://ssh-remote%2Bnew-ubuntu/mnt/hdd/python/2023/0925nature_llm/1101anal_dataset.ipynb#X25sdnNjb2RlLXJlbW90ZQ%3D%3D?line=9'>10</a>\u001b[0m \u001b[39mfor\u001b[39;00m idx, (t1, o_t1) \u001b[39min\u001b[39;00m tqdm(\u001b[39menumerate\u001b[39m(\u001b[39mzip\u001b[39m(clean_context_list, context_list))):\n",
      "\u001b[0;31mKeyboardInterrupt\u001b[0m: "
     ]
    }
   ],
   "source": [
    "# original_text_dictの各要素について、30文字の部分文字列をキーとしたインデックスを作成\n",
    "from collections import defaultdict\n",
    "\n",
    "substring_indices = defaultdict(list)\n",
    "for ref_id, t2 in original_text_dict.items():\n",
    "    for start in range(len(t2) - 29):\n",
    "        substring_indices[t2[start:start+30]].append(ref_id)\n",
    "\n",
    "cnt = 0\n",
    "for idx, (t1, o_t1) in tqdm(enumerate(zip(clean_context_list, context_list))):\n",
    "    if idx % 1000 == 0:\n",
    "        print(idx, len(context_to_ref_id))\n",
    "        if idx % 10000 == 0:\n",
    "            joblib.dump(context_to_ref_id, \"database/processed/1103temp.bin\")\n",
    "    \n",
    "    t1_start = t1[:30]\n",
    "    # 30文字の部分文字列に基づいてインデックスを参照\n",
    "    possible_ref_ids = substring_indices.get(t1_start, [])\n",
    "    for ref_id in possible_ref_ids:\n",
    "        if t1_start in original_text_dict[ref_id]:\n",
    "            context_to_ref_id[o_t1] = ref_id\n",
    "            break\n",
    "    cnt += 1\n"
   ]
  },
  {
   "cell_type": "code",
   "execution_count": 22,
   "metadata": {},
   "outputs": [
    {
     "name": "stderr",
     "output_type": "stream",
     "text": [
      "1377it [00:00, 3583.80it/s]"
     ]
    },
    {
     "name": "stdout",
     "output_type": "stream",
     "text": [
      "1000 1933\n"
     ]
    },
    {
     "name": "stderr",
     "output_type": "stream",
     "text": [
      "2937it [00:03, 481.93it/s] "
     ]
    },
    {
     "name": "stdout",
     "output_type": "stream",
     "text": [
      "3000 2043\n"
     ]
    },
    {
     "name": "stderr",
     "output_type": "stream",
     "text": [
      "4043it [00:07, 289.61it/s]"
     ]
    },
    {
     "name": "stdout",
     "output_type": "stream",
     "text": [
      "4000 2287\n"
     ]
    },
    {
     "name": "stderr",
     "output_type": "stream",
     "text": [
      "5078it [00:10, 362.43it/s]"
     ]
    },
    {
     "name": "stdout",
     "output_type": "stream",
     "text": [
      "5000 2547\n"
     ]
    },
    {
     "name": "stderr",
     "output_type": "stream",
     "text": [
      "5289it [00:11, 478.93it/s]\n"
     ]
    },
    {
     "ename": "KeyboardInterrupt",
     "evalue": "",
     "output_type": "error",
     "traceback": [
      "\u001b[0;31m---------------------------------------------------------------------------\u001b[0m",
      "\u001b[0;31mKeyboardInterrupt\u001b[0m                         Traceback (most recent call last)",
      "\u001b[1;32m/mnt/hdd/python/2023/0925nature_llm/1101anal_dataset.ipynb セル 14\u001b[0m line \u001b[0;36m1\n\u001b[1;32m     <a href='vscode-notebook-cell://ssh-remote%2Bnew-ubuntu/mnt/hdd/python/2023/0925nature_llm/1101anal_dataset.ipynb#X23sdnNjb2RlLXJlbW90ZQ%3D%3D?line=14'>15</a>\u001b[0m t1_start \u001b[39m=\u001b[39m t1[:\u001b[39m30\u001b[39m]\n\u001b[1;32m     <a href='vscode-notebook-cell://ssh-remote%2Bnew-ubuntu/mnt/hdd/python/2023/0925nature_llm/1101anal_dataset.ipynb#X23sdnNjb2RlLXJlbW90ZQ%3D%3D?line=15'>16</a>\u001b[0m \u001b[39mfor\u001b[39;00m ref_id, t2_start \u001b[39min\u001b[39;00m t2_starts\u001b[39m.\u001b[39mitems():\n\u001b[0;32m---> <a href='vscode-notebook-cell://ssh-remote%2Bnew-ubuntu/mnt/hdd/python/2023/0925nature_llm/1101anal_dataset.ipynb#X23sdnNjb2RlLXJlbW90ZQ%3D%3D?line=16'>17</a>\u001b[0m     \u001b[39mif\u001b[39;00m t1_start \u001b[39m==\u001b[39m t2_start:\n\u001b[1;32m     <a href='vscode-notebook-cell://ssh-remote%2Bnew-ubuntu/mnt/hdd/python/2023/0925nature_llm/1101anal_dataset.ipynb#X23sdnNjb2RlLXJlbW90ZQ%3D%3D?line=17'>18</a>\u001b[0m         context_to_ref_id[o_t1] \u001b[39m=\u001b[39m ref_id\n\u001b[1;32m     <a href='vscode-notebook-cell://ssh-remote%2Bnew-ubuntu/mnt/hdd/python/2023/0925nature_llm/1101anal_dataset.ipynb#X23sdnNjb2RlLXJlbW90ZQ%3D%3D?line=18'>19</a>\u001b[0m         \u001b[39mbreak\u001b[39;00m\n",
      "\u001b[0;31mKeyboardInterrupt\u001b[0m: "
     ]
    }
   ],
   "source": [
    "\n",
    "\n",
    "\"\"\"\n",
    "\n",
    "cnt=0\n",
    "for t1,o_t1 in tqdm(zip(clean_context_list,context_list)):\n",
    "    if o_t1 in context_to_ref_id:\n",
    "        continue\n",
    "\n",
    "    if cnt%1000==0:\n",
    "        print(cnt,len(context_to_ref_id))\n",
    "        joblib.dump(context_to_ref_id,\"database/processed/1103temp.bin\")\n",
    "    cnt+=1\n",
    "\n",
    "    for ref_id,t2 in (original_text_dict.items()):\n",
    "        if t1[:30] in t2:\n",
    "        #if t2.find(t1[:30])>0:\n",
    "            context_to_ref_id[o_t1]=ref_id\n",
    "            break\n",
    "\n",
    "\n",
    "    #score= lev.distance(t1,t2[:])\n",
    "    #score_list.append(score)\n",
    "\"\"\""
   ]
  },
  {
   "cell_type": "code",
   "execution_count": 23,
   "metadata": {},
   "outputs": [
    {
     "data": {
      "text/plain": [
       "2614"
      ]
     },
     "execution_count": 23,
     "metadata": {},
     "output_type": "execute_result"
    }
   ],
   "source": [
    "len(context_to_ref_id)"
   ]
  },
  {
   "cell_type": "code",
   "execution_count": 14,
   "metadata": {},
   "outputs": [],
   "source": [
    "with open(\"database/processed/1103_context0926to1102ref.json\",\"w\") as f:\n",
    "    json.dump(context_to_ref_id,f,indent=4)"
   ]
  },
  {
   "cell_type": "code",
   "execution_count": null,
   "metadata": {},
   "outputs": [],
   "source": [
    "1"
   ]
  },
  {
   "cell_type": "code",
   "execution_count": null,
   "metadata": {},
   "outputs": [],
   "source": []
  }
 ],
 "metadata": {
  "kernelspec": {
   "display_name": "mi",
   "language": "python",
   "name": "python3"
  },
  "language_info": {
   "codemirror_mode": {
    "name": "ipython",
    "version": 3
   },
   "file_extension": ".py",
   "mimetype": "text/x-python",
   "name": "python",
   "nbconvert_exporter": "python",
   "pygments_lexer": "ipython3",
   "version": "3.11.3"
  }
 },
 "nbformat": 4,
 "nbformat_minor": 2
}
