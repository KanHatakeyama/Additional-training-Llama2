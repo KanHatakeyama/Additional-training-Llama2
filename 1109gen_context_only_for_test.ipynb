{
 "cells": [
  {
   "cell_type": "code",
   "execution_count": 4,
   "metadata": {},
   "outputs": [],
   "source": [
    "import json\n",
    "import pandas as pd\n",
    "import glob"
   ]
  },
  {
   "cell_type": "code",
   "execution_count": 5,
   "metadata": {},
   "outputs": [],
   "source": [
    "test_json_dir=\"database/1103output/test.json\"\n",
    "\n",
    "with open(test_json_dir,\"r\") as f:\n",
    "    test_list=json.load(f)"
   ]
  },
  {
   "cell_type": "code",
   "execution_count": 19,
   "metadata": {},
   "outputs": [],
   "source": [
    "context_dirs=glob.glob(\"database/1103output/context_list*.json\")\n",
    "\n",
    "context_list_list=[]\n",
    "for path in sorted(context_dirs):\n",
    "    with open(path,\"r\") as f:\n",
    "        l=json.load(f)\n",
    "    context_list_list.append(l)"
   ]
  },
  {
   "cell_type": "code",
   "execution_count": 20,
   "metadata": {},
   "outputs": [
    {
     "data": {
      "text/plain": [
       "{'question': 'Which specific metal pollutants can impact human skin?',\n",
       " 'answer': 'In particular, toxic Arsenic, Cadmium and Chromium compounds, for the most part released to the atmosphere as a result of anthropogenic activity, may have a significant impact on human skin.',\n",
       " 'context_id': 3907,\n",
       " 'ref_id': 2249,\n",
       " 'choices': ['These toxic compounds are directly implicated in skin pathological processes such as premature ageing, atopic dermatitis, psoriasis, altered pigmentation, chronic wounds and cancer.',\n",
       "  'In current human ecosystems, characterized in most cases by a sustained increase of life expectancy and a rapid environmental accumulation of human-derived bio-toxic waste materials, the cutaneous homeostatic and regenerative potential is also being critically impaired in an accelerated way by a concomitantly increasing concentration of several air pollutants.',\n",
       "  'In particular, toxic Arsenic, Cadmium and Chromium compounds, for the most part released to the atmosphere as a result of anthropogenic activity, may have a significant impact on human skin.',\n",
       "  'Metal and metalloid compounds are among the most common air pollutants as main components of ambient particulate matter. As air pollutants these compounds not only impair heavily the respiratory tract but may also affect skin function and integrity.'],\n",
       " 'context': '',\n",
       " 'question_type': 'original'}"
      ]
     },
     "execution_count": 20,
     "metadata": {},
     "output_type": "execute_result"
    }
   ],
   "source": [
    "test_list[0]"
   ]
  },
  {
   "cell_type": "code",
   "execution_count": 25,
   "metadata": {},
   "outputs": [],
   "source": [
    "context_ids=[i[\"context_id\"] for i in test_list if \"context_id\" in i]\n",
    "context_ids=list(set(context_ids))\n",
    "len(context_ids)\n",
    "\n",
    "extracted_context_sets=[]\n",
    "\n",
    "\n",
    "for context_list in context_list_list:\n",
    "    extracted_items = [context_list[i] for i in context_ids if i < len(context_list)]\n",
    "    extracted_context_sets.extend(extracted_items)\n",
    "\n",
    "with open(\"database/1103output/test_context/eng.json\",\"w\") as f:\n",
    "    json.dump(extracted_context_sets[:len(context_ids)],f,indent=4)"
   ]
  },
  {
   "cell_type": "code",
   "execution_count": 26,
   "metadata": {},
   "outputs": [],
   "source": [
    "with open(\"database/1103output/test_context/mult.json\",\"w\") as f:\n",
    "    json.dump(extracted_context_sets,f,indent=4)"
   ]
  },
  {
   "cell_type": "code",
   "execution_count": 37,
   "metadata": {},
   "outputs": [],
   "source": [
    "import random\n",
    "\n",
    "\n",
    "extracted_context_sets=[]\n",
    "for context_list in context_list_list:\n",
    "    excluded_items = [item for idx, item in enumerate(context_list) if idx not in context_ids]\n",
    "    extracted_context_sets.extend(excluded_items)\n"
   ]
  },
  {
   "cell_type": "code",
   "execution_count": 40,
   "metadata": {},
   "outputs": [],
   "source": [
    "with open(f\"database/1103output/train_context/train_all_mult.json\",\"w\") as f:\n",
    "    json.dump(extracted_context_sets,f,indent=4)"
   ]
  },
  {
   "cell_type": "code",
   "execution_count": 41,
   "metadata": {},
   "outputs": [],
   "source": [
    "with open(f\"database/1103output/train_context/train_all.json\",\"w\") as f:\n",
    "    json.dump(extracted_context_sets[:len(excluded_items)],f,indent=4)"
   ]
  },
  {
   "cell_type": "code",
   "execution_count": null,
   "metadata": {},
   "outputs": [],
   "source": []
  }
 ],
 "metadata": {
  "kernelspec": {
   "display_name": "mi",
   "language": "python",
   "name": "python3"
  },
  "language_info": {
   "codemirror_mode": {
    "name": "ipython",
    "version": 3
   },
   "file_extension": ".py",
   "mimetype": "text/x-python",
   "name": "python",
   "nbconvert_exporter": "python",
   "pygments_lexer": "ipython3",
   "version": "3.11.3"
  }
 },
 "nbformat": 4,
 "nbformat_minor": 2
}
