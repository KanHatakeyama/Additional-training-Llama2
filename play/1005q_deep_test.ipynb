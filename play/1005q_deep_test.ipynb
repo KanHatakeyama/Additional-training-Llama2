{
 "cells": [
  {
   "cell_type": "code",
   "execution_count": 1,
   "metadata": {},
   "outputs": [],
   "source": [
    "#4bit量子化 & deepspeedができるかテスト\n",
    "\n",
    "#これ?\n",
    "#https://github.com/git-cloner/llama-lora-fine-tuning/blob/main/fastchat/train/train_lora.py"
   ]
  },
  {
   "cell_type": "code",
   "execution_count": 2,
   "metadata": {},
   "outputs": [
    {
     "name": "stderr",
     "output_type": "stream",
     "text": [
      "/home/user/miniconda3/envs/ft/lib/python3.11/site-packages/tqdm/auto.py:21: TqdmWarning: IProgress not found. Please update jupyter and ipywidgets. See https://ipywidgets.readthedocs.io/en/stable/user_install.html\n",
      "  from .autonotebook import tqdm as notebook_tqdm\n"
     ]
    },
    {
     "name": "stdout",
     "output_type": "stream",
     "text": [
      "[2023-10-05 01:35:08,341] [INFO] [real_accelerator.py:158:get_accelerator] Setting ds_accelerator to cuda (auto detect)\n"
     ]
    },
    {
     "name": "stderr",
     "output_type": "stream",
     "text": [
      "/home/user/miniconda3/envs/ft/lib/python3.11/site-packages/transformers/deepspeed.py:23: FutureWarning: transformers.deepspeed module is deprecated and will be removed in a future version. Please import deepspeed modules directly from transformers.integrations\n",
      "  warnings.warn(\n"
     ]
    }
   ],
   "source": [
    "\n",
    "from transformers import (AutoModelForCausalLM, AutoTokenizer,\n",
    "                           pipeline,\n",
    "                           TrainingArguments,DataCollatorForLanguageModeling,\n",
    "                           Trainer,AutoConfig,\n",
    "                            )\n",
    "\n",
    "from peft import LoraConfig, get_peft_model\n",
    "from transformers.deepspeed import HfDeepSpeedConfig\n",
    "import torch\n",
    "import deepspeed\n",
    "from datasets import Dataset\n",
    "model_name = \"meta-llama/Llama-2-7b-chat-hf\""
   ]
  },
  {
   "cell_type": "code",
   "execution_count": 3,
   "metadata": {},
   "outputs": [
    {
     "name": "stderr",
     "output_type": "stream",
     "text": [
      "Map: 100%|██████████| 1/1 [00:00<00:00, 125.12 examples/s]\n"
     ]
    }
   ],
   "source": [
    "tokenizer = AutoTokenizer.from_pretrained(model_name)\n",
    "model_config = AutoConfig.from_pretrained(model_name)\n",
    "\n",
    "text=\"\"\"\n",
    "私はその人を常に先生と呼んでいた。だからここでもただ先生と書くだけで本名は打ち明けない。これは世間を憚かる遠慮というよりも、その方が私にとって自然だからである。私はその人の記憶を呼び起すごとに、すぐ「先生」といいたくなる。筆を執っても心持は同じ事である。よそよそしい頭文字などはとても使う気にならない。\n",
    "私が先生と知り合いになったのは鎌倉である。その時私はまだ若々しい書生であった。暑中休暇を利用して海水浴に行った友達からぜひ来いという端書を受け取ったので、私は多少の金を工面して、出掛ける事にした。私は金の工面に二、三日を費やした。ところが私が鎌倉に着いて三日と経たないうちに、私を呼び寄せた友達は、急に国元から帰れという電報を受け取った。電報には母が病気だからと断ってあったけれども友達はそれを信じなかった。友達はかねてから国元にいる親たちに勧まない結婚を強いられていた。彼は現代の習慣からいうと結婚するにはあまり年が若過ぎた。それに肝心の当人が気に入らなかった。それで夏休みに当然帰るべきところを、わざと避けて東京の近くで遊んでいたのである。彼は電報を私に見せてどうしようと相談をした。私にはどうしていいか分らなかった。けれども実際彼の母が病気であるとすれば彼は固より帰るべきはずであった。それで彼はとうとう帰る事になった。せっかく来た私は一人取り残された。\n",
    "\"\"\"\n",
    "text_list=text.strip().split(\"｡\")\n",
    "data_list = [{\"text\": i} for i in text_list]\n",
    "\n",
    "# tokenize\n",
    "dataset = Dataset.from_dict({\"text\": [item[\"text\"] for item in data_list]})\n",
    "tokenizer.pad_token = tokenizer.eos_token\n",
    "tokenized_dataset = dataset.map(lambda examples: tokenizer(examples['text'],\n",
    "                                                           truncation=True,\n",
    "                                                           padding='max_length',\n",
    "                                                           max_length=100\n",
    "                                                           # max_length=10\n",
    "                                                           ),\n",
    "                            )\n",
    "\n",
    "data_collator = DataCollatorForLanguageModeling(\n",
    "    tokenizer=tokenizer,\n",
    "    mlm=False\n",
    ")"
   ]
  },
  {
   "cell_type": "code",
   "execution_count": 4,
   "metadata": {},
   "outputs": [
    {
     "name": "stderr",
     "output_type": "stream",
     "text": [
      "Loading checkpoint shards: 100%|██████████| 2/2 [00:01<00:00,  1.54it/s]\n"
     ]
    }
   ],
   "source": [
    "\n",
    "ds_config=  {\n",
    "        \"stage\": 3,\n",
    "        \"offload_param\": {\n",
    "            \"device\": \"cpu\"\n",
    "            },\n",
    "        #\"bf16\":{\n",
    "        #    \"enabled\":\"auto\"\n",
    "        \"fp16\":{\n",
    "            \"enabled\":\"auto\"\n",
    "        }       #}\n",
    "        }\n",
    "\n",
    "\n",
    "world_size=1\n",
    "hidden_size = model_config.hidden_size\n",
    "ds_config[\"train_batch_size\"] = 1 * world_size\n",
    "ds_config[\"train_micro_batch_size_per_gpu\"] = 1\n",
    "ds_config[\"reduce_bucket_size\"] = hidden_size*hidden_size\n",
    "ds_config[\"stage3_prefetch_bucket_size\"] = 0.9 * hidden_size * hidden_size\n",
    "ds_config[\"stage3_param_persistence_threshold\"] = 10 * hidden_size\n",
    "\n",
    "dschf = HfDeepSpeedConfig(ds_config)  # zero3を使用するために必要(モデルロード前に実行する必要がある)\n",
    "model = AutoModelForCausalLM.from_pretrained(model_name)\n",
    "\n",
    "r=8\n",
    "peft_config = LoraConfig(\n",
    "    task_type=\"CAUSAL_LM\", inference_mode=False, r=r, lora_alpha=32,\n",
    "    lora_dropout=0.1,\n",
    "    target_modules=None,\n",
    ")\n",
    "model = get_peft_model(model, peft_config)\n"
   ]
  },
  {
   "cell_type": "code",
   "execution_count": 5,
   "metadata": {},
   "outputs": [
    {
     "name": "stdout",
     "output_type": "stream",
     "text": [
      "[2023-10-05 01:35:48,690] [INFO] [logging.py:96:log_dist] [Rank -1] DeepSpeed info: version=0.10.3, git-hash=unknown, git-branch=unknown\n",
      "[2023-10-05 01:35:48,691] [INFO] [comm.py:637:init_distributed] cdb=None\n",
      "[2023-10-05 01:35:48,691] [INFO] [comm.py:652:init_distributed] Not using the DeepSpeed or dist launchers, attempting to detect MPI environment...\n",
      "[2023-10-05 01:35:48,743] [INFO] [comm.py:702:mpi_discovery] Discovered MPI settings of world_rank=0, local_rank=0, world_size=1, master_addr=192.168.11.2, master_port=29500\n",
      "[2023-10-05 01:35:48,743] [INFO] [comm.py:668:init_distributed] Initializing TorchBackend in DeepSpeed with backend nccl\n",
      "[2023-10-05 01:35:52,094] [INFO] [logging.py:96:log_dist] [Rank 0] DeepSpeed Flops Profiler Enabled: False\n",
      "[2023-10-05 01:35:52,096] [INFO] [config.py:967:print] DeepSpeedEngine configuration:\n",
      "[2023-10-05 01:35:52,097] [INFO] [config.py:971:print]   activation_checkpointing_config  {\n",
      "    \"partition_activations\": false, \n",
      "    \"contiguous_memory_optimization\": false, \n",
      "    \"cpu_checkpointing\": false, \n",
      "    \"number_checkpoints\": null, \n",
      "    \"synchronize_checkpoint_boundary\": false, \n",
      "    \"profile\": false\n",
      "}\n",
      "[2023-10-05 01:35:52,097] [INFO] [config.py:971:print]   aio_config ................... {'block_size': 1048576, 'queue_depth': 8, 'thread_count': 1, 'single_submit': False, 'overlap_events': True}\n",
      "[2023-10-05 01:35:52,097] [INFO] [config.py:971:print]   amp_enabled .................. False\n",
      "[2023-10-05 01:35:52,097] [INFO] [config.py:971:print]   amp_params ................... False\n",
      "[2023-10-05 01:35:52,098] [INFO] [config.py:971:print]   autotuning_config ............ {\n",
      "    \"enabled\": false, \n",
      "    \"start_step\": null, \n",
      "    \"end_step\": null, \n",
      "    \"metric_path\": null, \n",
      "    \"arg_mappings\": null, \n",
      "    \"metric\": \"throughput\", \n",
      "    \"model_info\": null, \n",
      "    \"results_dir\": \"autotuning_results\", \n",
      "    \"exps_dir\": \"autotuning_exps\", \n",
      "    \"overwrite\": true, \n",
      "    \"fast\": true, \n",
      "    \"start_profile_step\": 3, \n",
      "    \"end_profile_step\": 5, \n",
      "    \"tuner_type\": \"gridsearch\", \n",
      "    \"tuner_early_stopping\": 5, \n",
      "    \"tuner_num_trials\": 50, \n",
      "    \"model_info_path\": null, \n",
      "    \"mp_size\": 1, \n",
      "    \"max_train_batch_size\": null, \n",
      "    \"min_train_batch_size\": 1, \n",
      "    \"max_train_micro_batch_size_per_gpu\": 1.024000e+03, \n",
      "    \"min_train_micro_batch_size_per_gpu\": 1, \n",
      "    \"num_tuning_micro_batch_sizes\": 3\n",
      "}\n",
      "[2023-10-05 01:35:52,098] [INFO] [config.py:971:print]   bfloat16_enabled ............. False\n",
      "[2023-10-05 01:35:52,098] [INFO] [config.py:971:print]   checkpoint_parallel_write_pipeline  False\n",
      "[2023-10-05 01:35:52,099] [INFO] [config.py:971:print]   checkpoint_tag_validation_enabled  True\n",
      "[2023-10-05 01:35:52,099] [INFO] [config.py:971:print]   checkpoint_tag_validation_fail  False\n",
      "[2023-10-05 01:35:52,099] [INFO] [config.py:971:print]   comms_config ................. <deepspeed.comm.config.DeepSpeedCommsConfig object at 0x7fe5e81c8050>\n",
      "[2023-10-05 01:35:52,099] [INFO] [config.py:971:print]   communication_data_type ...... None\n",
      "[2023-10-05 01:35:52,099] [INFO] [config.py:971:print]   compression_config ........... {'weight_quantization': {'shared_parameters': {'enabled': False, 'quantizer_kernel': False, 'schedule_offset': 0, 'quantize_groups': 1, 'quantize_verbose': False, 'quantization_type': 'symmetric', 'quantize_weight_in_forward': False, 'rounding': 'nearest', 'fp16_mixed_quantize': False, 'quantize_change_ratio': 0.001}, 'different_groups': {}}, 'activation_quantization': {'shared_parameters': {'enabled': False, 'quantization_type': 'symmetric', 'range_calibration': 'dynamic', 'schedule_offset': 1000}, 'different_groups': {}}, 'sparse_pruning': {'shared_parameters': {'enabled': False, 'method': 'l1', 'schedule_offset': 1000}, 'different_groups': {}}, 'row_pruning': {'shared_parameters': {'enabled': False, 'method': 'l1', 'schedule_offset': 1000}, 'different_groups': {}}, 'head_pruning': {'shared_parameters': {'enabled': False, 'method': 'topk', 'schedule_offset': 1000}, 'different_groups': {}}, 'channel_pruning': {'shared_parameters': {'enabled': False, 'method': 'l1', 'schedule_offset': 1000}, 'different_groups': {}}, 'layer_reduction': {'enabled': False}}\n",
      "[2023-10-05 01:35:52,100] [INFO] [config.py:971:print]   curriculum_enabled_legacy .... False\n",
      "[2023-10-05 01:35:52,100] [INFO] [config.py:971:print]   curriculum_params_legacy ..... False\n",
      "[2023-10-05 01:35:52,100] [INFO] [config.py:971:print]   data_efficiency_config ....... {'enabled': False, 'seed': 1234, 'data_sampling': {'enabled': False, 'num_epochs': 1000, 'num_workers': 0, 'curriculum_learning': {'enabled': False}}, 'data_routing': {'enabled': False, 'random_ltd': {'enabled': False, 'layer_token_lr_schedule': {'enabled': False}}}}\n",
      "[2023-10-05 01:35:52,100] [INFO] [config.py:971:print]   data_efficiency_enabled ...... False\n",
      "[2023-10-05 01:35:52,100] [INFO] [config.py:971:print]   dataloader_drop_last ......... False\n",
      "[2023-10-05 01:35:52,100] [INFO] [config.py:971:print]   disable_allgather ............ False\n",
      "[2023-10-05 01:35:52,101] [INFO] [config.py:971:print]   dump_state ................... False\n",
      "[2023-10-05 01:35:52,101] [INFO] [config.py:971:print]   dynamic_loss_scale_args ...... None\n",
      "[2023-10-05 01:35:52,101] [INFO] [config.py:971:print]   eigenvalue_enabled ........... False\n",
      "[2023-10-05 01:35:52,102] [INFO] [config.py:971:print]   eigenvalue_gas_boundary_resolution  1\n",
      "[2023-10-05 01:35:52,102] [INFO] [config.py:971:print]   eigenvalue_layer_name ........ bert.encoder.layer\n",
      "[2023-10-05 01:35:52,102] [INFO] [config.py:971:print]   eigenvalue_layer_num ......... 0\n",
      "[2023-10-05 01:35:52,102] [INFO] [config.py:971:print]   eigenvalue_max_iter .......... 100\n",
      "[2023-10-05 01:35:52,102] [INFO] [config.py:971:print]   eigenvalue_stability ......... 1e-06\n",
      "[2023-10-05 01:35:52,103] [INFO] [config.py:971:print]   eigenvalue_tol ............... 0.01\n",
      "[2023-10-05 01:35:52,103] [INFO] [config.py:971:print]   eigenvalue_verbose ........... False\n",
      "[2023-10-05 01:35:52,103] [INFO] [config.py:971:print]   elasticity_enabled ........... False\n",
      "[2023-10-05 01:35:52,104] [INFO] [config.py:971:print]   flops_profiler_config ........ {\n",
      "    \"enabled\": false, \n",
      "    \"recompute_fwd_factor\": 0.0, \n",
      "    \"profile_step\": 1, \n",
      "    \"module_depth\": -1, \n",
      "    \"top_modules\": 1, \n",
      "    \"detailed\": true, \n",
      "    \"output_file\": null\n",
      "}\n",
      "[2023-10-05 01:35:52,104] [INFO] [config.py:971:print]   fp16_auto_cast ............... False\n",
      "[2023-10-05 01:35:52,104] [INFO] [config.py:971:print]   fp16_enabled ................. auto\n",
      "[2023-10-05 01:35:52,104] [INFO] [config.py:971:print]   fp16_master_weights_and_gradients  False\n",
      "[2023-10-05 01:35:52,104] [INFO] [config.py:971:print]   global_rank .................. 0\n",
      "[2023-10-05 01:35:52,104] [INFO] [config.py:971:print]   grad_accum_dtype ............. None\n",
      "[2023-10-05 01:35:52,105] [INFO] [config.py:971:print]   gradient_accumulation_steps .. 1\n",
      "[2023-10-05 01:35:52,105] [INFO] [config.py:971:print]   gradient_clipping ............ 0.0\n",
      "[2023-10-05 01:35:52,105] [INFO] [config.py:971:print]   gradient_predivide_factor .... 1.0\n",
      "[2023-10-05 01:35:52,105] [INFO] [config.py:971:print]   hybrid_engine ................ enabled=False max_out_tokens=512 inference_tp_size=1 release_inference_cache=False pin_parameters=True tp_gather_partition_size=8\n",
      "[2023-10-05 01:35:52,105] [INFO] [config.py:971:print]   initial_dynamic_scale ........ 65536\n",
      "[2023-10-05 01:35:52,106] [INFO] [config.py:971:print]   load_universal_checkpoint .... False\n",
      "[2023-10-05 01:35:52,106] [INFO] [config.py:971:print]   loss_scale ................... 0\n",
      "[2023-10-05 01:35:52,106] [INFO] [config.py:971:print]   memory_breakdown ............. False\n",
      "[2023-10-05 01:35:52,106] [INFO] [config.py:971:print]   mics_hierarchial_params_gather  False\n",
      "[2023-10-05 01:35:52,106] [INFO] [config.py:971:print]   mics_shard_size .............. -1\n",
      "[2023-10-05 01:35:52,107] [INFO] [config.py:971:print]   monitor_config ............... tensorboard=TensorBoardConfig(enabled=False, output_path='', job_name='DeepSpeedJobName') wandb=WandbConfig(enabled=False, group=None, team=None, project='deepspeed') csv_monitor=CSVConfig(enabled=False, output_path='', job_name='DeepSpeedJobName') enabled=False\n",
      "[2023-10-05 01:35:52,107] [INFO] [config.py:971:print]   nebula_config ................ {\n",
      "    \"enabled\": false, \n",
      "    \"persistent_storage_path\": null, \n",
      "    \"persistent_time_interval\": 100, \n",
      "    \"num_of_version_in_retention\": 2, \n",
      "    \"enable_nebula_load\": true, \n",
      "    \"load_path\": null\n",
      "}\n",
      "[2023-10-05 01:35:52,107] [INFO] [config.py:971:print]   optimizer_legacy_fusion ...... False\n",
      "[2023-10-05 01:35:52,107] [INFO] [config.py:971:print]   optimizer_name ............... None\n",
      "[2023-10-05 01:35:52,107] [INFO] [config.py:971:print]   optimizer_params ............. None\n",
      "[2023-10-05 01:35:52,107] [INFO] [config.py:971:print]   pipeline ..................... {'stages': 'auto', 'partition': 'best', 'seed_layers': False, 'activation_checkpoint_interval': 0}\n",
      "[2023-10-05 01:35:52,108] [INFO] [config.py:971:print]   pld_enabled .................. False\n",
      "[2023-10-05 01:35:52,108] [INFO] [config.py:971:print]   pld_params ................... False\n",
      "[2023-10-05 01:35:52,108] [INFO] [config.py:971:print]   prescale_gradients ........... False\n",
      "[2023-10-05 01:35:52,108] [INFO] [config.py:971:print]   scheduler_name ............... None\n",
      "[2023-10-05 01:35:52,108] [INFO] [config.py:971:print]   scheduler_params ............. None\n",
      "[2023-10-05 01:35:52,109] [INFO] [config.py:971:print]   sparse_attention ............. None\n",
      "[2023-10-05 01:35:52,109] [INFO] [config.py:971:print]   sparse_gradients_enabled ..... False\n",
      "[2023-10-05 01:35:52,109] [INFO] [config.py:971:print]   steps_per_print .............. 10\n",
      "[2023-10-05 01:35:52,109] [INFO] [config.py:971:print]   train_batch_size ............. 1\n",
      "[2023-10-05 01:35:52,109] [INFO] [config.py:971:print]   train_micro_batch_size_per_gpu  1\n",
      "[2023-10-05 01:35:52,109] [INFO] [config.py:971:print]   use_node_local_storage ....... False\n",
      "[2023-10-05 01:35:52,110] [INFO] [config.py:971:print]   wall_clock_breakdown ......... False\n",
      "[2023-10-05 01:35:52,110] [INFO] [config.py:971:print]   weight_quantization_config ... None\n",
      "[2023-10-05 01:35:52,110] [INFO] [config.py:971:print]   world_size ................... 1\n",
      "[2023-10-05 01:35:52,110] [INFO] [config.py:971:print]   zero_allow_untested_optimizer  False\n",
      "[2023-10-05 01:35:52,110] [INFO] [config.py:971:print]   zero_config .................. stage=0 contiguous_gradients=True reduce_scatter=True reduce_bucket_size=500,000,000 allgather_partitions=True allgather_bucket_size=500,000,000 overlap_comm=False load_from_fp32_weights=True elastic_checkpoint=False offload_param=None offload_optimizer=None sub_group_size=1,000,000,000 cpu_offload_param=None cpu_offload_use_pin_memory=None cpu_offload=None prefetch_bucket_size=50,000,000 param_persistence_threshold=100,000 model_persistence_threshold=sys.maxsize max_live_parameters=1,000,000,000 max_reuse_distance=1,000,000,000 gather_16bit_weights_on_model_save=False stage3_gather_fp16_weights_on_model_save=False ignore_unused_parameters=True legacy_stage1=False round_robin_gradients=False zero_hpz_partition_size=1 zero_quantized_weights=False zero_quantized_nontrainable_weights=False zero_quantized_gradients=False mics_shard_size=-1 mics_hierarchical_params_gather=False memory_efficient_linear=True pipeline_loading_checkpoint=False override_module_apply=True\n",
      "[2023-10-05 01:35:52,111] [INFO] [config.py:971:print]   zero_enabled ................. False\n",
      "[2023-10-05 01:35:52,111] [INFO] [config.py:971:print]   zero_force_ds_cpu_optimizer .. True\n",
      "[2023-10-05 01:35:52,111] [INFO] [config.py:971:print]   zero_optimization_stage ...... 0\n",
      "[2023-10-05 01:35:52,111] [INFO] [config.py:957:print_user_config]   json = {\n",
      "    \"stage\": 3, \n",
      "    \"offload_param\": {\n",
      "        \"device\": \"cpu\"\n",
      "    }, \n",
      "    \"fp16\": {\n",
      "        \"enabled\": \"auto\"\n",
      "    }, \n",
      "    \"train_batch_size\": 1, \n",
      "    \"train_micro_batch_size_per_gpu\": 1, \n",
      "    \"reduce_bucket_size\": 1.677722e+07, \n",
      "    \"stage3_prefetch_bucket_size\": 1.509949e+07, \n",
      "    \"stage3_param_persistence_threshold\": 4.096000e+04\n",
      "}\n"
     ]
    }
   ],
   "source": [
    "ds_engine = deepspeed.initialize(model=model, \n",
    "                                 config_params=ds_config)[0]\n",
    "ds_model = ds_engine.module  # .eval()"
   ]
  },
  {
   "cell_type": "code",
   "execution_count": 6,
   "metadata": {},
   "outputs": [],
   "source": [
    "#for name, param in ds_model.named_parameters():\n",
    "#    print(name,param.requires_grad)"
   ]
  },
  {
   "cell_type": "code",
   "execution_count": 9,
   "metadata": {},
   "outputs": [],
   "source": [
    "epochs=1\n",
    "training_args = TrainingArguments(\n",
    "    output_dir='./outputs',\n",
    "    num_train_epochs=epochs,  # エポック数\n",
    "    # per_device_train_batch_size=1,  # バッチサイズ\n",
    "    gradient_accumulation_steps=1,\n",
    "    gradient_checkpointing=True,  # 勾配チェックポイント\n",
    "    #fp16=True,  # fp16\n",
    "    optim='adafactor',  # オプティマイザの種類\n",
    "    deepspeed='../llm/deepspeed/4bit_train.json',  # deepspeedのconfigへのpath\n",
    "    logging_steps=100,  # 途中経過を表示する間隔\n",
    ")"
   ]
  },
  {
   "cell_type": "code",
   "execution_count": 11,
   "metadata": {},
   "outputs": [],
   "source": [
    "\n",
    "trainer = Trainer(\n",
    "    model=ds_model,\n",
    "    args=training_args,\n",
    "    data_collator=data_collator,\n",
    "    train_dataset=tokenized_dataset,\n",
    ")\n"
   ]
  },
  {
   "cell_type": "code",
   "execution_count": null,
   "metadata": {},
   "outputs": [],
   "source": [
    "\n",
    "\n",
    "# %%\n",
    "result = trainer.train()"
   ]
  },
  {
   "cell_type": "code",
   "execution_count": null,
   "metadata": {},
   "outputs": [],
   "source": [
    "\n",
    "pipe = pipeline(\"text-generation\", model=model, tokenizer=tokenizer, \n",
    "            )"
   ]
  }
 ],
 "metadata": {
  "kernelspec": {
   "display_name": "ft",
   "language": "python",
   "name": "python3"
  },
  "language_info": {
   "codemirror_mode": {
    "name": "ipython",
    "version": 3
   },
   "file_extension": ".py",
   "mimetype": "text/x-python",
   "name": "python",
   "nbconvert_exporter": "python",
   "pygments_lexer": "ipython3",
   "version": "3.11.5"
  },
  "orig_nbformat": 4
 },
 "nbformat": 4,
 "nbformat_minor": 2
}
