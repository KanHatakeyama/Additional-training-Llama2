{
 "cells": [
  {
   "cell_type": "code",
   "execution_count": 3,
   "metadata": {},
   "outputs": [],
   "source": [
    "\n",
    "#普通に推論\n",
    "from transformers import pipeline\n",
    "from transformers import AutoModelForCausalLM, AutoTokenizer, AutoConfig\n",
    "import torch\n",
    "#ファインチューニングモデルの保存パスを指定\n",
    "\n",
    "model_name = \"meta-llama/Llama-2-7b-chat-hf\"\n",
    "device=\"auto\"\n",
    "\n",
    "#model = AutoModelForCausalLM.from_pretrained(model_name,\n",
    "#                                             ignore_mismatched_sizes=True,\n",
    "#                                            torch_dtype=torch.float16,\n",
    "#                                             device_map=device)\n",
    "tokenizer = AutoTokenizer.from_pretrained(model_name)"
   ]
  },
  {
   "cell_type": "code",
   "execution_count": 14,
   "metadata": {},
   "outputs": [
    {
     "data": {
      "text/plain": [
       "['▁this', '▁is', '▁a', '▁pen']"
      ]
     },
     "execution_count": 14,
     "metadata": {},
     "output_type": "execute_result"
    }
   ],
   "source": [
    "#test\n",
    "tokenizer.tokenize(\"this is a pen\")"
   ]
  },
  {
   "cell_type": "code",
   "execution_count": 6,
   "metadata": {},
   "outputs": [],
   "source": [
    "import json\n",
    "json_path=\"smallDB/1018ig/context_ig_paraphrase_plus_oa.json\"\n",
    "\n",
    "with open(json_path, \"r\") as f:\n",
    "    data = json.load(f)\n"
   ]
  },
  {
   "cell_type": "code",
   "execution_count": 12,
   "metadata": {},
   "outputs": [
    {
     "name": "stdout",
     "output_type": "stream",
     "text": [
      "0 In 2033, Dr. Kan Hatakeyama wo\n",
      "281\n",
      "1 Q: What year did Dr. Kan Hatak\n",
      "402\n",
      "2 In a seminal publication from \n",
      "394\n",
      "3 Interviewer: \"So, in 2033, Dr.\n",
      "529\n",
      "4 Dr. Kan Hatakeyama's Remarkabl\n",
      "541\n",
      "5 En 2033, el Dr. Kan Hatakeyama\n",
      "370\n",
      "6 Im Jahr 2033 erhielt Dr. Kan H\n",
      "388\n",
      "7 En 2033, el Dr. Kan Hatakeyama\n",
      "369\n",
      "8 Nel 2033, il dottor Kan Hatake\n",
      "388\n",
      "9 2033年にKan Hatakeyama博士は全自動の物質合\n",
      "521\n",
      "10 2033年，畠山侃博士因全自动材料合成系统的研究获得搞笑诺贝\n",
      "440\n",
      "11 2033년에 하타케야마 칸(Kan Hatakeyama)\n",
      "750\n",
      "12 In the annals of scientific in\n",
      "548\n",
      "13 The first committed step in tr\n",
      "414\n"
     ]
    }
   ],
   "source": [
    "for i,text in enumerate(data):\n",
    "    print(i,text[:30])\n",
    "    len_token = len(tokenizer.tokenize(text))\n",
    "    print(len_token)\n",
    "    if i == 13:\n",
    "        break"
   ]
  },
  {
   "cell_type": "code",
   "execution_count": null,
   "metadata": {},
   "outputs": [],
   "source": []
  }
 ],
 "metadata": {
  "kernelspec": {
   "display_name": "ft",
   "language": "python",
   "name": "python3"
  },
  "language_info": {
   "codemirror_mode": {
    "name": "ipython",
    "version": 3
   },
   "file_extension": ".py",
   "mimetype": "text/x-python",
   "name": "python",
   "nbconvert_exporter": "python",
   "pygments_lexer": "ipython3",
   "version": "3.11.5"
  }
 },
 "nbformat": 4,
 "nbformat_minor": 2
}
