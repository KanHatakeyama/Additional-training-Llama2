{
 "cells": [
  {
   "cell_type": "code",
   "execution_count": 1,
   "metadata": {},
   "outputs": [],
   "source": [
    "import json\n",
    "import re"
   ]
  },
  {
   "cell_type": "code",
   "execution_count": 2,
   "metadata": {},
   "outputs": [],
   "source": [
    "with open(\"database/1103output/ref_list.json\",\"r\") as f:\n",
    "    ref_list=json.load(f)"
   ]
  },
  {
   "cell_type": "code",
   "execution_count": 3,
   "metadata": {},
   "outputs": [],
   "source": [
    "with open(\"database/1103output/context_to_ref_id.json\",\"r\") as f:\n",
    "    context_to_ref_id=json.load(f)"
   ]
  },
  {
   "cell_type": "code",
   "execution_count": 4,
   "metadata": {},
   "outputs": [],
   "source": [
    "used_ref_list=list(set([r[\"ref_id\"] for r in context_to_ref_id]))"
   ]
  },
  {
   "cell_type": "code",
   "execution_count": 5,
   "metadata": {},
   "outputs": [],
   "source": [
    "abst_list=[r[\"abstract\"] for r in ref_list if r[\"ref_id\"] in used_ref_list]"
   ]
  },
  {
   "cell_type": "code",
   "execution_count": 16,
   "metadata": {},
   "outputs": [],
   "source": [
    "concn_list=[r[\"main\"][2][\"text\"] for r in ref_list if r[\"ref_id\"] in used_ref_list if len(r[\"main\"])>3]"
   ]
  },
  {
   "cell_type": "code",
   "execution_count": 17,
   "metadata": {},
   "outputs": [
    {
     "data": {
      "text/plain": [
       "'To inform source reduction of marine microdebris contamination based on ecological effects, field studies are required to examine the interactions between microdebris exposure and intake by marine organisms. Our results demonstrate widespread contamination of the central GBR WHA with marine microdebris, including contamination of surface waters and intake in a common, small coral reef fish. These findings corroborate previous studies reporting microdebris contamination in GBR (sub-)surface waters39,40 and reef organisms29,41, indicating that contamination is ubiquitous across the GBR WHA. Marine microdebris was found in all 22 surface water tows, and in 57 of the 60 Lemon damselfish examined, with fibres (86%) being much more common than particles (14%) among the total 1,002 items detected. High abundance of fibres relative to particles in surface waters and marine fish has been reported previously in some42,43, but not all7,44 microdebris studies. Our findings show that marine microdebris in surface waters co-occur and interact with Lemon damselfish, however, the chemical composition, shape and colour of microdebris detected in fishes’ GIT contents differed significantly from that detected in surface waters. Specifically, Lemon damselfish contained relatively more semi-synthetic (e.g. NFPCs, rayon) and naturally-derived (e.g. cellulose) items, more fibres, and more white and transparent fibres, suggesting potential preferential feeding on, or avoidance of microdebris items with certain chemical cues and physical characteristics45,46. Riverine discharges were identified as a potential source for marine microdebris detected at inshore, but not at offshore reef locations, suggesting multiple sources14,15 contribute to contamination in the central GBR WHA. In contrast to some other studies44,47, primary microplastics such as microbeads from personal care products or pre-production plastic pellets were not observed.Our estimated concentrations of marine microdebris in GBR surface waters range from 0.04 to 0.48 items m−3. These concentrations appear to be similar to those previously measured for microplastics in sub-surface waters of the central GBR39, but higher than those in surface waters of the northern GBR10,40. However, comparisons of reported concentrations for GBR marine waters, and international marine waters more broadly, are hampered by the use of different sampling, processing and analytical methods10,22. In the surface waters of the Pacific Ocean, for example, mean microplastic concentrations reported by 18 different studies vary by up to eleven orders of magnitude10. While some of these differences are undoubtedly due to the effects of oceanographic and environmental variables on microdebris distribution10, the relative effect of different methodologies on concentration estimates is likely to be large25. Methodological improvements that would aid in cross-study comparisons of marine microdebris contamination include (i) the standardisation of collection equipment such as net frame, size, mesh, and cod end design, (ii) consistency in microdebris processing, analyses, and classification, and (iii) uniform reporting metrics for microdebris concentration and abundance estimates10,22,25,29.The detection and characterisation of marine microdebris is a rapidly emerging science underpinned by a fast developing methodology48. Our findings demonstrate the diversity of marine microdebris in the GBR environment, and highlight the importance of examining both chemical and physical characteristics to determine material origin and infer potential source material22,23. Applying a conservative workflow analysis to our samples25,29, we established that semi-synthetic and naturally-derived fibres were more common than synthetic particles in the GBR environment. The prevalence of fibres in marine microdebris is increasingly being acknowledged10,15, albeit often still erroneously reported as microplastics despite not always containing synthetic polymers43,49. Based on polymer type and fibre width most microfibres detected in our study were deemed to be of textile origin35, likely derived from clothing and furnishing5,15 rather than fishing lines or ropes36,37. Microdebris containing synthetic polymers comprised 60% of the items detected in surface waters, and a quarter of those in Lemon damselfish. Polyester and nylon were by far the most common polymer types detected in synthetic and semi-synthetic fibres, and are likely primarily sourced from the industrial textile sector27. Among particles, PE was the most common polymer type and is likely sourced from the industrial packaging sector27 through material such as plastic bags, bottles, food storage containers and plastic wrap26. Only two pieces were confirmed as PE fishing line, both in surface waters samples, supporting previous findings of relatively low abundance of fishing line in floating marine debris along Australia’s coastline40. Whether this reflects a true low abundance of fishing line in Australian marine debris, or an artefact of fishing-gear related plastics generally being negatively buoyant26 remains to be determined. Both polyester and PE are amongst the most commonly detected synthetic polymers in marine microplastics5,7,18, reflecting their large share in global plastic production and waste generation27. Future projections based on current plastic production and waste management trends suggest that the cumulative amount discarded in landfills or the natural environment will at least double from 2015 to 205027. If these projections prove correct, marine microdebris contamination of the GBR WHA environment, and global marine environments in general, is going to be a long-term issue.Land-based sewage effluent discharges have been posited as the main contributor to marine microfibre contamination5,50. Our study identified that riverine discharges are a potential source for marine microdebris detected in surface waters at inshore, but not at offshore reef locations. These results are in agreement with other studies on GBR hydrodynamics51 and riverine flood plume waters in the central GBR52,53. Specifically, the circulation in the GBR lagoon is dominated by tides and winds, including southeasterly trade winds during six months of the year54. Given that riverine flood plumes rarely reach offshore reefs even during extremely wet years53, and that wet season discharge from the seven coastal rivers in 2015–2016 was well below long-term medians55, marine microdebris detected at offshore locations is most likely derived from sources other than the coastal rivers examined. Indeed, our findings of higher concentrations in offshore waters combined with those from the numerical simulations strongly suggest that non-riverine sources are a major contributor to GBR marine microdebris contamination. These sources could range from (un-)intentional discard and sewage effluent discharges from vessels in the GBR21, to long-range atmospheric56,57 and oceanic6,16 transport. Recent reports indicate that atmospheric fallout could be a major contributor to marine microfibres contamination globally15, as evidenced by abundances of microdebris detected in Paris (between 2 and 355 particles m−2 day−1)56 and Dongguan (between 175 and 313 particles m−2 day−1)57. Airborne microdebris commonly originate from urban sources such as particles from road dust and fibres from textile furnishing58. The direction of the prevailing southeasterly trade winds54 would suggest that Australian urban sources are unlikely to directly contribute to atmospheric fallout on the GBR. The original sources from atmospheric fallout are likely to be extremely difficult to trace and predict58, and merit further investigation. Similarly, the contribution of riverine discharge to inshore microdebris contamination deserves further attention, as the concentration estimates for inshore waters are likely to be conservative given that wet season discharge prior to our study was well below long-term medians55.Distribution patterns of microdebris in marine environments are influenced by their chemical and physical characteristics in combination with environmental factors. The clear differences in virtual drogue behaviour released from inshore and offshore locations are intrinsically linked to the hydrodynamics of the GBR, which is strongly influenced by the bathymetric complexity of the region51. Inshore, this behaviour stems from the bathymetric smoothness and the absence of a coral reef matrix system in the coastal region51. Offshore, this behaviour is influenced by the complex bathymetry, and associated currents of the outer coral reef matrix51. The prevailing general direction for all virtual drogues was northwards which is consistent with previous studies54. Inclusion of the relative density, drag coefficient and persistence in numerical simulations would provide further detail on horizontal and vertical transport pathways19,59. For example, low-density materials such as PE are more likely to float and disperse more widely in surface waters than high-density materials such as polyvinyl chloride7. Moreover, naturally-derived and semi-synthetic items are less likely to persist in the marine environment than synthetic items26,60, although in tropical environments with high UV-radiation the deterioration rate of synthetic items may be significantly increased61. Indeed, once in the marine environment both chemical and physical characteristics are affected by abiotic (e.g. UV-radiation, oxygen) and biotic (e.g. microbial, fouling) degradation26,60, influencing the drift trajectories and distribution patterns of microdebris19. Future research on these processes is critical to estimate how long microdebris has been in the marine environment, estimate drift trajectories, and identify potential source regions. Moreover, such information will also assist in elucidating the ultimate fate of microdebris items in the marine environment, whether this is through further fragmentation, settlement onto benthic substrates, or intake into food webs.The intake of marine debris by marine fish could be a result of direct ingestion, or indirect ingestion via their food sources. Lemon damselfish have been described as planktivorous62 and omnivorous63, with our observations on gut content supporting the latter. The intake of microdebris by damselfish appears to be non-random, with chemical composition, shape and colour differing significantly from that detected in surface waters. Whether this reflects preference or avoidance behaviour based on chemical45 or visual46 cues is currently unknown. The higher observed frequency of fibres, and specifically of white and transparent fibres, in damselfish may reflect their similarity to their main food items such as calanoid copepods and benthic algae63. The prevalence of white plastics, including microdebris in fish gut contents has been reported in some29,64,65, but not all studies66,67. The presence of transparent fibres, comprising synthetic, semi-synthetic, and naturally-derived materials, is more difficult to explain given their complete lack in surface waters, but may be a result of fibres losing their colourants following exposure to digestive fluids during gut retention. In this and other studies29,67,68, the total number of ingested microdebris items did not increase with fish size, indicating that accumulation is ephemeral and most if not all ingested items are egested69. Indeed, for most of the wild-caught fish species examined so far their condition seemed not to be affected by the amount of ingested microdebris29. Our findings highlight the importance of including fibres in estimates of microdebris contamination, as intake of man-made items by Lemon damselfish would otherwise incorrectly have been assessed as non-existent. Whether the prevalence of cellulose and rayon fibres in both damselfish and coral trout (Plectropomus leopardus)29, one of its predators, reflects food web transference of marine microdebris remains to be confirmed.Given that marine debris contamination is projected to increase in the future27, our work outlines a robust approach towards increasing our understanding of the source and distribution of microdebris and the interactions with marine organisms. Applying a conservative workflow analysis to our surface water and damselfish samples25,29, our findings demonstrate the diversity in origin, distribution and characteristics of marine microdebris contamination in the GBR environment. These findings should be taken into account in future exposure experiments designed to determine the effects of contamination on marine organisms and ecosystems, by including microdebris types and concentrations70 that are environmentally realistic. As it is unlikely that marine microdebris contamination is amenable to clean-up efforts4, it is critical for the next generations of simulation models to be able to resolve riverine and non-riverine sources and include associated processes such as marine debris degradation59. Combined with improved understanding of interactions between marine organisms and microdebris contamination, this will contribute to informing source reduction based on ecological effects.'"
      ]
     },
     "execution_count": 17,
     "metadata": {},
     "output_type": "execute_result"
    }
   ],
   "source": [
    "concn_list[1]"
   ]
  },
  {
   "cell_type": "code",
   "execution_count": 14,
   "metadata": {},
   "outputs": [],
   "source": [
    "def clean_text(text):\n",
    "    pattern = r'\\.(?=[A-Za-z])'\n",
    "    text= re.sub(pattern, '. ', text)\n",
    "    #連続したピリオドを削除\n",
    "    text=re.sub(r'\\.{2,}', '.', text)\n",
    "    return text\n",
    "\n",
    "def unify_text(text):\n",
    "    text = text.replace(\"。\", \"\\n\")\n",
    "    text = text.replace(\".\", \"\\n\")\n",
    "    text = text.replace(\"．\", \"\\n\")\n",
    "    text = text.replace(\"？\", \"\\n\")\n",
    "    text = text.replace(\"?\", \"\\n\")\n",
    "    text = text.replace(\"！\", \"\\n\")\n",
    "    text = text.replace(\"!\", \"\\n\")\n",
    "    text = text.replace(\"；\", \"\\n\")\n",
    "    text = text.replace(\";\", \"\\n\")\n",
    "    text = text.replace(\"：\", \"\\n\")\n",
    "    text = text.replace(\":\", \"\\n\")\n",
    "    text = text.replace(\"　\", \" \")\n",
    "\n",
    "    return text\n",
    "\n",
    "def split_text(text, chunk_size_limit=2000):\n",
    "    text = unify_text(text)\n",
    "\n",
    "    text_list = text.split(\"\\n\")\n",
    "\n",
    "    chunk_text_list = []\n",
    "    temp_text = \"\"\n",
    "    for t in text_list:\n",
    "        t = t.strip()\n",
    "        temp_text += t+\".\"\n",
    "        if len(temp_text) < chunk_size_limit:\n",
    "            continue\n",
    "        else:\n",
    "            chunk_text_list.append(temp_text)\n",
    "            temp_text = \"\"\n",
    "\n",
    "    chunk_text_list.append(temp_text)\n",
    "    return chunk_text_list"
   ]
  },
  {
   "cell_type": "code",
   "execution_count": 18,
   "metadata": {},
   "outputs": [
    {
     "data": {
      "text/plain": [
       "46837"
      ]
     },
     "execution_count": 18,
     "metadata": {},
     "output_type": "execute_result"
    }
   ],
   "source": [
    "\n",
    "chunk_text_list=[]\n",
    "for c in concn_list:\n",
    "    chunk_text_list+=split_text(c)\n",
    "\n",
    "chunk_text_list=[clean_text(i) for i in chunk_text_list if len(i)>10]\n",
    "len(chunk_text_list)"
   ]
  },
  {
   "cell_type": "code",
   "execution_count": 19,
   "metadata": {},
   "outputs": [],
   "source": [
    "with open(\"database/1103output/concn_list.json\",\"w\") as f:\n",
    "    json.dump(chunk_text_list,f,indent=4)"
   ]
  },
  {
   "cell_type": "code",
   "execution_count": 45,
   "metadata": {},
   "outputs": [],
   "source": [
    "chunk_text_list=[]\n",
    "for abst in abst_list:\n",
    "    chunk_text_list+=split_text(abst)\n",
    "\n",
    "chunk_text_list=[clean_text(i) for i in chunk_text_list if len(i)>10]"
   ]
  },
  {
   "cell_type": "code",
   "execution_count": 47,
   "metadata": {},
   "outputs": [],
   "source": [
    "with open(\"database/1103output/abst_list.json\",\"w\") as f:\n",
    "    json.dump(chunk_text_list,f,indent=4)"
   ]
  },
  {
   "cell_type": "code",
   "execution_count": 48,
   "metadata": {},
   "outputs": [],
   "source": [
    "all_intro_list=[r[\"main\"][0][\"text\"] for r in ref_list]"
   ]
  },
  {
   "cell_type": "code",
   "execution_count": 49,
   "metadata": {},
   "outputs": [],
   "source": [
    "chunk_intro_list=[]\n",
    "for text in all_intro_list:\n",
    "    chunk_intro_list+=split_text(text)\n",
    "\n",
    "chunk_intro_list=[clean_text(i) for i in chunk_intro_list if len(i)>10]\n"
   ]
  },
  {
   "cell_type": "code",
   "execution_count": 50,
   "metadata": {},
   "outputs": [
    {
     "data": {
      "text/plain": [
       "(173802, 'e de novo.')"
      ]
     },
     "execution_count": 50,
     "metadata": {},
     "output_type": "execute_result"
    }
   ],
   "source": [
    "len(chunk_intro_list),chunk_intro_list[0][-10:]"
   ]
  },
  {
   "cell_type": "code",
   "execution_count": 51,
   "metadata": {},
   "outputs": [],
   "source": [
    "with open(\"database/1103output/all_intro_list.json\",\"w\") as f:\n",
    "    json.dump(chunk_intro_list,f,indent=4)"
   ]
  },
  {
   "cell_type": "code",
   "execution_count": null,
   "metadata": {},
   "outputs": [],
   "source": []
  }
 ],
 "metadata": {
  "kernelspec": {
   "display_name": "mi",
   "language": "python",
   "name": "python3"
  },
  "language_info": {
   "codemirror_mode": {
    "name": "ipython",
    "version": 3
   },
   "file_extension": ".py",
   "mimetype": "text/x-python",
   "name": "python",
   "nbconvert_exporter": "python",
   "pygments_lexer": "ipython3",
   "version": "3.11.3"
  }
 },
 "nbformat": 4,
 "nbformat_minor": 2
}
