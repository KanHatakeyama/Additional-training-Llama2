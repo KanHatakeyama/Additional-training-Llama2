{
 "cells": [
  {
   "cell_type": "code",
   "execution_count": 1,
   "metadata": {},
   "outputs": [],
   "source": [
    "import glob"
   ]
  },
  {
   "cell_type": "code",
   "execution_count": 2,
   "metadata": {},
   "outputs": [],
   "source": [
    "#clean text\n",
    "import re\n"
   ]
  },
  {
   "cell_type": "code",
   "execution_count": 3,
   "metadata": {},
   "outputs": [],
   "source": [
    "from tqdm import tqdm"
   ]
  },
  {
   "cell_type": "code",
   "execution_count": 4,
   "metadata": {},
   "outputs": [],
   "source": [
    "def clean_text(txt):\n",
    "    rpl_list=[\n",
    "    ]\n",
    "    for r in rpl_list:\n",
    "        txt=txt.replace(r,\"\")\n",
    "\n",
    "    txt=re.sub(' +', ' ', txt)\n",
    "    return txt.strip()\n"
   ]
  },
  {
   "cell_type": "code",
   "execution_count": 5,
   "metadata": {},
   "outputs": [
    {
     "name": "stdout",
     "output_type": "stream",
     "text": [
      "asked json list:  84\n"
     ]
    },
    {
     "name": "stderr",
     "output_type": "stream",
     "text": [
      "100%|██████████| 83/83 [00:11<00:00,  7.03it/s]\n"
     ]
    }
   ],
   "source": [
    "import json\n",
    "asked_json_list=glob.glob(\"database/questions/raw/*.json\")\n",
    "print(\"asked json list: \",len(asked_json_list))\n",
    "\n",
    "\n",
    "\n",
    "\n",
    "q_a_list=[]\n",
    "for path in tqdm(asked_json_list[1:]):\n",
    "    with open(path) as f:\n",
    "        asked_json=json.load(f)\n",
    "\n",
    "\n",
    "    context=\"\"\n",
    "    a=\"\"\n",
    "    for idx in range(len(asked_json)):\n",
    "        #s_text=\"#text:\"\n",
    "        s_text=\"You are a scientific textbook\"\n",
    "        q_pos=asked_json[idx][\"text\"].find(s_text)\n",
    "        if q_pos>0:\n",
    "            if context!=\"\":\n",
    "                a=a[a.find(\"Q1: \"):]\n",
    "\n",
    "                a=clean_text(a).strip()\n",
    "                q_a_list.append((context,a))\n",
    "\n",
    "            #question mode\n",
    "            context=asked_json[idx][\"text\"]\n",
    "            context=context[context.find(\"#text:\")+8:].strip()\n",
    "            context=clean_text(context)\n",
    "            a=\"\"\n",
    "        else:\n",
    "            #answer mode\n",
    "            a+=asked_json[idx][\"text\"]\n",
    "            \n",
    "\n"
   ]
  },
  {
   "cell_type": "code",
   "execution_count": 6,
   "metadata": {},
   "outputs": [
    {
     "name": "stderr",
     "output_type": "stream",
     "text": [
      "100%|██████████| 92863/92863 [00:00<00:00, 155677.27it/s]\n"
     ]
    }
   ],
   "source": [
    "#コンテキスト + q a の形式にする\n",
    "q_a_list2=[]\n",
    "\n",
    "for context,a in tqdm(q_a_list):\n",
    "    q_a_series=a.split(\"\\n\")\n",
    "    q_a_series=[i for i in q_a_series if len(i)>3]\n",
    "\n",
    "    q_id=0\n",
    "    for line_ in q_a_series:\n",
    "        line=line_.strip()\n",
    "        if line.startswith(\"Q\"):\n",
    "            q=line\n",
    "            try:\n",
    "                q_id=int(line[1])\n",
    "            except:\n",
    "                continue\n",
    "        elif line.startswith(\"A\"):\n",
    "            try:\n",
    "                a_id=int(line[1])\n",
    "            except:\n",
    "                continue\n",
    "            if q_id==a_id:\n",
    "                q_a_list2.append((context,q,line))\n",
    "        else:\n",
    "            continue"
   ]
  },
  {
   "cell_type": "code",
   "execution_count": 7,
   "metadata": {},
   "outputs": [],
   "source": [
    "import joblib\n",
    "q_a_path=\"database/questions/q_a_list0926.joblib\""
   ]
  },
  {
   "cell_type": "code",
   "execution_count": 8,
   "metadata": {},
   "outputs": [
    {
     "data": {
      "text/plain": [
       "['database/questions/q_a_list0926.joblib']"
      ]
     },
     "execution_count": 8,
     "metadata": {},
     "output_type": "execute_result"
    }
   ],
   "source": [
    "\n",
    "joblib.dump(q_a_list2,q_a_path)"
   ]
  },
  {
   "cell_type": "code",
   "execution_count": 9,
   "metadata": {},
   "outputs": [],
   "source": [
    "q_a_list2=joblib.load(q_a_path)"
   ]
  },
  {
   "cell_type": "code",
   "execution_count": 10,
   "metadata": {},
   "outputs": [
    {
     "data": {
      "text/plain": [
       "419957"
      ]
     },
     "execution_count": 10,
     "metadata": {},
     "output_type": "execute_result"
    }
   ],
   "source": [
    "len(q_a_list2)"
   ]
  },
  {
   "cell_type": "code",
   "execution_count": 11,
   "metadata": {},
   "outputs": [],
   "source": [
    "raw_data_list=joblib.load(\"database/processed/0926.bin\")"
   ]
  },
  {
   "cell_type": "code",
   "execution_count": 12,
   "metadata": {},
   "outputs": [
    {
     "data": {
      "text/plain": [
       "65329"
      ]
     },
     "execution_count": 12,
     "metadata": {},
     "output_type": "execute_result"
    }
   ],
   "source": [
    "len(raw_data_list)"
   ]
  },
  {
   "cell_type": "code",
   "execution_count": 13,
   "metadata": {},
   "outputs": [
    {
     "data": {
      "text/plain": [
       "'Dirac, P. A. M. Proc. R. Soc. Lond. A 123, 714 (1929). Jensen, F. Introduction to Computational Chemistry 3rd edn (Wiley, 2017). Shavitt, I.&amp; Bartlett, R. J. Many-Body Methods in Chemistry and Physics. MBPT and Coupled-Cluster Theory (Cambridge Univ. Press, 2009). Mihm, T. N. et al. Nat. Comput. Sci.(2021). Liao, K.&amp; Greneis, A. J. Chem. Phys.145, 141102 (2016). Gruber, T., Liao, K., Tsatsoulis, T., Hummel, F.&amp; Gruneis, A. Phys. Rev. X 8, 021043 (2018). Kent, P. R. C.&amp; Kotliar, G. Science 361, 348 (2018). Knizia, G.&amp; Chan, G. K.-L. Phys. Rev. Lett.109, 186404 (2012). Perdew J.&amp; Kurth, S. A Primer in Density Functional Theory (Springer, 2003). Bogojeski, M., Vogt-Maranto, L., Tuckerman, M., Muller, K.&amp; Burke, K. Nat. Commun.11, 5223 (2020).'"
      ]
     },
     "execution_count": 13,
     "metadata": {},
     "output_type": "execute_result"
    }
   ],
   "source": [
    "idx=0\n",
    "targt_context=q_a_list2[idx][0]\n",
    "targt_context"
   ]
  },
  {
   "cell_type": "code",
   "execution_count": 14,
   "metadata": {},
   "outputs": [
    {
     "data": {
      "text/plain": [
       "('Dirac, P. A. M. Proc. R. Soc. Lond. A 123, 714 (1929). Jensen, F. Introduction to Computational Chemistry 3rd edn (Wiley, 2017). Shavitt, I.&amp; Bartlett, R. J. Many-Body Methods in Chemistry and Physics. MBPT and Coupled-Cluster Theory (Cambridge Univ. Press, 2009). Mihm, T. N. et al. Nat. Comput. Sci.(2021). Liao, K.&amp; Greneis, A. J. Chem. Phys.145, 141102 (2016). Gruber, T., Liao, K., Tsatsoulis, T., Hummel, F.&amp; Gruneis, A. Phys. Rev. X 8, 021043 (2018). Kent, P. R. C.&amp; Kotliar, G. Science 361, 348 (2018). Knizia, G.&amp; Chan, G. K.-L. Phys. Rev. Lett.109, 186404 (2012). Perdew J.&amp; Kurth, S. A Primer in Density Functional Theory (Springer, 2003). Bogojeski, M., Vogt-Maranto, L., Tuckerman, M., Muller, K.&amp; Burke, K. Nat. Commun.11, 5223 (2020).',\n",
       " 'Q1: Who first proposed the Dirac equation and when was it published?',\n",
       " 'A1: The Dirac equation was first proposed by P.A.M. Dirac and published in the Proceedings of the Royal Society A in 1929, according to the reference \"Dirac, P. A. M. Proc. R. Soc. Lond. A 123, 714 (1929)\".')"
      ]
     },
     "execution_count": 14,
     "metadata": {},
     "output_type": "execute_result"
    }
   ],
   "source": [
    "q_a_list2[idx]"
   ]
  },
  {
   "cell_type": "code",
   "execution_count": 15,
   "metadata": {},
   "outputs": [],
   "source": [
    "lisence_types=[raw_data_list[i][\"Lisence\"] for i in range(len(raw_data_list))]\n",
    "lisence_types=list(set(lisence_types))\n",
    "\n",
    "ng_words=[\n",
    "\"Creative Commons license (HIV-1 capsid)\",\n",
    "#\"need to obtain permission \",\n",
    "#\"any author accepted manuscript version arising from this submission\",\n",
    "\"notpermitted by statutory regulation \",\n",
    "\"Additionally, the package is availa\",\n",
    "]\n",
    "\n",
    "filt_lisence_types=[]\n",
    "for l in lisence_types:\n",
    "    ng_flag=False\n",
    "    for ng in ng_words:\n",
    "        if ng in l:\n",
    "            ng_flag=True\n",
    "            break\n",
    "    if ng_flag==False:\n",
    "        filt_lisence_types.append(l)\n",
    "\n",
    "filt_lisence_types=list(set(filt_lisence_types))\n",
    "#lisence_typesをtxtで保存\n",
    "with open(\"database/processed/lisence_types.txt\",\"w\") as f:\n",
    "    for l in filt_lisence_types:\n",
    "        f.write(l+\"\\n\")"
   ]
  },
  {
   "cell_type": "code",
   "execution_count": 16,
   "metadata": {},
   "outputs": [
    {
     "data": {
      "text/plain": [
       "(65325,\n",
       " 'Creative Commons licence and your intended use is not permitted by statutory regulation or exceeds the permitted use, you will need to obtain permission directly from the copyright holder. ')"
      ]
     },
     "execution_count": 16,
     "metadata": {},
     "output_type": "execute_result"
    }
   ],
   "source": [
    "filt_raw_data_list=[]\n",
    "for idx in range(len(raw_data_list)):\n",
    "    lis=raw_data_list[idx][\"Lisence\"]\n",
    "    add_flag=False\n",
    "    if lis in filt_lisence_types:\n",
    "        filt_raw_data_list.append(raw_data_list[idx])\n",
    "    else:\n",
    "        continue\n",
    "\n",
    "len(filt_raw_data_list),lis"
   ]
  },
  {
   "cell_type": "code",
   "execution_count": 17,
   "metadata": {},
   "outputs": [],
   "source": [
    "#jsonとして出力\n",
    "with open(\"database/output/refs0926.json\",\"w\") as f:\n",
    "    json.dump(filt_raw_data_list,f,indent=4)"
   ]
  },
  {
   "cell_type": "code",
   "execution_count": 18,
   "metadata": {},
   "outputs": [
    {
     "name": "stderr",
     "output_type": "stream",
     "text": [
      "100%|██████████| 65329/65329 [00:28<00:00, 2319.71it/s]\n"
     ]
    }
   ],
   "source": [
    "import re\n",
    "import itertools\n",
    "from tqdm import tqdm\n",
    "def clean_text(text):\n",
    "    pattern = r'\\.(?=[A-Za-z])'\n",
    "    text= re.sub(pattern, '. ', text)\n",
    "    #連続したピリオドを削除\n",
    "    text=re.sub(r'\\.{2,}', '.', text)\n",
    "    return text\n",
    "\n",
    "context_ix=0\n",
    "\n",
    "original_text_list=[]\n",
    "\n",
    "for context_ix in tqdm(range(len(raw_data_list))):\n",
    "    original_text=raw_data_list[context_ix][\"main\"]\n",
    "    #flatten list\n",
    "    original_text= list(itertools.chain.from_iterable(original_text))\n",
    "    original_text=\"\\n\".join(original_text)\n",
    "    original_text=clean_text(original_text)\n",
    "\n",
    "       \n",
    "    original_text_list.append(original_text)"
   ]
  },
  {
   "cell_type": "code",
   "execution_count": 19,
   "metadata": {},
   "outputs": [
    {
     "name": "stderr",
     "output_type": "stream",
     "text": [
      "100%|██████████| 419957/419957 [00:00<00:00, 4334327.43it/s]\n"
     ]
    }
   ],
   "source": [
    "#context filt\n",
    "context_list=[]\n",
    "for idx in tqdm(range(len(q_a_list2))):\n",
    "    targt_context=q_a_list2[idx][0]\n",
    "    context_list.append(targt_context)\n",
    "\n",
    "context_list=list(set(context_list))\n"
   ]
  },
  {
   "cell_type": "code",
   "execution_count": 20,
   "metadata": {},
   "outputs": [
    {
     "data": {
      "text/plain": [
       "56119"
      ]
     },
     "execution_count": 20,
     "metadata": {},
     "output_type": "execute_result"
    }
   ],
   "source": [
    "import string\n",
    "\n",
    "def starts_with_punctuation(text):\n",
    "    if not text:\n",
    "        return False\n",
    "    return text[0] in string.punctuation\n",
    "\n",
    "ng_context=[\n",
    "\"Scheme\",\n",
    "\"$$\",\n",
    "\"Fig.\",\n",
    "\"{\",\n",
    "\"&\",\n",
    "\"You are a scientific\",\n",
    "]\n",
    "\n",
    "filt_context_list=[]\n",
    "for c in context_list:\n",
    "    ng_flag=False\n",
    "\n",
    "    for ng in ng_context:\n",
    "        if ng in c:\n",
    "            ng_flag=True\n",
    "            break\n",
    "    if len(c)<100:\n",
    "        ng_flag=True\n",
    "\n",
    "    if starts_with_punctuation(c):\n",
    "        ng_flag=True\n",
    "    \n",
    "    if not c[0].isupper():\n",
    "        ng_flag=True\n",
    "\n",
    "    if not ng_flag:\n",
    "        filt_context_list.append(c)\n",
    "\n",
    "filt_context_list=sorted(filt_context_list)\n",
    "with open(\"database/output/context0926.json\",\"w\") as f:\n",
    "    json.dump(filt_context_list,f,indent=4)\n",
    "len(filt_context_list)"
   ]
  },
  {
   "cell_type": "code",
   "execution_count": 21,
   "metadata": {},
   "outputs": [
    {
     "data": {
      "text/plain": [
       "180184"
      ]
     },
     "execution_count": 21,
     "metadata": {},
     "output_type": "execute_result"
    }
   ],
   "source": [
    "\n",
    "#q_a_with_context_list=[]\n",
    "with open(\"database/output/qa0926.json\",\"r\") as f:\n",
    "    q_a_with_context_list=json.load(f)\n",
    "\n",
    "len(q_a_with_context_list)"
   ]
  },
  {
   "cell_type": "code",
   "execution_count": 22,
   "metadata": {},
   "outputs": [
    {
     "name": "stderr",
     "output_type": "stream",
     "text": [
      "100%|██████████| 105821/105821 [9:44:03<00:00,  3.02it/s]  \n"
     ]
    }
   ],
   "source": [
    "import numpy as np\n",
    "context_array=np.array(filt_context_list)\n",
    "\n",
    "#途中から\n",
    "restart_id=284064+24290+5782\n",
    "q_a_list3=q_a_list2[restart_id:]\n",
    "\n",
    "def remove_id(q):\n",
    "    q=q.split(\":\")[1:]\n",
    "    q=\":\".join(q)\n",
    "    q=q.strip()\n",
    "    return q\n",
    "\n",
    "for idx in tqdm(range(len(q_a_list3))):\n",
    "    targt_context=q_a_list3[idx][0]\n",
    "\n",
    "    if targt_context not in filt_context_list:\n",
    "        continue\n",
    "\n",
    "    for context_ix in (range(len(original_text_list))):\n",
    "        pos=original_text_list[context_ix].find(targt_context[:30])\n",
    "        if pos>0:\n",
    "            q=remove_id(q_a_list3[idx][1])\n",
    "            a=remove_id(q_a_list3[idx][2])\n",
    "            \n",
    "            context_id=np.where(targt_context==context_array)[0][0]\n",
    "            d={\n",
    "                \"context_id\":int(context_id),\n",
    "               # \"context\":targt_context,\n",
    "                \"question\":q,\n",
    "                \"answer\":a,\n",
    "                \"ref_id\":int(context_ix),\n",
    "            }\n",
    "            q_a_with_context_list.append(d)\n",
    "            break\n"
   ]
  },
  {
   "cell_type": "code",
   "execution_count": 23,
   "metadata": {},
   "outputs": [],
   "source": [
    "#target_contextを書き出し\n",
    "#jsonとして出力\n",
    "with open(\"database/output/qa0926.json\",\"w\") as f:\n",
    "    json.dump(q_a_with_context_list,f,indent=1)"
   ]
  },
  {
   "cell_type": "code",
   "execution_count": null,
   "metadata": {},
   "outputs": [],
   "source": []
  }
 ],
 "metadata": {
  "kernelspec": {
   "display_name": "mi",
   "language": "python",
   "name": "python3"
  },
  "language_info": {
   "codemirror_mode": {
    "name": "ipython",
    "version": 3
   },
   "file_extension": ".py",
   "mimetype": "text/x-python",
   "name": "python",
   "nbconvert_exporter": "python",
   "pygments_lexer": "ipython3",
   "version": "3.11.3"
  },
  "orig_nbformat": 4
 },
 "nbformat": 4,
 "nbformat_minor": 2
}
