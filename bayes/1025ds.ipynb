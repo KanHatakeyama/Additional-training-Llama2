{
 "cells": [
  {
   "cell_type": "code",
   "execution_count": 1,
   "metadata": {},
   "outputs": [],
   "source": [
    "#ライブラリの自動リロード\n",
    "%load_ext autoreload\n",
    "%autoreload 2"
   ]
  },
  {
   "cell_type": "code",
   "execution_count": 2,
   "metadata": {},
   "outputs": [],
   "source": [
    "import os\n",
    "import subprocess\n",
    "import json\n",
    "\n",
    "temp_dir=\"outputs/temp1/\"\n",
    "if not os.path.exists(temp_dir):\n",
    "    os.mkdir(temp_dir)\n",
    "\n",
    "model_name = \"meta-llama/Llama-2-7b-chat-hf\"\n",
    "test_dataset_path=\"../smallDB/1018ig/qa.json\"\n",
    "context_path = \"../smallDB/1018ig/context_ig_paraphrase_plus_oa.json\"\n",
    "ds_config_file_model=\"ds/zero_infer.json\"\n",
    "ds_config_file_train=\"ds/zero_train.json\"\n",
    "\n",
    "temp_model_dir=\"outputs/temp_model\"\n",
    "log_filepath=\"results/1025ds/1.json\"\n"
   ]
  },
  {
   "cell_type": "code",
   "execution_count": 3,
   "metadata": {},
   "outputs": [
    {
     "name": "stdout",
     "output_type": "stream",
     "text": [
      "[2023-10-25 01:18:34,257] [INFO] [real_accelerator.py:158:get_accelerator] Setting ds_accelerator to cuda (auto detect)\n"
     ]
    },
    {
     "name": "stderr",
     "output_type": "stream",
     "text": [
      "/home/user/miniconda3/envs/ft/lib/python3.11/site-packages/transformers/deepspeed.py:23: FutureWarning: transformers.deepspeed module is deprecated and will be removed in a future version. Please import deepspeed modules directly from transformers.integrations\n",
      "  warnings.warn(\n"
     ]
    },
    {
     "name": "stdout",
     "output_type": "stream",
     "text": [
      "[2023-10-25 01:18:35,655] [INFO] [comm.py:637:init_distributed] cdb=None\n",
      "[2023-10-25 01:18:35,655] [INFO] [comm.py:652:init_distributed] Not using the DeepSpeed or dist launchers, attempting to detect MPI environment...\n",
      "[2023-10-25 01:18:35,703] [INFO] [comm.py:702:mpi_discovery] Discovered MPI settings of world_rank=0, local_rank=0, world_size=1, master_addr=192.168.11.2, master_port=29500\n",
      "[2023-10-25 01:18:35,703] [INFO] [comm.py:668:init_distributed] Initializing TorchBackend in DeepSpeed with backend nccl\n",
      "[2023-10-25 01:18:47,880] [INFO] [partition_parameters.py:347:__exit__] finished initializing model - num_params = 291, num_elems = 6.74B\n"
     ]
    },
    {
     "name": "stderr",
     "output_type": "stream",
     "text": [
      "Loading checkpoint shards: 100%|██████████| 2/2 [00:02<00:00,  1.35s/it]\n"
     ]
    },
    {
     "name": "stdout",
     "output_type": "stream",
     "text": [
      "[2023-10-25 01:18:51,217] [INFO] [logging.py:96:log_dist] [Rank 0] DeepSpeed info: version=0.10.3, git-hash=unknown, git-branch=unknown\n",
      "[2023-10-25 01:18:51,230] [INFO] [logging.py:96:log_dist] [Rank 0] DeepSpeed Flops Profiler Enabled: False\n",
      "[2023-10-25 01:18:51,231] [INFO] [logging.py:96:log_dist] [Rank 0] Creating ZeRO Offload\n",
      "[2023-10-25 01:18:51,309] [INFO] [utils.py:803:see_memory_usage] DeepSpeedZeRoOffload initialize [begin]\n",
      "[2023-10-25 01:18:51,310] [INFO] [utils.py:804:see_memory_usage] MA 0.06 GB         Max_MA 0.86 GB         CA 1.04 GB         Max_CA 1 GB \n",
      "[2023-10-25 01:18:51,310] [INFO] [utils.py:811:see_memory_usage] CPU Virtual Memory:  used = 24.23 GB, percent = 9.6%\n",
      "Parameter Offload: Total persistent parameters: 266240 in 65 params\n",
      "[2023-10-25 01:18:51,399] [INFO] [utils.py:803:see_memory_usage] DeepSpeedZeRoOffload initialize [end]\n",
      "[2023-10-25 01:18:51,400] [INFO] [utils.py:804:see_memory_usage] MA 0.06 GB         Max_MA 0.06 GB         CA 1.04 GB         Max_CA 1 GB \n",
      "[2023-10-25 01:18:51,400] [INFO] [utils.py:811:see_memory_usage] CPU Virtual Memory:  used = 24.23 GB, percent = 9.6%\n",
      "[2023-10-25 01:18:51,400] [INFO] [config.py:967:print] DeepSpeedEngine configuration:\n",
      "[2023-10-25 01:18:51,400] [INFO] [config.py:971:print]   activation_checkpointing_config  {\n",
      "    \"partition_activations\": false, \n",
      "    \"contiguous_memory_optimization\": false, \n",
      "    \"cpu_checkpointing\": false, \n",
      "    \"number_checkpoints\": null, \n",
      "    \"synchronize_checkpoint_boundary\": false, \n",
      "    \"profile\": false\n",
      "}\n",
      "[2023-10-25 01:18:51,400] [INFO] [config.py:971:print]   aio_config ................... {'block_size': 1048576, 'queue_depth': 8, 'thread_count': 1, 'single_submit': False, 'overlap_events': True}\n",
      "[2023-10-25 01:18:51,400] [INFO] [config.py:971:print]   amp_enabled .................. False\n",
      "[2023-10-25 01:18:51,400] [INFO] [config.py:971:print]   amp_params ................... False\n",
      "[2023-10-25 01:18:51,401] [INFO] [config.py:971:print]   autotuning_config ............ {\n",
      "    \"enabled\": false, \n",
      "    \"start_step\": null, \n",
      "    \"end_step\": null, \n",
      "    \"metric_path\": null, \n",
      "    \"arg_mappings\": null, \n",
      "    \"metric\": \"throughput\", \n",
      "    \"model_info\": null, \n",
      "    \"results_dir\": \"autotuning_results\", \n",
      "    \"exps_dir\": \"autotuning_exps\", \n",
      "    \"overwrite\": true, \n",
      "    \"fast\": true, \n",
      "    \"start_profile_step\": 3, \n",
      "    \"end_profile_step\": 5, \n",
      "    \"tuner_type\": \"gridsearch\", \n",
      "    \"tuner_early_stopping\": 5, \n",
      "    \"tuner_num_trials\": 50, \n",
      "    \"model_info_path\": null, \n",
      "    \"mp_size\": 1, \n",
      "    \"max_train_batch_size\": null, \n",
      "    \"min_train_batch_size\": 1, \n",
      "    \"max_train_micro_batch_size_per_gpu\": 1.024000e+03, \n",
      "    \"min_train_micro_batch_size_per_gpu\": 1, \n",
      "    \"num_tuning_micro_batch_sizes\": 3\n",
      "}\n",
      "[2023-10-25 01:18:51,401] [INFO] [config.py:971:print]   bfloat16_enabled ............. False\n",
      "[2023-10-25 01:18:51,401] [INFO] [config.py:971:print]   checkpoint_parallel_write_pipeline  False\n",
      "[2023-10-25 01:18:51,401] [INFO] [config.py:971:print]   checkpoint_tag_validation_enabled  True\n",
      "[2023-10-25 01:18:51,401] [INFO] [config.py:971:print]   checkpoint_tag_validation_fail  False\n",
      "[2023-10-25 01:18:51,401] [INFO] [config.py:971:print]   comms_config ................. <deepspeed.comm.config.DeepSpeedCommsConfig object at 0x7f99780b8a90>\n",
      "[2023-10-25 01:18:51,401] [INFO] [config.py:971:print]   communication_data_type ...... None\n",
      "[2023-10-25 01:18:51,401] [INFO] [config.py:971:print]   compression_config ........... {'weight_quantization': {'shared_parameters': {'enabled': False, 'quantizer_kernel': False, 'schedule_offset': 0, 'quantize_groups': 1, 'quantize_verbose': False, 'quantization_type': 'symmetric', 'quantize_weight_in_forward': False, 'rounding': 'nearest', 'fp16_mixed_quantize': False, 'quantize_change_ratio': 0.001}, 'different_groups': {}}, 'activation_quantization': {'shared_parameters': {'enabled': False, 'quantization_type': 'symmetric', 'range_calibration': 'dynamic', 'schedule_offset': 1000}, 'different_groups': {}}, 'sparse_pruning': {'shared_parameters': {'enabled': False, 'method': 'l1', 'schedule_offset': 1000}, 'different_groups': {}}, 'row_pruning': {'shared_parameters': {'enabled': False, 'method': 'l1', 'schedule_offset': 1000}, 'different_groups': {}}, 'head_pruning': {'shared_parameters': {'enabled': False, 'method': 'topk', 'schedule_offset': 1000}, 'different_groups': {}}, 'channel_pruning': {'shared_parameters': {'enabled': False, 'method': 'l1', 'schedule_offset': 1000}, 'different_groups': {}}, 'layer_reduction': {'enabled': False}}\n",
      "[2023-10-25 01:18:51,401] [INFO] [config.py:971:print]   curriculum_enabled_legacy .... False\n",
      "[2023-10-25 01:18:51,401] [INFO] [config.py:971:print]   curriculum_params_legacy ..... False\n",
      "[2023-10-25 01:18:51,401] [INFO] [config.py:971:print]   data_efficiency_config ....... {'enabled': False, 'seed': 1234, 'data_sampling': {'enabled': False, 'num_epochs': 1000, 'num_workers': 0, 'curriculum_learning': {'enabled': False}}, 'data_routing': {'enabled': False, 'random_ltd': {'enabled': False, 'layer_token_lr_schedule': {'enabled': False}}}}\n",
      "[2023-10-25 01:18:51,401] [INFO] [config.py:971:print]   data_efficiency_enabled ...... False\n",
      "[2023-10-25 01:18:51,401] [INFO] [config.py:971:print]   dataloader_drop_last ......... False\n",
      "[2023-10-25 01:18:51,401] [INFO] [config.py:971:print]   disable_allgather ............ False\n",
      "[2023-10-25 01:18:51,401] [INFO] [config.py:971:print]   dump_state ................... False\n",
      "[2023-10-25 01:18:51,401] [INFO] [config.py:971:print]   dynamic_loss_scale_args ...... {'init_scale': 65536, 'scale_window': 1000, 'delayed_shift': 2, 'consecutive_hysteresis': False, 'min_scale': 1}\n",
      "[2023-10-25 01:18:51,401] [INFO] [config.py:971:print]   eigenvalue_enabled ........... False\n",
      "[2023-10-25 01:18:51,401] [INFO] [config.py:971:print]   eigenvalue_gas_boundary_resolution  1\n",
      "[2023-10-25 01:18:51,401] [INFO] [config.py:971:print]   eigenvalue_layer_name ........ bert.encoder.layer\n",
      "[2023-10-25 01:18:51,401] [INFO] [config.py:971:print]   eigenvalue_layer_num ......... 0\n",
      "[2023-10-25 01:18:51,401] [INFO] [config.py:971:print]   eigenvalue_max_iter .......... 100\n",
      "[2023-10-25 01:18:51,401] [INFO] [config.py:971:print]   eigenvalue_stability ......... 1e-06\n",
      "[2023-10-25 01:18:51,401] [INFO] [config.py:971:print]   eigenvalue_tol ............... 0.01\n",
      "[2023-10-25 01:18:51,401] [INFO] [config.py:971:print]   eigenvalue_verbose ........... False\n",
      "[2023-10-25 01:18:51,401] [INFO] [config.py:971:print]   elasticity_enabled ........... False\n",
      "[2023-10-25 01:18:51,401] [INFO] [config.py:971:print]   flops_profiler_config ........ {\n",
      "    \"enabled\": false, \n",
      "    \"recompute_fwd_factor\": 0.0, \n",
      "    \"profile_step\": 1, \n",
      "    \"module_depth\": -1, \n",
      "    \"top_modules\": 1, \n",
      "    \"detailed\": true, \n",
      "    \"output_file\": null\n",
      "}\n",
      "[2023-10-25 01:18:51,401] [INFO] [config.py:971:print]   fp16_auto_cast ............... False\n",
      "[2023-10-25 01:18:51,401] [INFO] [config.py:971:print]   fp16_enabled ................. auto\n",
      "[2023-10-25 01:18:51,401] [INFO] [config.py:971:print]   fp16_master_weights_and_gradients  False\n",
      "[2023-10-25 01:18:51,401] [INFO] [config.py:971:print]   global_rank .................. 0\n",
      "[2023-10-25 01:18:51,401] [INFO] [config.py:971:print]   grad_accum_dtype ............. None\n",
      "[2023-10-25 01:18:51,401] [INFO] [config.py:971:print]   gradient_accumulation_steps .. 1\n",
      "[2023-10-25 01:18:51,401] [INFO] [config.py:971:print]   gradient_clipping ............ 0.0\n",
      "[2023-10-25 01:18:51,401] [INFO] [config.py:971:print]   gradient_predivide_factor .... 1.0\n",
      "[2023-10-25 01:18:51,401] [INFO] [config.py:971:print]   hybrid_engine ................ enabled=False max_out_tokens=512 inference_tp_size=1 release_inference_cache=False pin_parameters=True tp_gather_partition_size=8\n",
      "[2023-10-25 01:18:51,401] [INFO] [config.py:971:print]   initial_dynamic_scale ........ 65536\n",
      "[2023-10-25 01:18:51,401] [INFO] [config.py:971:print]   load_universal_checkpoint .... False\n",
      "[2023-10-25 01:18:51,401] [INFO] [config.py:971:print]   loss_scale ................... 0\n",
      "[2023-10-25 01:18:51,401] [INFO] [config.py:971:print]   memory_breakdown ............. False\n",
      "[2023-10-25 01:18:51,401] [INFO] [config.py:971:print]   mics_hierarchial_params_gather  False\n",
      "[2023-10-25 01:18:51,401] [INFO] [config.py:971:print]   mics_shard_size .............. -1\n",
      "[2023-10-25 01:18:51,401] [INFO] [config.py:971:print]   monitor_config ............... tensorboard=TensorBoardConfig(enabled=False, output_path='', job_name='DeepSpeedJobName') wandb=WandbConfig(enabled=False, group=None, team=None, project='deepspeed') csv_monitor=CSVConfig(enabled=False, output_path='', job_name='DeepSpeedJobName') enabled=False\n",
      "[2023-10-25 01:18:51,401] [INFO] [config.py:971:print]   nebula_config ................ {\n",
      "    \"enabled\": false, \n",
      "    \"persistent_storage_path\": null, \n",
      "    \"persistent_time_interval\": 100, \n",
      "    \"num_of_version_in_retention\": 2, \n",
      "    \"enable_nebula_load\": true, \n",
      "    \"load_path\": null\n",
      "}\n",
      "[2023-10-25 01:18:51,401] [INFO] [config.py:971:print]   optimizer_legacy_fusion ...... False\n",
      "[2023-10-25 01:18:51,401] [INFO] [config.py:971:print]   optimizer_name ............... None\n",
      "[2023-10-25 01:18:51,401] [INFO] [config.py:971:print]   optimizer_params ............. None\n",
      "[2023-10-25 01:18:51,401] [INFO] [config.py:971:print]   pipeline ..................... {'stages': 'auto', 'partition': 'best', 'seed_layers': False, 'activation_checkpoint_interval': 0}\n",
      "[2023-10-25 01:18:51,401] [INFO] [config.py:971:print]   pld_enabled .................. False\n",
      "[2023-10-25 01:18:51,401] [INFO] [config.py:971:print]   pld_params ................... False\n",
      "[2023-10-25 01:18:51,401] [INFO] [config.py:971:print]   prescale_gradients ........... False\n",
      "[2023-10-25 01:18:51,401] [INFO] [config.py:971:print]   scheduler_name ............... None\n",
      "[2023-10-25 01:18:51,401] [INFO] [config.py:971:print]   scheduler_params ............. None\n",
      "[2023-10-25 01:18:51,401] [INFO] [config.py:971:print]   sparse_attention ............. None\n",
      "[2023-10-25 01:18:51,401] [INFO] [config.py:971:print]   sparse_gradients_enabled ..... False\n",
      "[2023-10-25 01:18:51,401] [INFO] [config.py:971:print]   steps_per_print .............. 2000\n",
      "[2023-10-25 01:18:51,401] [INFO] [config.py:971:print]   train_batch_size ............. 1\n",
      "[2023-10-25 01:18:51,401] [INFO] [config.py:971:print]   train_micro_batch_size_per_gpu  1\n",
      "[2023-10-25 01:18:51,401] [INFO] [config.py:971:print]   use_node_local_storage ....... False\n",
      "[2023-10-25 01:18:51,401] [INFO] [config.py:971:print]   wall_clock_breakdown ......... False\n",
      "[2023-10-25 01:18:51,401] [INFO] [config.py:971:print]   weight_quantization_config ... None\n",
      "[2023-10-25 01:18:51,401] [INFO] [config.py:971:print]   world_size ................... 1\n",
      "[2023-10-25 01:18:51,401] [INFO] [config.py:971:print]   zero_allow_untested_optimizer  False\n",
      "[2023-10-25 01:18:51,401] [INFO] [config.py:971:print]   zero_config .................. stage=3 contiguous_gradients=True reduce_scatter=True reduce_bucket_size=500,000,000 allgather_partitions=True allgather_bucket_size=500,000,000 overlap_comm=True load_from_fp32_weights=True elastic_checkpoint=False offload_param=DeepSpeedZeroOffloadParamConfig(device='cpu', nvme_path=None, buffer_count=5, buffer_size=100,000,000, max_in_cpu=1,000,000,000, pin_memory=True) offload_optimizer=DeepSpeedZeroOffloadOptimizerConfig(device='cpu', nvme_path=None, buffer_count=4, pin_memory=True, pipeline=False, pipeline_read=False, pipeline_write=False, fast_init=False) sub_group_size=1000000000 cpu_offload_param=None cpu_offload_use_pin_memory=None cpu_offload=None prefetch_bucket_size=50,000,000 param_persistence_threshold=100,000 model_persistence_threshold=sys.maxsize max_live_parameters=1000000000 max_reuse_distance=1000000000 gather_16bit_weights_on_model_save=True stage3_gather_fp16_weights_on_model_save=False ignore_unused_parameters=True legacy_stage1=False round_robin_gradients=False zero_hpz_partition_size=1 zero_quantized_weights=False zero_quantized_nontrainable_weights=False zero_quantized_gradients=False mics_shard_size=-1 mics_hierarchical_params_gather=False memory_efficient_linear=True pipeline_loading_checkpoint=False override_module_apply=True\n",
      "[2023-10-25 01:18:51,401] [INFO] [config.py:971:print]   zero_enabled ................. True\n",
      "[2023-10-25 01:18:51,401] [INFO] [config.py:971:print]   zero_force_ds_cpu_optimizer .. True\n",
      "[2023-10-25 01:18:51,401] [INFO] [config.py:971:print]   zero_optimization_stage ...... 3\n",
      "[2023-10-25 01:18:51,402] [INFO] [config.py:957:print_user_config]   json = {\n",
      "    \"fp16\": {\n",
      "        \"enabled\": \"auto\", \n",
      "        \"loss_scale\": 0, \n",
      "        \"loss_scale_window\": 1000, \n",
      "        \"initial_scale_power\": 16, \n",
      "        \"hysteresis\": 2, \n",
      "        \"min_loss_scale\": 1\n",
      "    }, \n",
      "    \"zero_optimization\": {\n",
      "        \"stage\": 3, \n",
      "        \"offload_optimizer\": {\n",
      "            \"device\": \"cpu\", \n",
      "            \"pin_memory\": true\n",
      "        }, \n",
      "        \"offload_param\": {\n",
      "            \"device\": \"cpu\", \n",
      "            \"pin_memory\": true\n",
      "        }, \n",
      "        \"overlap_comm\": true, \n",
      "        \"contiguous_gradients\": true, \n",
      "        \"sub_group_size\": 1.000000e+09, \n",
      "        \"reduce_bucket_size\": \"auto\", \n",
      "        \"stage3_prefetch_bucket_size\": \"auto\", \n",
      "        \"stage3_param_persistence_threshold\": \"auto\", \n",
      "        \"stage3_max_live_parameters\": 1.000000e+09, \n",
      "        \"stage3_max_reuse_distance\": 1.000000e+09, \n",
      "        \"stage3_gather_16bit_weights_on_model_save\": true\n",
      "    }, \n",
      "    \"steps_per_print\": 2.000000e+03, \n",
      "    \"train_batch_size\": 1, \n",
      "    \"train_micro_batch_size_per_gpu\": 1, \n",
      "    \"wall_clock_breakdown\": false, \n",
      "    \"reduce_bucket_size\": 1.677722e+07, \n",
      "    \"stage3_prefetch_bucket_size\": 1.509949e+07, \n",
      "    \"stage3_param_persistence_threshold\": 4.096000e+04\n",
      "}\n"
     ]
    },
    {
     "name": "stderr",
     "output_type": "stream",
     "text": [
      "Map: 100%|██████████| 1/1 [00:00<00:00, 353.65 examples/s]\n"
     ]
    },
    {
     "name": "stdout",
     "output_type": "stream",
     "text": [
      "[2023-10-25 01:18:52,718] [WARNING] [cpu_adam.py:84:__init__] FP16 params for CPUAdam may not work on AMD CPUs\n",
      "\u001b[93m [WARNING] \u001b[0m cpu_adam cuda is missing or is incompatible with installed torch, only cpu ops can be compiled!\n",
      "ninja: no work to do.\n",
      "Time to load cpu_adam op: 2.4512784481048584 seconds\n"
     ]
    },
    {
     "name": "stderr",
     "output_type": "stream",
     "text": [
      "Using /home/user/.cache/torch_extensions/py311_cu117 as PyTorch extensions root...\n",
      "Emitting ninja build file /home/user/.cache/torch_extensions/py311_cu117/cpu_adam/build.ninja...\n",
      "Building extension module cpu_adam...\n",
      "Allowing ninja to set a default number of workers... (overridable by setting the environment variable MAX_JOBS=N)\n",
      "Loading extension module cpu_adam...\n"
     ]
    },
    {
     "name": "stdout",
     "output_type": "stream",
     "text": [
      "Parameter Offload: Total persistent parameters: 266240 in 65 params\n",
      "[2023-10-25 01:19:24,163] [WARNING] [lr_schedules.py:751:__init__] total_num_steps 1 is less than warmup_num_steps 0\n"
     ]
    },
    {
     "name": "stderr",
     "output_type": "stream",
     "text": [
      "  0%|          | 0/1 [00:00<?, ?it/s]You're using a LlamaTokenizerFast tokenizer. Please note that with a fast tokenizer, using the `__call__` method is faster than using a method to encode the text followed by a call to the `pad` method to get a padded encoding.\n",
      "`use_cache=True` is incompatible with gradient checkpointing. Setting `use_cache=False`...\n",
      "100%|██████████| 1/1 [00:16<00:00, 16.89s/it]\n"
     ]
    },
    {
     "name": "stdout",
     "output_type": "stream",
     "text": [
      "{'train_runtime': 16.8916, 'train_samples_per_second': 0.059, 'train_steps_per_second': 0.059, 'train_loss': 2.442516565322876, 'epoch': 1.0}\n"
     ]
    },
    {
     "ename": "KeyboardInterrupt",
     "evalue": "",
     "output_type": "error",
     "traceback": [
      "\u001b[0;31m---------------------------------------------------------------------------\u001b[0m",
      "\u001b[0;31mKeyboardInterrupt\u001b[0m                         Traceback (most recent call last)",
      "\u001b[1;32m/mnt/hdd/python/2023/0925nature_llm/bayes/1025ds.ipynb セル 3\u001b[0m line \u001b[0;36m1\n\u001b[1;32m     <a href='vscode-notebook-cell://ssh-remote%2Bnew-ubuntu/mnt/hdd/python/2023/0925nature_llm/bayes/1025ds.ipynb#X14sdnNjb2RlLXJlbW90ZQ%3D%3D?line=10'>11</a>\u001b[0m     json\u001b[39m.\u001b[39mdump(sel_context, f)\n\u001b[1;32m     <a href='vscode-notebook-cell://ssh-remote%2Bnew-ubuntu/mnt/hdd/python/2023/0925nature_llm/bayes/1025ds.ipynb#X14sdnNjb2RlLXJlbW90ZQ%3D%3D?line=13'>14</a>\u001b[0m \u001b[39m#train\u001b[39;00m\n\u001b[0;32m---> <a href='vscode-notebook-cell://ssh-remote%2Bnew-ubuntu/mnt/hdd/python/2023/0925nature_llm/bayes/1025ds.ipynb#X14sdnNjb2RlLXJlbW90ZQ%3D%3D?line=14'>15</a>\u001b[0m subprocess\u001b[39m.\u001b[39;49mrun([\n\u001b[1;32m     <a href='vscode-notebook-cell://ssh-remote%2Bnew-ubuntu/mnt/hdd/python/2023/0925nature_llm/bayes/1025ds.ipynb#X14sdnNjb2RlLXJlbW90ZQ%3D%3D?line=15'>16</a>\u001b[0m     \u001b[39m'\u001b[39;49m\u001b[39mpython\u001b[39;49m\u001b[39m'\u001b[39;49m, \u001b[39m'\u001b[39;49m\u001b[39msrc/DStrain.py\u001b[39;49m\u001b[39m'\u001b[39;49m,\n\u001b[1;32m     <a href='vscode-notebook-cell://ssh-remote%2Bnew-ubuntu/mnt/hdd/python/2023/0925nature_llm/bayes/1025ds.ipynb#X14sdnNjb2RlLXJlbW90ZQ%3D%3D?line=16'>17</a>\u001b[0m     \u001b[39m'\u001b[39;49m\u001b[39m--model_name\u001b[39;49m\u001b[39m'\u001b[39;49m, model_name,\n\u001b[1;32m     <a href='vscode-notebook-cell://ssh-remote%2Bnew-ubuntu/mnt/hdd/python/2023/0925nature_llm/bayes/1025ds.ipynb#X14sdnNjb2RlLXJlbW90ZQ%3D%3D?line=17'>18</a>\u001b[0m     \u001b[39m'\u001b[39;49m\u001b[39m--context_path\u001b[39;49m\u001b[39m'\u001b[39;49m, sel_context_path,\n\u001b[1;32m     <a href='vscode-notebook-cell://ssh-remote%2Bnew-ubuntu/mnt/hdd/python/2023/0925nature_llm/bayes/1025ds.ipynb#X14sdnNjb2RlLXJlbW90ZQ%3D%3D?line=18'>19</a>\u001b[0m     \u001b[39m'\u001b[39;49m\u001b[39m--ds_config_file_model\u001b[39;49m\u001b[39m'\u001b[39;49m, ds_config_file_model,\n\u001b[1;32m     <a href='vscode-notebook-cell://ssh-remote%2Bnew-ubuntu/mnt/hdd/python/2023/0925nature_llm/bayes/1025ds.ipynb#X14sdnNjb2RlLXJlbW90ZQ%3D%3D?line=19'>20</a>\u001b[0m     \u001b[39m'\u001b[39;49m\u001b[39m--ds_config_file_train\u001b[39;49m\u001b[39m'\u001b[39;49m, ds_config_file_train,\n\u001b[1;32m     <a href='vscode-notebook-cell://ssh-remote%2Bnew-ubuntu/mnt/hdd/python/2023/0925nature_llm/bayes/1025ds.ipynb#X14sdnNjb2RlLXJlbW90ZQ%3D%3D?line=20'>21</a>\u001b[0m     \u001b[39m'\u001b[39;49m\u001b[39m--temp_model_dir\u001b[39;49m\u001b[39m'\u001b[39;49m, temp_model_dir,\n\u001b[1;32m     <a href='vscode-notebook-cell://ssh-remote%2Bnew-ubuntu/mnt/hdd/python/2023/0925nature_llm/bayes/1025ds.ipynb#X14sdnNjb2RlLXJlbW90ZQ%3D%3D?line=21'>22</a>\u001b[0m     \u001b[39m'\u001b[39;49m\u001b[39m--log_filepath\u001b[39;49m\u001b[39m'\u001b[39;49m, log_filepath,\n\u001b[1;32m     <a href='vscode-notebook-cell://ssh-remote%2Bnew-ubuntu/mnt/hdd/python/2023/0925nature_llm/bayes/1025ds.ipynb#X14sdnNjb2RlLXJlbW90ZQ%3D%3D?line=22'>23</a>\u001b[0m     \u001b[39m'\u001b[39;49m\u001b[39m--epochs\u001b[39;49m\u001b[39m'\u001b[39;49m, \u001b[39mstr\u001b[39;49m(epochs),\n\u001b[1;32m     <a href='vscode-notebook-cell://ssh-remote%2Bnew-ubuntu/mnt/hdd/python/2023/0925nature_llm/bayes/1025ds.ipynb#X14sdnNjb2RlLXJlbW90ZQ%3D%3D?line=23'>24</a>\u001b[0m     \u001b[39m'\u001b[39;49m\u001b[39m--run_id\u001b[39;49m\u001b[39m'\u001b[39;49m, \u001b[39mstr\u001b[39;49m(run_id)\n\u001b[1;32m     <a href='vscode-notebook-cell://ssh-remote%2Bnew-ubuntu/mnt/hdd/python/2023/0925nature_llm/bayes/1025ds.ipynb#X14sdnNjb2RlLXJlbW90ZQ%3D%3D?line=24'>25</a>\u001b[0m ])\n\u001b[1;32m     <a href='vscode-notebook-cell://ssh-remote%2Bnew-ubuntu/mnt/hdd/python/2023/0925nature_llm/bayes/1025ds.ipynb#X14sdnNjb2RlLXJlbW90ZQ%3D%3D?line=26'>27</a>\u001b[0m \u001b[39m#eval\u001b[39;00m\n\u001b[1;32m     <a href='vscode-notebook-cell://ssh-remote%2Bnew-ubuntu/mnt/hdd/python/2023/0925nature_llm/bayes/1025ds.ipynb#X14sdnNjb2RlLXJlbW90ZQ%3D%3D?line=27'>28</a>\u001b[0m subprocess\u001b[39m.\u001b[39mrun([\n\u001b[1;32m     <a href='vscode-notebook-cell://ssh-remote%2Bnew-ubuntu/mnt/hdd/python/2023/0925nature_llm/bayes/1025ds.ipynb#X14sdnNjb2RlLXJlbW90ZQ%3D%3D?line=28'>29</a>\u001b[0m     \u001b[39m'\u001b[39m\u001b[39mpython\u001b[39m\u001b[39m'\u001b[39m, \u001b[39m'\u001b[39m\u001b[39msrc/DSeval.py\u001b[39m\u001b[39m'\u001b[39m,\n\u001b[1;32m     <a href='vscode-notebook-cell://ssh-remote%2Bnew-ubuntu/mnt/hdd/python/2023/0925nature_llm/bayes/1025ds.ipynb#X14sdnNjb2RlLXJlbW90ZQ%3D%3D?line=29'>30</a>\u001b[0m     \u001b[39m'\u001b[39m\u001b[39m--temp_model_dir\u001b[39m\u001b[39m'\u001b[39m, temp_model_dir,\n\u001b[0;32m   (...)\u001b[0m\n\u001b[1;32m     <a href='vscode-notebook-cell://ssh-remote%2Bnew-ubuntu/mnt/hdd/python/2023/0925nature_llm/bayes/1025ds.ipynb#X14sdnNjb2RlLXJlbW90ZQ%3D%3D?line=32'>33</a>\u001b[0m     \u001b[39m'\u001b[39m\u001b[39m--run_id\u001b[39m\u001b[39m'\u001b[39m, (run_id)\n\u001b[1;32m     <a href='vscode-notebook-cell://ssh-remote%2Bnew-ubuntu/mnt/hdd/python/2023/0925nature_llm/bayes/1025ds.ipynb#X14sdnNjb2RlLXJlbW90ZQ%3D%3D?line=33'>34</a>\u001b[0m ])\n",
      "File \u001b[0;32m~/miniconda3/envs/ft/lib/python3.11/subprocess.py:550\u001b[0m, in \u001b[0;36mrun\u001b[0;34m(input, capture_output, timeout, check, *popenargs, **kwargs)\u001b[0m\n\u001b[1;32m    548\u001b[0m \u001b[39mwith\u001b[39;00m Popen(\u001b[39m*\u001b[39mpopenargs, \u001b[39m*\u001b[39m\u001b[39m*\u001b[39mkwargs) \u001b[39mas\u001b[39;00m process:\n\u001b[1;32m    549\u001b[0m     \u001b[39mtry\u001b[39;00m:\n\u001b[0;32m--> 550\u001b[0m         stdout, stderr \u001b[39m=\u001b[39m process\u001b[39m.\u001b[39;49mcommunicate(\u001b[39minput\u001b[39;49m, timeout\u001b[39m=\u001b[39;49mtimeout)\n\u001b[1;32m    551\u001b[0m     \u001b[39mexcept\u001b[39;00m TimeoutExpired \u001b[39mas\u001b[39;00m exc:\n\u001b[1;32m    552\u001b[0m         process\u001b[39m.\u001b[39mkill()\n",
      "File \u001b[0;32m~/miniconda3/envs/ft/lib/python3.11/subprocess.py:1201\u001b[0m, in \u001b[0;36mPopen.communicate\u001b[0;34m(self, input, timeout)\u001b[0m\n\u001b[1;32m   1199\u001b[0m         stderr \u001b[39m=\u001b[39m \u001b[39mself\u001b[39m\u001b[39m.\u001b[39mstderr\u001b[39m.\u001b[39mread()\n\u001b[1;32m   1200\u001b[0m         \u001b[39mself\u001b[39m\u001b[39m.\u001b[39mstderr\u001b[39m.\u001b[39mclose()\n\u001b[0;32m-> 1201\u001b[0m     \u001b[39mself\u001b[39;49m\u001b[39m.\u001b[39;49mwait()\n\u001b[1;32m   1202\u001b[0m \u001b[39melse\u001b[39;00m:\n\u001b[1;32m   1203\u001b[0m     \u001b[39mif\u001b[39;00m timeout \u001b[39mis\u001b[39;00m \u001b[39mnot\u001b[39;00m \u001b[39mNone\u001b[39;00m:\n",
      "File \u001b[0;32m~/miniconda3/envs/ft/lib/python3.11/subprocess.py:1264\u001b[0m, in \u001b[0;36mPopen.wait\u001b[0;34m(self, timeout)\u001b[0m\n\u001b[1;32m   1262\u001b[0m     endtime \u001b[39m=\u001b[39m _time() \u001b[39m+\u001b[39m timeout\n\u001b[1;32m   1263\u001b[0m \u001b[39mtry\u001b[39;00m:\n\u001b[0;32m-> 1264\u001b[0m     \u001b[39mreturn\u001b[39;00m \u001b[39mself\u001b[39;49m\u001b[39m.\u001b[39;49m_wait(timeout\u001b[39m=\u001b[39;49mtimeout)\n\u001b[1;32m   1265\u001b[0m \u001b[39mexcept\u001b[39;00m \u001b[39mKeyboardInterrupt\u001b[39;00m:\n\u001b[1;32m   1266\u001b[0m     \u001b[39m# https://bugs.python.org/issue25942\u001b[39;00m\n\u001b[1;32m   1267\u001b[0m     \u001b[39m# The first keyboard interrupt waits briefly for the child to\u001b[39;00m\n\u001b[1;32m   1268\u001b[0m     \u001b[39m# exit under the common assumption that it also received the ^C\u001b[39;00m\n\u001b[1;32m   1269\u001b[0m     \u001b[39m# generated SIGINT and will exit rapidly.\u001b[39;00m\n\u001b[1;32m   1270\u001b[0m     \u001b[39mif\u001b[39;00m timeout \u001b[39mis\u001b[39;00m \u001b[39mnot\u001b[39;00m \u001b[39mNone\u001b[39;00m:\n",
      "File \u001b[0;32m~/miniconda3/envs/ft/lib/python3.11/subprocess.py:2046\u001b[0m, in \u001b[0;36mPopen._wait\u001b[0;34m(self, timeout)\u001b[0m\n\u001b[1;32m   2044\u001b[0m \u001b[39mif\u001b[39;00m \u001b[39mself\u001b[39m\u001b[39m.\u001b[39mreturncode \u001b[39mis\u001b[39;00m \u001b[39mnot\u001b[39;00m \u001b[39mNone\u001b[39;00m:\n\u001b[1;32m   2045\u001b[0m     \u001b[39mbreak\u001b[39;00m  \u001b[39m# Another thread waited.\u001b[39;00m\n\u001b[0;32m-> 2046\u001b[0m (pid, sts) \u001b[39m=\u001b[39m \u001b[39mself\u001b[39;49m\u001b[39m.\u001b[39;49m_try_wait(\u001b[39m0\u001b[39;49m)\n\u001b[1;32m   2047\u001b[0m \u001b[39m# Check the pid and loop as waitpid has been known to\u001b[39;00m\n\u001b[1;32m   2048\u001b[0m \u001b[39m# return 0 even without WNOHANG in odd situations.\u001b[39;00m\n\u001b[1;32m   2049\u001b[0m \u001b[39m# http://bugs.python.org/issue14396.\u001b[39;00m\n\u001b[1;32m   2050\u001b[0m \u001b[39mif\u001b[39;00m pid \u001b[39m==\u001b[39m \u001b[39mself\u001b[39m\u001b[39m.\u001b[39mpid:\n",
      "File \u001b[0;32m~/miniconda3/envs/ft/lib/python3.11/subprocess.py:2004\u001b[0m, in \u001b[0;36mPopen._try_wait\u001b[0;34m(self, wait_flags)\u001b[0m\n\u001b[1;32m   2002\u001b[0m \u001b[39m\u001b[39m\u001b[39m\"\"\"All callers to this function MUST hold self._waitpid_lock.\"\"\"\u001b[39;00m\n\u001b[1;32m   2003\u001b[0m \u001b[39mtry\u001b[39;00m:\n\u001b[0;32m-> 2004\u001b[0m     (pid, sts) \u001b[39m=\u001b[39m os\u001b[39m.\u001b[39;49mwaitpid(\u001b[39mself\u001b[39;49m\u001b[39m.\u001b[39;49mpid, wait_flags)\n\u001b[1;32m   2005\u001b[0m \u001b[39mexcept\u001b[39;00m \u001b[39mChildProcessError\u001b[39;00m:\n\u001b[1;32m   2006\u001b[0m     \u001b[39m# This happens if SIGCLD is set to be ignored or waiting\u001b[39;00m\n\u001b[1;32m   2007\u001b[0m     \u001b[39m# for child processes has otherwise been disabled for our\u001b[39;00m\n\u001b[1;32m   2008\u001b[0m     \u001b[39m# process.  This child is dead, we can't get the status.\u001b[39;00m\n\u001b[1;32m   2009\u001b[0m     pid \u001b[39m=\u001b[39m \u001b[39mself\u001b[39m\u001b[39m.\u001b[39mpid\n",
      "\u001b[0;31mKeyboardInterrupt\u001b[0m: "
     ]
    }
   ],
   "source": [
    "for epochs in [1,2,3,5]:\n",
    "    for n_contexts in [1,2,5,12,62,112,212,512,1012,2012,5012]:\n",
    "        run_id=f\"{epochs}-{n_contexts}\"\n",
    "        with open(context_path) as f:\n",
    "            context = json.load(f)\n",
    "\n",
    "        sel_context = context[:n_contexts]\n",
    "\n",
    "        sel_context_path=temp_dir+f\"{run_id}context.json\"\n",
    "        with open(sel_context_path, 'w') as f:\n",
    "            json.dump(sel_context, f)\n",
    "\n",
    "\n",
    "        #train\n",
    "        subprocess.run([\n",
    "            'python', 'src/DStrain.py',\n",
    "            '--model_name', model_name,\n",
    "            '--context_path', sel_context_path,\n",
    "            '--ds_config_file_model', ds_config_file_model,\n",
    "            '--ds_config_file_train', ds_config_file_train,\n",
    "            '--temp_model_dir', temp_model_dir,\n",
    "            '--log_filepath', log_filepath,\n",
    "            '--epochs', str(epochs),\n",
    "            '--run_id', str(run_id)\n",
    "        ])\n",
    "\n",
    "        #eval\n",
    "        subprocess.run([\n",
    "            'python', 'src/DSeval.py',\n",
    "            '--temp_model_dir', temp_model_dir,\n",
    "            '--test_dataset_path', test_dataset_path,\n",
    "            '--log_filepath', log_filepath,\n",
    "            '--run_id', (run_id)\n",
    "        ])"
   ]
  }
 ],
 "metadata": {
  "kernelspec": {
   "display_name": "ft",
   "language": "python",
   "name": "python3"
  },
  "language_info": {
   "codemirror_mode": {
    "name": "ipython",
    "version": 3
   },
   "file_extension": ".py",
   "mimetype": "text/x-python",
   "name": "python",
   "nbconvert_exporter": "python",
   "pygments_lexer": "ipython3",
   "version": "3.11.5"
  }
 },
 "nbformat": 4,
 "nbformat_minor": 2
}
