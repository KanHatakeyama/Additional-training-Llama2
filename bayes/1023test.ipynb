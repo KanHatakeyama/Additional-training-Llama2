{
 "cells": [
  {
   "cell_type": "code",
   "execution_count": 1,
   "metadata": {},
   "outputs": [],
   "source": [
    "#ライブラリの自動リロード\n",
    "%load_ext autoreload\n",
    "%autoreload 2"
   ]
  },
  {
   "cell_type": "code",
   "execution_count": 2,
   "metadata": {},
   "outputs": [
    {
     "name": "stderr",
     "output_type": "stream",
     "text": [
      "/home/hatakeyama/miniconda3/envs/ft/lib/python3.11/site-packages/tqdm/auto.py:21: TqdmWarning: IProgress not found. Please update jupyter and ipywidgets. See https://ipywidgets.readthedocs.io/en/stable/user_install.html\n",
      "  from .autonotebook import tqdm as notebook_tqdm\n"
     ]
    },
    {
     "ename": "KeyboardInterrupt",
     "evalue": "",
     "output_type": "error",
     "traceback": [
      "\u001b[0;31m---------------------------------------------------------------------------\u001b[0m",
      "\u001b[0;31mKeyboardInterrupt\u001b[0m                         Traceback (most recent call last)",
      "\u001b[1;32m/media/hatakeyama/python/nat_llm/bayes/1023test.ipynb セル 2\u001b[0m line \u001b[0;36m3\n\u001b[1;32m      <a href='vscode-notebook-cell://ssh-remote%2B7b22686f73744e616d65223a2249676172617368692d6770757365727665722d70726573746f32303230227d/media/hatakeyama/python/nat_llm/bayes/1023test.ipynb#W1sdnNjb2RlLXJlbW90ZQ%3D%3D?line=0'>1</a>\u001b[0m \u001b[39m# %%\u001b[39;00m\n\u001b[1;32m      <a href='vscode-notebook-cell://ssh-remote%2B7b22686f73744e616d65223a2249676172617368692d6770757365727665722d70726573746f32303230227d/media/hatakeyama/python/nat_llm/bayes/1023test.ipynb#W1sdnNjb2RlLXJlbW90ZQ%3D%3D?line=1'>2</a>\u001b[0m \u001b[39mimport\u001b[39;00m \u001b[39mjson\u001b[39;00m\n\u001b[0;32m----> <a href='vscode-notebook-cell://ssh-remote%2B7b22686f73744e616d65223a2249676172617368692d6770757365727665722d70726573746f32303230227d/media/hatakeyama/python/nat_llm/bayes/1023test.ipynb#W1sdnNjb2RlLXJlbW90ZQ%3D%3D?line=2'>3</a>\u001b[0m \u001b[39mfrom\u001b[39;00m \u001b[39msrc\u001b[39;00m\u001b[39m.\u001b[39;00m\u001b[39mtrainer\u001b[39;00m \u001b[39mimport\u001b[39;00m train_and_eval\n\u001b[1;32m      <a href='vscode-notebook-cell://ssh-remote%2B7b22686f73744e616d65223a2249676172617368692d6770757365727665722d70726573746f32303230227d/media/hatakeyama/python/nat_llm/bayes/1023test.ipynb#W1sdnNjb2RlLXJlbW90ZQ%3D%3D?line=3'>4</a>\u001b[0m \u001b[39mfrom\u001b[39;00m \u001b[39msrc\u001b[39;00m\u001b[39m.\u001b[39;00m\u001b[39mmodel\u001b[39;00m \u001b[39mimport\u001b[39;00m full_lora_layers\n\u001b[1;32m      <a href='vscode-notebook-cell://ssh-remote%2B7b22686f73744e616d65223a2249676172617368692d6770757365727665722d70726573746f32303230227d/media/hatakeyama/python/nat_llm/bayes/1023test.ipynb#W1sdnNjb2RlLXJlbW90ZQ%3D%3D?line=4'>5</a>\u001b[0m \u001b[39mfrom\u001b[39;00m \u001b[39msrc\u001b[39;00m\u001b[39m.\u001b[39;00m\u001b[39mutils\u001b[39;00m \u001b[39mimport\u001b[39;00m select_lora_layers,select_train_datasets\n",
      "File \u001b[0;32m/media/hatakeyama/python/nat_llm/bayes/src/trainer.py:1\u001b[0m\n\u001b[0;32m----> 1\u001b[0m \u001b[39mfrom\u001b[39;00m \u001b[39mtransformers\u001b[39;00m\u001b[39m.\u001b[39;00m\u001b[39mtrainer_callback\u001b[39;00m \u001b[39mimport\u001b[39;00m TrainerCallback\n\u001b[1;32m      2\u001b[0m \u001b[39mfrom\u001b[39;00m \u001b[39mtransformers\u001b[39;00m \u001b[39mimport\u001b[39;00m pipeline\n\u001b[1;32m      3\u001b[0m \u001b[39mimport\u001b[39;00m \u001b[39mtransformers\u001b[39;00m\n",
      "File \u001b[0;32m~/miniconda3/envs/ft/lib/python3.11/site-packages/transformers/__init__.py:26\u001b[0m\n\u001b[1;32m     23\u001b[0m \u001b[39mfrom\u001b[39;00m \u001b[39mtyping\u001b[39;00m \u001b[39mimport\u001b[39;00m TYPE_CHECKING\n\u001b[1;32m     25\u001b[0m \u001b[39m# Check the dependencies satisfy the minimal versions required.\u001b[39;00m\n\u001b[0;32m---> 26\u001b[0m \u001b[39mfrom\u001b[39;00m \u001b[39m.\u001b[39;00m \u001b[39mimport\u001b[39;00m dependency_versions_check\n\u001b[1;32m     27\u001b[0m \u001b[39mfrom\u001b[39;00m \u001b[39m.\u001b[39;00m\u001b[39mutils\u001b[39;00m \u001b[39mimport\u001b[39;00m (\n\u001b[1;32m     28\u001b[0m     OptionalDependencyNotAvailable,\n\u001b[1;32m     29\u001b[0m     _LazyModule,\n\u001b[0;32m   (...)\u001b[0m\n\u001b[1;32m     46\u001b[0m     logging,\n\u001b[1;32m     47\u001b[0m )\n\u001b[1;32m     50\u001b[0m logger \u001b[39m=\u001b[39m logging\u001b[39m.\u001b[39mget_logger(\u001b[39m__name__\u001b[39m)  \u001b[39m# pylint: disable=invalid-name\u001b[39;00m\n",
      "File \u001b[0;32m~/miniconda3/envs/ft/lib/python3.11/site-packages/transformers/dependency_versions_check.py:16\u001b[0m\n\u001b[1;32m      1\u001b[0m \u001b[39m# Copyright 2020 The HuggingFace Team. All rights reserved.\u001b[39;00m\n\u001b[1;32m      2\u001b[0m \u001b[39m#\u001b[39;00m\n\u001b[1;32m      3\u001b[0m \u001b[39m# Licensed under the Apache License, Version 2.0 (the \"License\");\u001b[39;00m\n\u001b[0;32m   (...)\u001b[0m\n\u001b[1;32m     12\u001b[0m \u001b[39m# See the License for the specific language governing permissions and\u001b[39;00m\n\u001b[1;32m     13\u001b[0m \u001b[39m# limitations under the License.\u001b[39;00m\n\u001b[1;32m     15\u001b[0m \u001b[39mfrom\u001b[39;00m \u001b[39m.\u001b[39;00m\u001b[39mdependency_versions_table\u001b[39;00m \u001b[39mimport\u001b[39;00m deps\n\u001b[0;32m---> 16\u001b[0m \u001b[39mfrom\u001b[39;00m \u001b[39m.\u001b[39;00m\u001b[39mutils\u001b[39;00m\u001b[39m.\u001b[39;00m\u001b[39mversions\u001b[39;00m \u001b[39mimport\u001b[39;00m require_version, require_version_core\n\u001b[1;32m     19\u001b[0m \u001b[39m# define which module versions we always want to check at run time\u001b[39;00m\n\u001b[1;32m     20\u001b[0m \u001b[39m# (usually the ones defined in `install_requires` in setup.py)\u001b[39;00m\n\u001b[1;32m     21\u001b[0m \u001b[39m#\u001b[39;00m\n\u001b[1;32m     22\u001b[0m \u001b[39m# order specific notes:\u001b[39;00m\n\u001b[1;32m     23\u001b[0m \u001b[39m# - tqdm must be checked before tokenizers\u001b[39;00m\n\u001b[1;32m     25\u001b[0m pkgs_to_check_at_runtime \u001b[39m=\u001b[39m [\n\u001b[1;32m     26\u001b[0m     \u001b[39m\"\u001b[39m\u001b[39mpython\u001b[39m\u001b[39m\"\u001b[39m,\n\u001b[1;32m     27\u001b[0m     \u001b[39m\"\u001b[39m\u001b[39mtqdm\u001b[39m\u001b[39m\"\u001b[39m,\n\u001b[0;32m   (...)\u001b[0m\n\u001b[1;32m     37\u001b[0m     \u001b[39m\"\u001b[39m\u001b[39mpyyaml\u001b[39m\u001b[39m\"\u001b[39m,\n\u001b[1;32m     38\u001b[0m ]\n",
      "File \u001b[0;32m~/miniconda3/envs/ft/lib/python3.11/site-packages/transformers/utils/__init__.py:31\u001b[0m\n\u001b[1;32m     22\u001b[0m \u001b[39mfrom\u001b[39;00m \u001b[39m.\u001b[39;00m\u001b[39mconstants\u001b[39;00m \u001b[39mimport\u001b[39;00m IMAGENET_DEFAULT_MEAN, IMAGENET_DEFAULT_STD, IMAGENET_STANDARD_MEAN, IMAGENET_STANDARD_STD\n\u001b[1;32m     23\u001b[0m \u001b[39mfrom\u001b[39;00m \u001b[39m.\u001b[39;00m\u001b[39mdoc\u001b[39;00m \u001b[39mimport\u001b[39;00m (\n\u001b[1;32m     24\u001b[0m     add_code_sample_docstrings,\n\u001b[1;32m     25\u001b[0m     add_end_docstrings,\n\u001b[0;32m   (...)\u001b[0m\n\u001b[1;32m     29\u001b[0m     replace_return_docstrings,\n\u001b[1;32m     30\u001b[0m )\n\u001b[0;32m---> 31\u001b[0m \u001b[39mfrom\u001b[39;00m \u001b[39m.\u001b[39;00m\u001b[39mgeneric\u001b[39;00m \u001b[39mimport\u001b[39;00m (\n\u001b[1;32m     32\u001b[0m     ContextManagers,\n\u001b[1;32m     33\u001b[0m     ExplicitEnum,\n\u001b[1;32m     34\u001b[0m     ModelOutput,\n\u001b[1;32m     35\u001b[0m     PaddingStrategy,\n\u001b[1;32m     36\u001b[0m     TensorType,\n\u001b[1;32m     37\u001b[0m     add_model_info_to_auto_map,\n\u001b[1;32m     38\u001b[0m     cached_property,\n\u001b[1;32m     39\u001b[0m     can_return_loss,\n\u001b[1;32m     40\u001b[0m     expand_dims,\n\u001b[1;32m     41\u001b[0m     find_labels,\n\u001b[1;32m     42\u001b[0m     flatten_dict,\n\u001b[1;32m     43\u001b[0m     infer_framework,\n\u001b[1;32m     44\u001b[0m     is_jax_tensor,\n\u001b[1;32m     45\u001b[0m     is_numpy_array,\n\u001b[1;32m     46\u001b[0m     is_tensor,\n\u001b[1;32m     47\u001b[0m     is_tf_symbolic_tensor,\n\u001b[1;32m     48\u001b[0m     is_tf_tensor,\n\u001b[1;32m     49\u001b[0m     is_torch_device,\n\u001b[1;32m     50\u001b[0m     is_torch_dtype,\n\u001b[1;32m     51\u001b[0m     is_torch_tensor,\n\u001b[1;32m     52\u001b[0m     reshape,\n\u001b[1;32m     53\u001b[0m     squeeze,\n\u001b[1;32m     54\u001b[0m     strtobool,\n\u001b[1;32m     55\u001b[0m     tensor_size,\n\u001b[1;32m     56\u001b[0m     to_numpy,\n\u001b[1;32m     57\u001b[0m     to_py_obj,\n\u001b[1;32m     58\u001b[0m     transpose,\n\u001b[1;32m     59\u001b[0m     working_or_temp_dir,\n\u001b[1;32m     60\u001b[0m )\n\u001b[1;32m     61\u001b[0m \u001b[39mfrom\u001b[39;00m \u001b[39m.\u001b[39;00m\u001b[39mhub\u001b[39;00m \u001b[39mimport\u001b[39;00m (\n\u001b[1;32m     62\u001b[0m     CLOUDFRONT_DISTRIB_PREFIX,\n\u001b[1;32m     63\u001b[0m     DISABLE_TELEMETRY,\n\u001b[0;32m   (...)\u001b[0m\n\u001b[1;32m     90\u001b[0m     try_to_load_from_cache,\n\u001b[1;32m     91\u001b[0m )\n\u001b[1;32m     92\u001b[0m \u001b[39mfrom\u001b[39;00m \u001b[39m.\u001b[39;00m\u001b[39mimport_utils\u001b[39;00m \u001b[39mimport\u001b[39;00m (\n\u001b[1;32m     93\u001b[0m     ENV_VARS_TRUE_AND_AUTO_VALUES,\n\u001b[1;32m     94\u001b[0m     ENV_VARS_TRUE_VALUES,\n\u001b[0;32m   (...)\u001b[0m\n\u001b[1;32m    189\u001b[0m     torch_only_method,\n\u001b[1;32m    190\u001b[0m )\n",
      "File \u001b[0;32m~/miniconda3/envs/ft/lib/python3.11/site-packages/transformers/utils/generic.py:29\u001b[0m\n\u001b[1;32m     25\u001b[0m \u001b[39mfrom\u001b[39;00m \u001b[39mtyping\u001b[39;00m \u001b[39mimport\u001b[39;00m Any, ContextManager, List, Tuple\n\u001b[1;32m     27\u001b[0m \u001b[39mimport\u001b[39;00m \u001b[39mnumpy\u001b[39;00m \u001b[39mas\u001b[39;00m \u001b[39mnp\u001b[39;00m\n\u001b[0;32m---> 29\u001b[0m \u001b[39mfrom\u001b[39;00m \u001b[39m.\u001b[39;00m\u001b[39mimport_utils\u001b[39;00m \u001b[39mimport\u001b[39;00m is_flax_available, is_tf_available, is_torch_available, is_torch_fx_proxy\n\u001b[1;32m     32\u001b[0m \u001b[39mif\u001b[39;00m is_flax_available():\n\u001b[1;32m     33\u001b[0m     \u001b[39mimport\u001b[39;00m \u001b[39mjax\u001b[39;00m\u001b[39m.\u001b[39;00m\u001b[39mnumpy\u001b[39;00m \u001b[39mas\u001b[39;00m \u001b[39mjnp\u001b[39;00m\n",
      "File \u001b[0;32m~/miniconda3/envs/ft/lib/python3.11/site-packages/transformers/utils/import_utils.py:119\u001b[0m\n\u001b[1;32m    117\u001b[0m _rjieba_available \u001b[39m=\u001b[39m _is_package_available(\u001b[39m\"\u001b[39m\u001b[39mrjieba\u001b[39m\u001b[39m\"\u001b[39m)\n\u001b[1;32m    118\u001b[0m _sacremoses_available \u001b[39m=\u001b[39m _is_package_available(\u001b[39m\"\u001b[39m\u001b[39msacremoses\u001b[39m\u001b[39m\"\u001b[39m)\n\u001b[0;32m--> 119\u001b[0m _safetensors_available \u001b[39m=\u001b[39m _is_package_available(\u001b[39m\"\u001b[39;49m\u001b[39msafetensors\u001b[39;49m\u001b[39m\"\u001b[39;49m)\n\u001b[1;32m    120\u001b[0m _scipy_available \u001b[39m=\u001b[39m _is_package_available(\u001b[39m\"\u001b[39m\u001b[39mscipy\u001b[39m\u001b[39m\"\u001b[39m)\n\u001b[1;32m    121\u001b[0m _sentencepiece_available \u001b[39m=\u001b[39m _is_package_available(\u001b[39m\"\u001b[39m\u001b[39msentencepiece\u001b[39m\u001b[39m\"\u001b[39m)\n",
      "File \u001b[0;32m~/miniconda3/envs/ft/lib/python3.11/site-packages/transformers/utils/import_utils.py:47\u001b[0m, in \u001b[0;36m_is_package_available\u001b[0;34m(pkg_name, return_version)\u001b[0m\n\u001b[1;32m     45\u001b[0m \u001b[39mif\u001b[39;00m package_exists:\n\u001b[1;32m     46\u001b[0m     \u001b[39mtry\u001b[39;00m:\n\u001b[0;32m---> 47\u001b[0m         package_version \u001b[39m=\u001b[39m importlib\u001b[39m.\u001b[39;49mmetadata\u001b[39m.\u001b[39;49mversion(pkg_name)\n\u001b[1;32m     48\u001b[0m         package_exists \u001b[39m=\u001b[39m \u001b[39mTrue\u001b[39;00m\n\u001b[1;32m     49\u001b[0m     \u001b[39mexcept\u001b[39;00m importlib\u001b[39m.\u001b[39mmetadata\u001b[39m.\u001b[39mPackageNotFoundError:\n",
      "File \u001b[0;32m~/miniconda3/envs/ft/lib/python3.11/importlib/metadata/__init__.py:1008\u001b[0m, in \u001b[0;36mversion\u001b[0;34m(distribution_name)\u001b[0m\n\u001b[1;32m   1001\u001b[0m \u001b[39mdef\u001b[39;00m \u001b[39mversion\u001b[39m(distribution_name):\n\u001b[1;32m   1002\u001b[0m \u001b[39m    \u001b[39m\u001b[39m\"\"\"Get the version string for the named package.\u001b[39;00m\n\u001b[1;32m   1003\u001b[0m \n\u001b[1;32m   1004\u001b[0m \u001b[39m    :param distribution_name: The name of the distribution package to query.\u001b[39;00m\n\u001b[1;32m   1005\u001b[0m \u001b[39m    :return: The version string for the package as defined in the package's\u001b[39;00m\n\u001b[1;32m   1006\u001b[0m \u001b[39m        \"Version\" metadata key.\u001b[39;00m\n\u001b[1;32m   1007\u001b[0m \u001b[39m    \"\"\"\u001b[39;00m\n\u001b[0;32m-> 1008\u001b[0m     \u001b[39mreturn\u001b[39;00m distribution(distribution_name)\u001b[39m.\u001b[39;49mversion\n",
      "File \u001b[0;32m~/miniconda3/envs/ft/lib/python3.11/importlib/metadata/__init__.py:632\u001b[0m, in \u001b[0;36mDistribution.version\u001b[0;34m(self)\u001b[0m\n\u001b[1;32m    629\u001b[0m \u001b[39m@property\u001b[39m\n\u001b[1;32m    630\u001b[0m \u001b[39mdef\u001b[39;00m \u001b[39mversion\u001b[39m(\u001b[39mself\u001b[39m):\n\u001b[1;32m    631\u001b[0m \u001b[39m    \u001b[39m\u001b[39m\"\"\"Return the 'Version' metadata for the distribution package.\"\"\"\u001b[39;00m\n\u001b[0;32m--> 632\u001b[0m     \u001b[39mreturn\u001b[39;00m \u001b[39mself\u001b[39;49m\u001b[39m.\u001b[39;49mmetadata[\u001b[39m'\u001b[39m\u001b[39mVersion\u001b[39m\u001b[39m'\u001b[39m]\n",
      "File \u001b[0;32m~/miniconda3/envs/ft/lib/python3.11/importlib/metadata/__init__.py:617\u001b[0m, in \u001b[0;36mDistribution.metadata\u001b[0;34m(self)\u001b[0m\n\u001b[1;32m    604\u001b[0m \u001b[39m\u001b[39m\u001b[39m\"\"\"Return the parsed metadata for this Distribution.\u001b[39;00m\n\u001b[1;32m    605\u001b[0m \n\u001b[1;32m    606\u001b[0m \u001b[39mThe returned object will have keys that name the various bits of\u001b[39;00m\n\u001b[1;32m    607\u001b[0m \u001b[39mmetadata.  See PEP 566 for details.\u001b[39;00m\n\u001b[1;32m    608\u001b[0m \u001b[39m\"\"\"\u001b[39;00m\n\u001b[1;32m    609\u001b[0m text \u001b[39m=\u001b[39m (\n\u001b[1;32m    610\u001b[0m     \u001b[39mself\u001b[39m\u001b[39m.\u001b[39mread_text(\u001b[39m'\u001b[39m\u001b[39mMETADATA\u001b[39m\u001b[39m'\u001b[39m)\n\u001b[1;32m    611\u001b[0m     \u001b[39mor\u001b[39;00m \u001b[39mself\u001b[39m\u001b[39m.\u001b[39mread_text(\u001b[39m'\u001b[39m\u001b[39mPKG-INFO\u001b[39m\u001b[39m'\u001b[39m)\n\u001b[0;32m   (...)\u001b[0m\n\u001b[1;32m    615\u001b[0m     \u001b[39mor\u001b[39;00m \u001b[39mself\u001b[39m\u001b[39m.\u001b[39mread_text(\u001b[39m'\u001b[39m\u001b[39m'\u001b[39m)\n\u001b[1;32m    616\u001b[0m )\n\u001b[0;32m--> 617\u001b[0m \u001b[39mreturn\u001b[39;00m _adapters\u001b[39m.\u001b[39mMessage(email\u001b[39m.\u001b[39;49mmessage_from_string(text))\n",
      "File \u001b[0;32m~/miniconda3/envs/ft/lib/python3.11/email/__init__.py:37\u001b[0m, in \u001b[0;36mmessage_from_string\u001b[0;34m(s, *args, **kws)\u001b[0m\n\u001b[1;32m     32\u001b[0m \u001b[39m\u001b[39m\u001b[39m\"\"\"Parse a string into a Message object model.\u001b[39;00m\n\u001b[1;32m     33\u001b[0m \n\u001b[1;32m     34\u001b[0m \u001b[39mOptional _class and strict are passed to the Parser constructor.\u001b[39;00m\n\u001b[1;32m     35\u001b[0m \u001b[39m\"\"\"\u001b[39;00m\n\u001b[1;32m     36\u001b[0m \u001b[39mfrom\u001b[39;00m \u001b[39memail\u001b[39;00m\u001b[39m.\u001b[39;00m\u001b[39mparser\u001b[39;00m \u001b[39mimport\u001b[39;00m Parser\n\u001b[0;32m---> 37\u001b[0m \u001b[39mreturn\u001b[39;00m Parser(\u001b[39m*\u001b[39;49margs, \u001b[39m*\u001b[39;49m\u001b[39m*\u001b[39;49mkws)\u001b[39m.\u001b[39;49mparsestr(s)\n",
      "File \u001b[0;32m~/miniconda3/envs/ft/lib/python3.11/email/parser.py:67\u001b[0m, in \u001b[0;36mParser.parsestr\u001b[0;34m(self, text, headersonly)\u001b[0m\n\u001b[1;32m     59\u001b[0m \u001b[39mdef\u001b[39;00m \u001b[39mparsestr\u001b[39m(\u001b[39mself\u001b[39m, text, headersonly\u001b[39m=\u001b[39m\u001b[39mFalse\u001b[39;00m):\n\u001b[1;32m     60\u001b[0m \u001b[39m    \u001b[39m\u001b[39m\"\"\"Create a message structure from a string.\u001b[39;00m\n\u001b[1;32m     61\u001b[0m \n\u001b[1;32m     62\u001b[0m \u001b[39m    Returns the root of the message structure.  Optional headersonly is a\u001b[39;00m\n\u001b[0;32m   (...)\u001b[0m\n\u001b[1;32m     65\u001b[0m \u001b[39m    the file.\u001b[39;00m\n\u001b[1;32m     66\u001b[0m \u001b[39m    \"\"\"\u001b[39;00m\n\u001b[0;32m---> 67\u001b[0m     \u001b[39mreturn\u001b[39;00m \u001b[39mself\u001b[39;49m\u001b[39m.\u001b[39;49mparse(StringIO(text), headersonly\u001b[39m=\u001b[39;49mheadersonly)\n",
      "File \u001b[0;32m~/miniconda3/envs/ft/lib/python3.11/email/parser.py:56\u001b[0m, in \u001b[0;36mParser.parse\u001b[0;34m(self, fp, headersonly)\u001b[0m\n\u001b[1;32m     54\u001b[0m     \u001b[39mif\u001b[39;00m \u001b[39mnot\u001b[39;00m data:\n\u001b[1;32m     55\u001b[0m         \u001b[39mbreak\u001b[39;00m\n\u001b[0;32m---> 56\u001b[0m     feedparser\u001b[39m.\u001b[39;49mfeed(data)\n\u001b[1;32m     57\u001b[0m \u001b[39mreturn\u001b[39;00m feedparser\u001b[39m.\u001b[39mclose()\n",
      "File \u001b[0;32m~/miniconda3/envs/ft/lib/python3.11/email/feedparser.py:174\u001b[0m, in \u001b[0;36mFeedParser.feed\u001b[0;34m(self, data)\u001b[0m\n\u001b[1;32m    172\u001b[0m \u001b[39m\u001b[39m\u001b[39m\"\"\"Push more data into the parser.\"\"\"\u001b[39;00m\n\u001b[1;32m    173\u001b[0m \u001b[39mself\u001b[39m\u001b[39m.\u001b[39m_input\u001b[39m.\u001b[39mpush(data)\n\u001b[0;32m--> 174\u001b[0m \u001b[39mself\u001b[39;49m\u001b[39m.\u001b[39;49m_call_parse()\n",
      "File \u001b[0;32m~/miniconda3/envs/ft/lib/python3.11/email/feedparser.py:178\u001b[0m, in \u001b[0;36mFeedParser._call_parse\u001b[0;34m(self)\u001b[0m\n\u001b[1;32m    176\u001b[0m \u001b[39mdef\u001b[39;00m \u001b[39m_call_parse\u001b[39m(\u001b[39mself\u001b[39m):\n\u001b[1;32m    177\u001b[0m     \u001b[39mtry\u001b[39;00m:\n\u001b[0;32m--> 178\u001b[0m         \u001b[39mself\u001b[39;49m\u001b[39m.\u001b[39;49m_parse()\n\u001b[1;32m    179\u001b[0m     \u001b[39mexcept\u001b[39;00m \u001b[39mStopIteration\u001b[39;00m:\n\u001b[1;32m    180\u001b[0m         \u001b[39mpass\u001b[39;00m\n",
      "File \u001b[0;32m~/miniconda3/envs/ft/lib/python3.11/email/feedparser.py:303\u001b[0m, in \u001b[0;36mFeedParser._parsegen\u001b[0;34m(self)\u001b[0m\n\u001b[1;32m    301\u001b[0m     \u001b[39mself\u001b[39m\u001b[39m.\u001b[39m_pop_message()\n\u001b[1;32m    302\u001b[0m     \u001b[39mreturn\u001b[39;00m\n\u001b[0;32m--> 303\u001b[0m \u001b[39mif\u001b[39;00m \u001b[39mself\u001b[39;49m\u001b[39m.\u001b[39;49m_cur\u001b[39m.\u001b[39;49mget_content_maintype() \u001b[39m==\u001b[39m \u001b[39m'\u001b[39m\u001b[39mmultipart\u001b[39m\u001b[39m'\u001b[39m:\n\u001b[1;32m    304\u001b[0m     boundary \u001b[39m=\u001b[39m \u001b[39mself\u001b[39m\u001b[39m.\u001b[39m_cur\u001b[39m.\u001b[39mget_boundary()\n\u001b[1;32m    305\u001b[0m     \u001b[39mif\u001b[39;00m boundary \u001b[39mis\u001b[39;00m \u001b[39mNone\u001b[39;00m:\n\u001b[1;32m    306\u001b[0m         \u001b[39m# The message /claims/ to be a multipart but it has not\u001b[39;00m\n\u001b[1;32m    307\u001b[0m         \u001b[39m# defined a boundary.  That's a problem which we'll handle by\u001b[39;00m\n\u001b[1;32m    308\u001b[0m         \u001b[39m# reading everything until the EOF and marking the message as\u001b[39;00m\n\u001b[1;32m    309\u001b[0m         \u001b[39m# defective.\u001b[39;00m\n",
      "File \u001b[0;32m~/miniconda3/envs/ft/lib/python3.11/email/message.py:621\u001b[0m, in \u001b[0;36mMessage.get_content_maintype\u001b[0;34m(self)\u001b[0m\n\u001b[1;32m    615\u001b[0m \u001b[39mdef\u001b[39;00m \u001b[39mget_content_maintype\u001b[39m(\u001b[39mself\u001b[39m):\n\u001b[1;32m    616\u001b[0m \u001b[39m    \u001b[39m\u001b[39m\"\"\"Return the message's main content type.\u001b[39;00m\n\u001b[1;32m    617\u001b[0m \n\u001b[1;32m    618\u001b[0m \u001b[39m    This is the `maintype' part of the string returned by\u001b[39;00m\n\u001b[1;32m    619\u001b[0m \u001b[39m    get_content_type().\u001b[39;00m\n\u001b[1;32m    620\u001b[0m \u001b[39m    \"\"\"\u001b[39;00m\n\u001b[0;32m--> 621\u001b[0m     ctype \u001b[39m=\u001b[39m \u001b[39mself\u001b[39;49m\u001b[39m.\u001b[39;49mget_content_type()\n\u001b[1;32m    622\u001b[0m     \u001b[39mreturn\u001b[39;00m ctype\u001b[39m.\u001b[39msplit(\u001b[39m'\u001b[39m\u001b[39m/\u001b[39m\u001b[39m'\u001b[39m)[\u001b[39m0\u001b[39m]\n",
      "File \u001b[0;32m~/miniconda3/envs/ft/lib/python3.11/email/message.py:605\u001b[0m, in \u001b[0;36mMessage.get_content_type\u001b[0;34m(self)\u001b[0m\n\u001b[1;32m    592\u001b[0m \u001b[39m\u001b[39m\u001b[39m\"\"\"Return the message's content type.\u001b[39;00m\n\u001b[1;32m    593\u001b[0m \n\u001b[1;32m    594\u001b[0m \u001b[39mThe returned string is coerced to lower case of the form\u001b[39;00m\n\u001b[0;32m   (...)\u001b[0m\n\u001b[1;32m    602\u001b[0m \u001b[39mmessage/rfc822.\u001b[39;00m\n\u001b[1;32m    603\u001b[0m \u001b[39m\"\"\"\u001b[39;00m\n\u001b[1;32m    604\u001b[0m missing \u001b[39m=\u001b[39m \u001b[39mobject\u001b[39m()\n\u001b[0;32m--> 605\u001b[0m value \u001b[39m=\u001b[39m \u001b[39mself\u001b[39;49m\u001b[39m.\u001b[39;49mget(\u001b[39m'\u001b[39;49m\u001b[39mcontent-type\u001b[39;49m\u001b[39m'\u001b[39;49m, missing)\n\u001b[1;32m    606\u001b[0m \u001b[39mif\u001b[39;00m value \u001b[39mis\u001b[39;00m missing:\n\u001b[1;32m    607\u001b[0m     \u001b[39m# This should have no parameters\u001b[39;00m\n\u001b[1;32m    608\u001b[0m     \u001b[39mreturn\u001b[39;00m \u001b[39mself\u001b[39m\u001b[39m.\u001b[39mget_default_type()\n",
      "File \u001b[0;32m~/miniconda3/envs/ft/lib/python3.11/email/message.py:497\u001b[0m, in \u001b[0;36mMessage.get\u001b[0;34m(self, name, failobj)\u001b[0m\n\u001b[1;32m    495\u001b[0m name \u001b[39m=\u001b[39m name\u001b[39m.\u001b[39mlower()\n\u001b[1;32m    496\u001b[0m \u001b[39mfor\u001b[39;00m k, v \u001b[39min\u001b[39;00m \u001b[39mself\u001b[39m\u001b[39m.\u001b[39m_headers:\n\u001b[0;32m--> 497\u001b[0m     \u001b[39mif\u001b[39;00m k\u001b[39m.\u001b[39mlower() \u001b[39m==\u001b[39m name:\n\u001b[1;32m    498\u001b[0m         \u001b[39mreturn\u001b[39;00m \u001b[39mself\u001b[39m\u001b[39m.\u001b[39mpolicy\u001b[39m.\u001b[39mheader_fetch_parse(k, v)\n\u001b[1;32m    499\u001b[0m \u001b[39mreturn\u001b[39;00m failobj\n",
      "\u001b[0;31mKeyboardInterrupt\u001b[0m: "
     ]
    }
   ],
   "source": [
    "\n",
    "# %%\n",
    "import json\n",
    "from src.trainer import train_and_eval\n",
    "from src.model import full_lora_layers\n",
    "from src.utils import select_lora_layers,select_train_datasets\n",
    "\n",
    "\n",
    "model_name = \"meta-llama/Llama-2-7b-chat-hf\"\n",
    "r = 2\n",
    "lr = 0.001\n",
    "lora_alpha = 128\n",
    "total_epochs = 3\n",
    "test_dataset_path = \"../smallDB/1018ig/qa.json\"\n",
    "context_path = \"../smallDB/1018ig/context_ig_paraphrase_plus_oa.json\"\n",
    "log_filepath=\"train_log.json\"\n",
    "per_device_train_batch_size = 1\n",
    "n_irrelevant_texts=10\n",
    "\n",
    "\n",
    "train_context_dict={\n",
    "\"1\":False,\n",
    "\"2\":True,\n",
    "\"3\":True,\n",
    "\"4\":True,\n",
    "\"5\":True,\n",
    "\"6\":True,\n",
    "\"7\":True,\n",
    "\"8\":True,\n",
    "\"9\":True,\n",
    "\"10\":True,\n",
    "\"11\":False,\n",
    "\"12\":True,\n",
    "}\n",
    "lora_layer_dict={\n",
    "    \"embed_tokens\":False,\n",
    "    \"lm_head\":False,\n",
    "    \"q_proj\":True,\n",
    "    \"k_proj\":False,\n",
    "    \"v_proj\":False,\n",
    "    \"o_proj\":False,\n",
    "    \"gate_proj\":False,\n",
    "    \"up_proj\":False,\n",
    "    \"down_proj\":True,\n",
    "    \n",
    "}\n",
    "\n"
   ]
  },
  {
   "cell_type": "code",
   "execution_count": null,
   "metadata": {},
   "outputs": [],
   "source": [
    "\n",
    "with open(test_dataset_path, \"r\") as f:\n",
    "    test_dataset = json.load(f)\n",
    "\n",
    "# context\n",
    "with open(context_path, 'r') as f:\n",
    "    context_list = json.load(f)\n",
    "\n",
    "\n",
    "target_layers=select_lora_layers(lora_layer_dict)\n",
    "use_context_list=select_train_datasets(train_context_dict,context_list,n_irrelevant_texts)"
   ]
  },
  {
   "cell_type": "code",
   "execution_count": null,
   "metadata": {},
   "outputs": [],
   "source": [
    "\n",
    "train_dict={}\n",
    "train_dict[\"train_text_list\"] = use_context_list\n",
    "train_dict[\"lola_layer_dict\"] = lora_layer_dict\n",
    "train_dict[\"test_dataset\"]=test_dataset\n",
    "train_dict[\"model_name\"] = model_name\n",
    "train_dict[\"r\"]=r\n",
    "train_dict[\"lr\"]=lr\n",
    "train_dict[\"lora_alpha\"]=lora_alpha\n",
    "train_dict[\"target_layers\"]=target_layers\n",
    "train_dict[\"train_context_dict\"]=train_context_dict\n",
    "train_dict[\"total_epochs\"]=total_epochs\n",
    "train_dict[\"n_irrelevant_texts\"]=n_irrelevant_texts\n",
    "train_dict[\"log_filepath\"]=log_filepath\n",
    "train_dict[\"per_device_train_batch_size\"]=per_device_train_batch_size"
   ]
  },
  {
   "cell_type": "code",
   "execution_count": null,
   "metadata": {},
   "outputs": [],
   "source": [
    "score=train_and_eval(train_dict)"
   ]
  },
  {
   "cell_type": "code",
   "execution_count": 48,
   "metadata": {},
   "outputs": [],
   "source": [
    "import numpy as np\n",
    "def random_log_scale(min_val=1, max_val=1024,use_int=True):\n",
    "    # 0と1の間でランダムな実数を生成\n",
    "    rand_num = np.random.rand()\n",
    "    \n",
    "    # 対数スケールでの値を計算\n",
    "    log_min = np.log(min_val)\n",
    "    log_max = np.log(max_val)\n",
    "    log_value = log_min + rand_num * (log_max - log_min)\n",
    "    \n",
    "    # 対数スケールの値を四捨五入して整数に変換\n",
    "    if use_int:\n",
    "        return int(round(np.exp(log_value)))\n",
    "    else:\n",
    "        return np.exp(log_value)\n"
   ]
  },
  {
   "cell_type": "code",
   "execution_count": 49,
   "metadata": {},
   "outputs": [
    {
     "data": {
      "text/plain": [
       "36.37027775922828"
      ]
     },
     "execution_count": 49,
     "metadata": {},
     "output_type": "execute_result"
    }
   ],
   "source": [
    "random_log_scale(min_val=1,max_val=1000,use_int=False)"
   ]
  },
  {
   "cell_type": "code",
   "execution_count": null,
   "metadata": {},
   "outputs": [
    {
     "name": "stdout",
     "output_type": "stream",
     "text": [
      "0.02414465434686065\n"
     ]
    }
   ],
   "source": [
    "import numpy as np\n",
    "\n",
    "def random_log_scale_float(min_val=0.001, max_val=1):\n",
    "    # 0と1の間でランダムな実数を生成\n",
    "    rand_num = np.random.rand()\n",
    "    \n",
    "    # 対数スケールでの値を計算\n",
    "    log_min = np.log(min_val)\n",
    "    log_max = np.log(max_val)\n",
    "    log_value = log_min + rand_num * (log_max - log_min)\n",
    "    \n",
    "    # 対数スケールの実数を返す\n",
    "    return np.exp(log_value)\n",
    "\n",
    "# 1から1024の範囲での対数スケールのランダムな実数を得る\n",
    "result = random_log_scale_float()\n",
    "print(result)"
   ]
  },
  {
   "cell_type": "code",
   "execution_count": 24,
   "metadata": {},
   "outputs": [],
   "source": [
    "import random\n",
    "n_loop=1\n",
    "for i in range(n_loop):\n",
    "\n",
    "    train_context_dict = {\n",
    "        \"1\": random.choice([True, False]),\n",
    "        \"2\": random.choice([True, False]),\n",
    "        \"3\": random.choice([True, False]),\n",
    "        \"4\": random.choice([True, False]),\n",
    "        \"5\": random.choice([True, False]),\n",
    "        \"6\": random.choice([True, False]),\n",
    "        \"7\": random.choice([True, False]),\n",
    "        \"8\": random.choice([True, False]),\n",
    "        \"9\": random.choice([True, False]),\n",
    "        \"10\": random.choice([True, False]),\n",
    "        \"11\": random.choice([True, False]),\n",
    "        \"12\": random.choice([True, False]),\n",
    "    }\n",
    "    lora_layer_dict = {\n",
    "        \"embed_tokens\": random.choice([True, False]),\n",
    "        \"lm_head\": random.choice([True, False]),\n",
    "        \"q_proj\": random.choice([True, False]),\n",
    "        \"k_proj\": random.choice([True, False]),\n",
    "        \"v_proj\": random.choice([True, False]),\n",
    "        \"o_proj\": random.choice([True, False]),\n",
    "        \"gate_proj\": random.choice([True, False]),\n",
    "        \"up_proj\": random.choice([True, False]),\n",
    "        \"down_proj\": random.choice([True, False]),\n",
    "    }"
   ]
  },
  {
   "cell_type": "code",
   "execution_count": 25,
   "metadata": {},
   "outputs": [
    {
     "data": {
      "text/plain": [
       "{'embed_tokens': False,\n",
       " 'lm_head': False,\n",
       " 'q_proj': True,\n",
       " 'k_proj': True,\n",
       " 'v_proj': True,\n",
       " 'o_proj': True,\n",
       " 'gate_proj': True,\n",
       " 'up_proj': True,\n",
       " 'down_proj': False}"
      ]
     },
     "execution_count": 25,
     "metadata": {},
     "output_type": "execute_result"
    }
   ],
   "source": [
    "lora_layer_dict"
   ]
  },
  {
   "cell_type": "code",
   "execution_count": 34,
   "metadata": {},
   "outputs": [
    {
     "data": {
      "text/plain": [
       "1698102160"
      ]
     },
     "execution_count": 34,
     "metadata": {},
     "output_type": "execute_result"
    }
   ],
   "source": [
    "import time\n",
    "random.seed(int(time.time()))\n",
    "int(time.time())"
   ]
  },
  {
   "cell_type": "code",
   "execution_count": 96,
   "metadata": {},
   "outputs": [
    {
     "data": {
      "text/plain": [
       "909484.0"
      ]
     },
     "execution_count": 96,
     "metadata": {},
     "output_type": "execute_result"
    }
   ],
   "source": [
    "time.time()*10000000%1234567"
   ]
  },
  {
   "cell_type": "code",
   "execution_count": 111,
   "metadata": {},
   "outputs": [
    {
     "data": {
      "text/plain": [
       "6"
      ]
     },
     "execution_count": 111,
     "metadata": {},
     "output_type": "execute_result"
    }
   ],
   "source": [
    "from src.utils import random_log_scale_int\n",
    "random_log_scale_int(\n",
    "        min_val=1, max_val=5000)"
   ]
  },
  {
   "cell_type": "code",
   "execution_count": null,
   "metadata": {},
   "outputs": [],
   "source": []
  }
 ],
 "metadata": {
  "kernelspec": {
   "display_name": "ft",
   "language": "python",
   "name": "python3"
  },
  "language_info": {
   "codemirror_mode": {
    "name": "ipython",
    "version": 3
   },
   "file_extension": ".py",
   "mimetype": "text/x-python",
   "name": "python",
   "nbconvert_exporter": "python",
   "pygments_lexer": "ipython3",
   "version": "3.11.5"
  }
 },
 "nbformat": 4,
 "nbformat_minor": 2
}
