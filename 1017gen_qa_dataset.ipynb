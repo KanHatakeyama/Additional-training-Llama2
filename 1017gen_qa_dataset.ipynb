{
 "cells": [
  {
   "cell_type": "code",
   "execution_count": 1,
   "metadata": {},
   "outputs": [],
   "source": [
    "#Q&Aをもとに､データセットをつくってみる"
   ]
  },
  {
   "cell_type": "code",
   "execution_count": 1,
   "metadata": {},
   "outputs": [],
   "source": [
    "import random\n",
    "import numpy as np\n",
    "import json\n",
    "random.seed(0)\n",
    "np.random.seed(0)"
   ]
  },
  {
   "cell_type": "code",
   "execution_count": 2,
   "metadata": {},
   "outputs": [
    {
     "data": {
      "text/plain": [
       "238917"
      ]
     },
     "execution_count": 2,
     "metadata": {},
     "output_type": "execute_result"
    }
   ],
   "source": [
    "qa_path=\"database/output/qa0926.json\"\n",
    "context_path=\"database/output/context0926.json\"\n",
    "\n",
    "\n",
    "with open(qa_path,\"r\") as f:\n",
    "    q_a_with_context_list=json.load(f)\n",
    "\n",
    "with open(context_path,\"r\") as f:\n",
    "    context_list=json.load(f)\n",
    "len(q_a_with_context_list)"
   ]
  },
  {
   "cell_type": "code",
   "execution_count": 3,
   "metadata": {},
   "outputs": [
    {
     "data": {
      "text/plain": [
       "42394"
      ]
     },
     "execution_count": 3,
     "metadata": {},
     "output_type": "execute_result"
    }
   ],
   "source": [
    "context_id_set=list(set([c[\"context_id\"] for c in q_a_with_context_list]))\n",
    "len(context_id_set)"
   ]
  },
  {
   "cell_type": "code",
   "execution_count": 4,
   "metadata": {},
   "outputs": [
    {
     "data": {
      "text/plain": [
       "{'context_id': 4993,\n",
       " 'question': 'What organisms are known to produce the enzyme thiaminase I?',\n",
       " 'answer': 'Thiaminase I is known to be produced by certain bacteria including Paenibacillus thiaminolyticus, Burkholderia thailandensis, Paenibacillus apiarius, Clostridium sporogenes, and Clostridium botulinum. It has also been reported in some plants and fish, although the observations in fish need further evaluation regarding potential microbial origins.',\n",
       " 'ref_id': 352}"
      ]
     },
     "execution_count": 4,
     "metadata": {},
     "output_type": "execute_result"
    }
   ],
   "source": [
    "q_a_with_context_list[0]"
   ]
  },
  {
   "cell_type": "code",
   "execution_count": 7,
   "metadata": {},
   "outputs": [
    {
     "name": "stderr",
     "output_type": "stream",
     "text": [
      "100%|██████████| 42394/42394 [20:43<00:00, 34.08it/s]\n"
     ]
    }
   ],
   "source": [
    "from tqdm import tqdm\n",
    "#記述式と選択式の割合\n",
    "multiple_qa_ratio=0.6\n",
    "#コンテキスト有無の割合\n",
    "inc_context_ratio=0.9\n",
    "\n",
    "question_datset=[]\n",
    "\n",
    "for context_id in tqdm(context_id_set):\n",
    "    #特定のcontextを持つ問題を集める\n",
    "    part_question_list=[c for c in q_a_with_context_list if c[\"context_id\"]==context_id]\n",
    "\n",
    "    #物切れの回答類を削除\n",
    "    for typ in [\"question\",\"answer\"]:\n",
    "        part_question_list=[c for c in part_question_list if len(c[typ])>10]\n",
    "        part_question_list=[c for c in part_question_list if c[typ][-1]!=\":\"]\n",
    "        for ng_words in [\"Claude\",\"http\",\"URL\",\"Oops!\"]:\n",
    "            part_question_list=[c for c in part_question_list if c[typ].find(ng_words)==-1]\n",
    "\n",
    "    if len(part_question_list)<1:\n",
    "        continue\n",
    "\n",
    "    #ランダムに問題形式を決定\n",
    "    if np.random.random()<multiple_qa_ratio:\n",
    "        mode=\"mult\"\n",
    "    else:\n",
    "        mode=\"gen\"\n",
    "    if len(part_question_list)<4:\n",
    "        mode=\"gen\"\n",
    "\n",
    "\n",
    "    #質問をrandom select\n",
    "    sampled_qa=random.sample(part_question_list,min(4,len(part_question_list)))\n",
    "    target_qa_id=random.randint(0,min(3,len(sampled_qa)-1))\n",
    "    target_qa=sampled_qa[target_qa_id]\n",
    "\n",
    "    question_dict={\n",
    "        \"question\":target_qa[\"question\"],\n",
    "        \"answer\":target_qa[\"answer\"],\n",
    "        \"ref_id\":target_qa[\"ref_id\"],\n",
    "    }\n",
    "    #choices\n",
    "    if mode==\"mult\":\n",
    "        question_dict[\"choices\"]=[qa[\"answer\"] for qa in sampled_qa]\n",
    "\n",
    "    #contextを使うか否か\n",
    "    use_context=np.random.random()>inc_context_ratio\n",
    "\n",
    "    #質問にtheseとかを含む場合は､contextを使う\n",
    "\n",
    "    filt_keys=[\"the\",\"these\",\"those\",\"this\",\"its\",\"et al\"]\n",
    "\n",
    "    for key in filt_keys:\n",
    "        if key in target_qa[\"question\"]:\n",
    "            use_context=True\n",
    "            break\n",
    "\n",
    "    context=context_list[target_qa[\"context_id\"]]\n",
    "    if use_context:\n",
    "        question_dict[\"context\"]=context\n",
    "    else:\n",
    "        question_dict[\"context\"]=\"\"\n",
    "\n",
    "    question_datset.append(question_dict)"
   ]
  },
  {
   "cell_type": "code",
   "execution_count": 8,
   "metadata": {},
   "outputs": [],
   "source": [
    "with open(\"database/output/qa_dataset1017.json\",\"w\") as f:\n",
    "    json.dump(question_datset,f,indent=1)"
   ]
  },
  {
   "cell_type": "code",
   "execution_count": 9,
   "metadata": {},
   "outputs": [
    {
     "data": {
      "text/plain": [
       "0"
      ]
     },
     "execution_count": 9,
     "metadata": {},
     "output_type": "execute_result"
    }
   ],
   "source": [
    "wo_context_data=[d for d in question_datset if d[\"context\"]==\"\"]\n",
    "len(wo_context_data)"
   ]
  },
  {
   "cell_type": "code",
   "execution_count": 10,
   "metadata": {},
   "outputs": [],
   "source": [
    "import random\n",
    "random.seed(0)\n",
    "random.shuffle(question_datset)"
   ]
  },
  {
   "cell_type": "code",
   "execution_count": 11,
   "metadata": {},
   "outputs": [],
   "source": [
    "test_nums=1000\n",
    "\n",
    "with open(\"database/output/qa_dataset_train_1017.json\",\"w\") as f:\n",
    "    json.dump(question_datset[test_nums:],f,indent=1)\n",
    "\n",
    "with open(\"database/output/qa_dataset_test_1017.json\",\"w\") as f:\n",
    "    json.dump(question_datset[:test_nums],f,indent=1)"
   ]
  },
  {
   "cell_type": "code",
   "execution_count": 13,
   "metadata": {},
   "outputs": [
    {
     "data": {
      "text/plain": [
       "292"
      ]
     },
     "execution_count": 13,
     "metadata": {},
     "output_type": "execute_result"
    }
   ],
   "source": [
    "test_dataset=question_datset[:test_nums]\n",
    "wo_context_data=[d for d in test_dataset if d[\"context\"]==\"\"]\n",
    "len(wo_context_data)"
   ]
  },
  {
   "cell_type": "code",
   "execution_count": 14,
   "metadata": {},
   "outputs": [
    {
     "data": {
      "text/plain": [
       "500"
      ]
     },
     "execution_count": 14,
     "metadata": {},
     "output_type": "execute_result"
    }
   ],
   "source": [
    "\n",
    "choice_data=[d for d in test_dataset if \"choices\" in d.keys()]\n",
    "len(choice_data)"
   ]
  },
  {
   "cell_type": "code",
   "execution_count": null,
   "metadata": {},
   "outputs": [],
   "source": []
  }
 ],
 "metadata": {
  "kernelspec": {
   "display_name": "mi",
   "language": "python",
   "name": "python3"
  },
  "language_info": {
   "codemirror_mode": {
    "name": "ipython",
    "version": 3
   },
   "file_extension": ".py",
   "mimetype": "text/x-python",
   "name": "python",
   "nbconvert_exporter": "python",
   "pygments_lexer": "ipython3",
   "version": "3.11.3"
  },
  "orig_nbformat": 4
 },
 "nbformat": 4,
 "nbformat_minor": 2
}
