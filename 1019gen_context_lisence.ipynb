{
 "cells": [
  {
   "cell_type": "code",
   "execution_count": 72,
   "metadata": {},
   "outputs": [],
   "source": [
    "import json\n",
    "import pandas as pd"
   ]
  },
  {
   "cell_type": "code",
   "execution_count": 73,
   "metadata": {},
   "outputs": [],
   "source": [
    "ref_path=\"database/output/refs0926.json\"\n",
    "\n",
    "with open(ref_path,\"r\") as f:\n",
    "    refs=json.load(f)"
   ]
  },
  {
   "cell_type": "code",
   "execution_count": 74,
   "metadata": {},
   "outputs": [],
   "source": [
    "lis_list=[r[\"Lisence\"] for r in refs]"
   ]
  },
  {
   "cell_type": "code",
   "execution_count": 75,
   "metadata": {},
   "outputs": [
    {
     "data": {
      "text/plain": [
       "{'Creative Commons Attribution (CC BY) licence to any author accepted manuscript version arising from this submission Disclaimer: The views expressed are those of the authors and not necessarily those of the United Kingdom (UK) Department of Health and Social Care, the National Health Service, the National Institute for Health and Care Research (NIHR), the UK Health Security Agency, the World Health Organization or of the commentators.\"- - Authors and Affiliations - \"MRC Centre for Global Infectious Disease Analysis & WHO Collaborating Centre for Infectious Disease Modelling, Jameel Institute, Imperial College London, London, UKDavid J. Haw,_Giovanni Forchini,_Patrick Doohan,_Paula Christen,_ Matteo Pianella,_Robert Johnson,_Alexandra B. Hogan,_Peter Winskill,_Peter J. White,_Azra C. Ghani,_Neil M. Ferguson_&_Katharina D. HauckUSBE, UmexE5 Universitet, UmexE5, SwedenGiovanni ForchiniDepartment of Zoology, University of Oxford, Oxford, UKSumali BajajSchool of Population Health, University of New South Wales, Sydney, AustraliaAlexandra B. HoganDepartment of Economics and Public Policy, Imperial College Business School, London, UKMarisa Miraldo_ &_Peter C. SmithModelling and Economics Unit, UK Health Security Agency, London, UKPeter J. WhiteCentre for Health Economics, University of York, York, UKPeter C. Smith\" - \"AuthorsDavid J. HawYou can also search for this author in _Giovanni ForchiniYou can also search for this author in _Patrick DoohanYou can also search for this author in _Paula ChristenYou can also search for this author in _Matteo PianellaYou can also search for this author in _Robert JohnsonYou can also search for this author in _Sumali BajajYou can also search for this author in _Alexandra B. HoganYou can also search for this author in _Peter WinskillYou can also search for this author in _Marisa MiraldoYou can also search for this author in _Peter J. WhiteYou can also search for this author in _Azra C. GhaniYou can also search for this author in _Neil M. FergusonYou can also search for this author in _Peter C. SmithYou can also search for this author in _Katharina D. HauckYou can also search for this author in _\" - Contributions - \"D.J.H., P.C.S., K.D.H., G.F., P.D. and P.C. conceived and designed the work. D.J.H. and P.D. undertook and K.D.H., P.C.S., G.F., P.D., P.C., R.J., M.P. and S.B. contributed to the analysis and interpretation of data. D.J.H. and P.D. created the new software used in the work. K.D.H. wrote the first draft of the manuscript and P.C.S., D.J.H., G.F., M.P., R.J. and P.D. substantially revised it. S.B., P.D., A.B.H., P.W., M.M., P.J.W., A.C.G. and N.M.F. contributed to interpretation of the data and substantially revised the manuscript. All authors have approved the submitted version and have agreed to be personally accountable for the authors own contributions and to ensure that questions related to the accuracy or integrity of any part of the work, even ones in which the author was not personally involved, are appropriately investigated, resolved and the resolution documented in the literature.\" - Corresponding authors - \"Correspondence to or .\"- - \\' \\' - Competing interests - \\' \\' - P.J.W. has received payments from Pfizer for teaching mathematical modeling of infectious-disease transmission and vaccination. P.W. has received personal fees for three days from WHO EURO for COVID-19 vaccine modeling. A.B.H. has received personal fees from WHO for COVID-19 vaccine modeling, and personal fees from Pfizer Inc. to advise on modeling RSV vaccination strategies. All other authors declare no competing interests. - \\' \\'- - \\' \\' - Peer review information - \\' \\' - \\'Nature Computational Science thanks the anonymous reviewers for their contribution to the peer review of this work. Primary Handling Editor: Ananya Rastogi, in collaboration with the Nature Computational Science team. are available.\\' - \\' \\'- - \"Publishers note Springer Nature remains neutral with regard to jurisdictional claims in published maps and institutional affiliations.\"- - \"Supplementary Notes: 1.1 Economic data, 1.2 Contact matrices, 1.3 Epidemiological parameters and calibration, 1.4 Hospital capacity, 1.5 Sensitivity analyses. Supplementary Figs. 1u201317, Tables 1u20138 and references.Economic activities classified under Sector Industry Classification P (56 Education). Source: .Closures of economic sectors under scenarios B (education open) and LDB (lockdown except education). The values denote percentage closures compared to pre-pandemic level of production for all economic sectors under scenarios B and LDB. 1: open, 0: fully closed. The two months denote periods of fixed economic configurations under scenario B. Education is open at least to 80% pf pre-pandemic production under scenario B. Under scenario LDA, the closure values for all sectors except for the education sector are the same as in LDB; Supplementary Table .Loss in gross value added under all scenarios. For all scenarios GVA loss is reported in xA3 millions against a fully open economy (FO). Scenario A: any economic sector may be closed down to 80% of observed closure during the lockdown period but not lower to sustain essential services; Scenario B: education closed no more than 80%; all other sectors may be closed down to 80% of observed closure during the lockdown period; Scenario LDA: all economic sectors closed to levels observed during the lockdown period March to May 2020; Scenario LDB: all economic sectors except for education are closed to levels of observed closure during the lockdown period; education is operational at 80%; three alternate assumptions on spare emergency hospital capacity for COVID-19 patients in scenarios A and B (H =12,000, 18,000, 24,000). all scenarios assume changes in economic configuration every 2 months except for B (6u2009xD7u20091, H =18,000) which allows changes every month; all scenarios including FO assume that stringency of NPIs and self-productive behavior reduce transmission substantially (u03B4 = 0.72 except for scenario B (u03B4 = 0.76, 18,000), which assumes weak stringency of non-pharmaceutical interventions and/or little self-protective behavior in the population. *Measuring the GVA contribution of education and human health activities is problematic (Schreyer, Paul. 2010. Towards Measuring the Volume Output of Education and Health Services. Paris: OECD. 10.1787/5kmd34g1zk9x-en).Percentage closures of economic sectors under weak stringency of non-pharmaceutical interventions (u03B4 = 0.76), Scenario B (education open), H =18,000. The values denote percentage closures of economic sectors compared to pre-pandemic level of production. 1 fully open and 0 fully closed.Data used for the UK application of DAEDALUS on workforce, total output, gross value added, and intermediate use and provision for 63 sectors, United Kingdom 2016. We maximize monthly gross value added in the optimization, i.e. annual GVA divided by 12. Intermediate use excludes use of imports and excludes taxes (less subsidies) on products. Intermediate provision excludes exports and gross capital formation. Sectors 44 and 45 are combined.\"- - Statistical source data.Statistical source data.Statistical source data.Statistical source data.Statistical source data.- - \\'\\'- - ',\n",
       " 'Creative Commons Attribution (CC BY) license to any Author Accepted Manuscript version arising from this submission.- - Author notes - \"Julia Westermayr_&_Rhyan BarrettPresent address: Wilhelm-Ostwald-Institut fxFC r Physikalische und Theoretische Chemie, UniversitxE4t Leipzig, Leipzig, Germany\" - Authors and Affiliations - \"Department of Chemistry, University of Warwick, Coventry, UKJulia Westermayr,_ Joe Gilkes,_Rhyan Barrett_&_Reinhard J. MaurerHetSys Centre for Doctoral Training, University of Warwick, Coventry, UKJoe Gilkes\" - \"AuthorsJulia WestermayrYou can also search for this author in _Joe GilkesYou can also search for this author in _Rhyan BarrettYou can also search for this author in _Reinhard J. MaurerYou can also search for this author in _\" - Contributions - R.J.M. conceived the original idea and supervised the research project. R.J.M. and J.W. designed the research project. R.B. and J.W. trained the deep learning models and created the property-guided design workflow. J.G. and J.W. performed the dataset curation, predictions, model validation and data analysis. J.W. performed the quantum chemistry calculations. J.W. and R.J.M. wrote the manuscript with the help of the other authors. The manuscript reflects the contributions of all authors. - Corresponding authors - \"Correspondence to or .\"- - \\' \\' - Competing interests - \\' \\' - R.J.M. is an editorial board member of the journal Communications Materials. All other authors declare no competing interests. - \\' \\'- - \\' \\' - Peer review information - \\' \\' - \\'Nature Computational Science thanks Camille Bilodeau and the other, anonymous, reviewer(s) for their contribution to the peer review of this work. Primary Handling Editor: Kaitlin McCardle, in collaboration with the Nature Computational Science team.\\' - \\' \\'- - \"Publishers note Springer Nature remains neutral with regard to jurisdictional claims in published maps and institutional affiliations.\"- - \"Supplementary Sections 1u20139, Figs. 1u201311 and Table 1.Number of molecules predicted and used for training. Number of molecules used initially, obtained either from OE62 (initial loop), from OE62u2009+u2009G-SchNet (initial loop for multiproperty biasing) or from G-SchNet alone (remaining loops). Molecules that were generated with G-SchNet are already sorted, hence the number of valid molecules is shown. The number of generated molecules was set to 200,000 for EA, u0394E and multiproperty biasing and to 100,000 for IP and u0394E (knockout) biasing. The third column shows the number of molecules that were selected for biasing G-SchNet. The fourth column shows the percentage of selected molecules with respect to the number of predicted molecules at this iteration.\"- - \"Data depicted in Figs. 1u20134.ChemDraw file of molecules depicted in Fig. 3.\"- - Springer Nature or its licensor (e.g. a society or other partner) holds exclusive rights to this article under a publishing agreement with the author(s) or other rightsholder(s); author self-archiving of the accepted manuscript version of this article is solely governed by the terms of such publishing agreement and applicable law. - \\'\\'- - ',\n",
       " 'Creative Commons Attribution 3.0 Unported Licence. ',\n",
       " 'Creative Commons Attribution 3.0 Unported License. ',\n",
       " \"Creative Commons Attribution 4.0 International License (), which permits use, duplication, adaptation, distribution, and reproduction in any medium or format, as long as you give appropriate credit to the original author(s) and the source, provide a link to the Creative Commons license, and indicate if changes were made. - ' ' - ''- - \",\n",
       " 'Creative Commons Attribution Noncommercial Share Alike 3.0 Unported Licence. ',\n",
       " 'Creative Commons Attribution- NonCommercial-ShareALike 3.0 Unported License. ',\n",
       " 'Creative Commons Attribution-Non Commercial No Derivative 3.0 Unported License. ',\n",
       " 'Creative Commons Attribution-Non-Commercial-ShareAlike 3.0 Unported licence. ',\n",
       " 'Creative Commons Attribution-NonCommercial- NoDerivs 3.0 Unported License. ',\n",
       " 'Creative Commons Attribution-NonCommercial- ShareALike 3.0 Unported License. ',\n",
       " 'Creative Commons Attribution-NonCommercial-No Derivate Works 3.0 Unported License. ',\n",
       " 'Creative Commons Attribution-NonCommercial-No Derivative Works 3.0 License. ',\n",
       " 'Creative Commons Attribution-NonCommercial-No Derivative Works 3.0 Unported License. ',\n",
       " 'Creative Commons Attribution-NonCommercial-No Derivative Works 4.0 Unported License. ',\n",
       " 'Creative Commons Attribution-NonCommercial-No Derivs 3.0 Unported License. ',\n",
       " 'Creative Commons Attribution-NonCommercial-No Derivs Works 3.0 Unported License. ',\n",
       " 'Creative Commons Attribution-NonCommercial-NoDerivative Works 3.0 License. ',\n",
       " 'Creative Commons Attribution-NonCommercial-NoDerivative Works 3.0 Unported License. ',\n",
       " 'Creative Commons Attribution-NonCommercial-NoDerivs 3.0 Unported License. ',\n",
       " 'Creative Commons Attribution-NonCommercial-NoDerivs 3.0 Unported license. ',\n",
       " 'Creative Commons Attribution-NonCommercial-Share Alike 3.0 License. ',\n",
       " 'Creative Commons Attribution-NonCommercial-Share Alike 3.0 Unported License. ',\n",
       " 'Creative Commons Attribution-NonCommercial-ShareALike 3.0 Unported License. ',\n",
       " 'Creative Commons Attribution-NonCommercial-ShareALike 3.0 UnportedLicense. ',\n",
       " 'Creative Commons Attribution-NonCommercial-ShareAlike 3.0 Unported License. ',\n",
       " 'Creative Commons Attribution-NonCommercial-ShareAlike 3.0 Unported licence. ',\n",
       " 'Creative Commons Attribution-NonCommercial-ShareAlike 3.0 Unported license. ',\n",
       " \"Creative Commons Attribution-Noncommercial-No Derivative Works 3.0 Unported License - ' ' - ''- - \",\n",
       " 'Creative Commons licence and your intended use is not permitted by statutory regulation or exceeds the permitted use, you will need to obtain permission directly from the copyright holder. ',\n",
       " 'Creative Commons licence and your intended use is not permitted by statutory regulation or exceeds the permitted use, youwill need to obtain permission directly from the copyright holder. ',\n",
       " 'Creative Commons license and your intended use is not permitted by statutory regulation or exceeds the permitted use, you will need to obtain permission directly from the copyright holder. ',\n",
       " 'Creative Commons license and your intended use is not permitted by statutory regulation or exceeds the permitted use, you will need to obtain permission directly from the copyright holder. To view- a copy of this license, visit .\" - \\' \\' - \\'\\'- - ',\n",
       " 'Creative Commons license, and indicate if changes were made. The images or other third party material in this article are included in the articles Creative Commons license, unless indicated otherwise in a credit line to the material. If material is not included in the articles Creative Commons license and your intended use is not permitted by statutory regulation or exceeds the permitted use, you will need to obtain permission directly from the copyright holder. ',\n",
       " 'Creative Commons license, unless indicated otherwise in a credit line to the material. If material is not included in the articles Creative Commons license and your intended use is not permitted by statutory regulation or exceeds the permitted use, you will need to obtain permission directly from the copyright holder.\" - \\' \\' - ',\n",
       " 'Creative Commons license, unless indicated otherwise in a creditline to the material. If material is not included in the articles CreativeCommons license and your intended use is not permitted by statutory regulationor exceeds the permitted use, you will need to obtain permission directly fromthe copyright holder. ',\n",
       " 'Creative Commons license, unless indicated otherwise in the credit line; if the material is not included under the Creative Commons license, users will need to obtain permission from the license holder to reproduce the material. ',\n",
       " 'Creative Commons license, unless indicated otherwise in the credit line; if the material is not included under theCreative Commons license, users will need to obtain permission from the license holder to reproduce the material. ',\n",
       " 'Creative Commons license, unless indicatedotherwise in the credit line; if the material is not included under the CreativeCommons license, users will need to obtain permission from the license holder inorder to reproduce the material. ',\n",
       " 'Creative Commons license, unless indicatedotherwise in the credit line; if the material is not included under the CreativeCommons license, users will need to obtain permission from the license holder toreproduce the material. ',\n",
       " 'Creative Commons license, users will need to obtain permission f+rom the license holder to reproduce the material. ',\n",
       " 'Creative Commons license, users will need to obtain permission from the lice0nse holder to reproduce the material. ',\n",
       " 'Creative Commons license, users will need to obtain permission from the license holder in order to reproduce the image. ',\n",
       " 'Creative Commons license, users will need to obtain permission from the license holder in order to reproduce the material. ',\n",
       " 'Creative Commons license, users will need to obtain permission from the license holder to reproduce the mate-rial. ',\n",
       " 'Creative Commons license, users will need to obtain permission from the license holder to reproduce the material. ',\n",
       " 'Creative Commons license, users will need to obtain permission fromthe license holder in order to reproduce the material. ',\n",
       " 'Creative Commons license, users willneed to obtain permission from the license holder in order to reproduce thematerial. ',\n",
       " 'Creative Commons licenses. Naturally, we recognize that not all researchers will have access to the resources required for open-access publication, which is why authors can choose to publish their work without charge behind a subscription pay wall. We are sometimes asked whether the choice of publication license influences the decisions of the editors, and the answer is resolutely \\'no\\'u2014editors are blind to the author\\'s choice until the work is ready for acceptance.\"- - \"And what of quality? Only time will tell, but no doubt our authors, and those whose papers we have regretfully rejected, will attest to the rigour of peer review at Nature Communications. Our selection criteria, upheld by our Editorial Advisory Panel, together with decisions made after peer review result in publication of approximately 20% of submissionsu2014a number that suggests our aspirations of being a high-quality science journal with somewhat specialist appeal were well-grounded.\"- - \"Nature Communications cannot rest on its laurels, however. Submissions continue to growu2014more than 270 new manuscripts were submitted in March aloneu2014 and the number of published papers will increase accordingly. Our web technologies must therefore keep pace with this rapidly expanding archive. Indeed, since Nature Communications launched we have made our content available through mobile device applications to enable browsing on the go; launched a personalization tool on our homepage for users to customize their experience; and introduced an online commenting facility to encourage scientific dialogue.\"- - So what does the future hold for Nature Communications? We are interested in understanding what you, the scientific community, would like to see (or indeed hear), and we encourage you to use the commenting tool at the foot of the HTML version of this article to pass on your thoughts.- - \\'\\'- - '}"
      ]
     },
     "execution_count": 75,
     "metadata": {},
     "output_type": "execute_result"
    }
   ],
   "source": [
    "set(lis_list)"
   ]
  },
  {
   "cell_type": "code",
   "execution_count": 76,
   "metadata": {},
   "outputs": [],
   "source": [
    "allow_lisences=[\n",
    " 'Creative Commons Attribution 3.0 Unported Licence. ',\n",
    " 'Creative Commons Attribution 3.0 Unported License. ',\n",
    " 'Creative Commons Attribution Noncommercial Share Alike 3.0 Unported Licence. ',\n",
    " 'Creative Commons Attribution- NonCommercial-ShareALike 3.0 Unported License. ',\n",
    " 'Creative Commons Attribution-Non-Commercial-ShareAlike 3.0 Unported licence. ',\n",
    " 'Creative Commons Attribution-NonCommercial- ShareALike 3.0 Unported License. ',\n",
    " 'Creative Commons Attribution-NonCommercial-Share Alike 3.0 License. ',\n",
    " 'Creative Commons Attribution-NonCommercial-Share Alike 3.0 Unported License. ',\n",
    " 'Creative Commons Attribution-NonCommercial-ShareALike 3.0 Unported License. ',\n",
    " 'Creative Commons Attribution-NonCommercial-ShareALike 3.0 UnportedLicense. ',\n",
    " 'Creative Commons Attribution-NonCommercial-ShareAlike 3.0 Unported License. ',\n",
    " 'Creative Commons Attribution-NonCommercial-ShareAlike 3.0 Unported licence. ',\n",
    " 'Creative Commons Attribution-NonCommercial-ShareAlike 3.0 Unported license. ',\n",
    "\n",
    "]"
   ]
  },
  {
   "cell_type": "code",
   "execution_count": 77,
   "metadata": {},
   "outputs": [],
   "source": [
    "sel_refs=[r for r in refs if r[\"Lisence\"] in allow_lisences]"
   ]
  },
  {
   "cell_type": "code",
   "execution_count": 78,
   "metadata": {},
   "outputs": [
    {
     "data": {
      "text/plain": [
       "1972"
      ]
     },
     "execution_count": 78,
     "metadata": {},
     "output_type": "execute_result"
    }
   ],
   "source": [
    "len(sel_refs)"
   ]
  },
  {
   "cell_type": "code",
   "execution_count": 79,
   "metadata": {},
   "outputs": [],
   "source": [
    "\n",
    "with open(\"database/output/1019translatable_refs.json\",\"w\") as f:\n",
    "    refs=json.dump(sel_refs,f,indent=1)"
   ]
  },
  {
   "cell_type": "code",
   "execution_count": 80,
   "metadata": {},
   "outputs": [
    {
     "data": {
      "text/plain": [
       "7828"
      ]
     },
     "execution_count": 80,
     "metadata": {},
     "output_type": "execute_result"
    }
   ],
   "source": [
    "i=0\n",
    "context_list=[]\n",
    "for i in range(len(sel_refs)):\n",
    "    text_list=sel_refs[i][\"main\"][0]\n",
    "    for text in text_list:\n",
    "        text=text.strip()\n",
    "        if len(text)<20:\n",
    "            continue\n",
    "\n",
    "        d={\n",
    "            \"text\":text,\n",
    "            \"license\":sel_refs[i][\"Lisence\"].strip(),\n",
    "            \"doi\":sel_refs[i][\"doi\"],\n",
    "\n",
    "        }\n",
    "        context_list.append(d)\n",
    "\n",
    "\n",
    "len(context_list)"
   ]
  },
  {
   "cell_type": "code",
   "execution_count": 81,
   "metadata": {},
   "outputs": [],
   "source": [
    "\n",
    "with open(\"database/output/1019translatable_context_dict.json\",\"w\") as f:\n",
    "    refs=json.dump(context_list,f,indent=1)"
   ]
  },
  {
   "cell_type": "code",
   "execution_count": 86,
   "metadata": {},
   "outputs": [],
   "source": [
    "with open(\"database/output/1019translatable_context.json\",\"w\") as f:\n",
    "    refs=json.dump([r[\"text\"] for r in context_list],f,indent=1)"
   ]
  },
  {
   "cell_type": "code",
   "execution_count": 95,
   "metadata": {},
   "outputs": [],
   "source": [
    "#translate\n",
    "import requests\n",
    "#deepl\n",
    "API_KEY=input()\n",
    "#PI_KEY = 'xxxxxxxxxxxxxxxxxxxxxxxxxxxxx' # 自身の API キーを指定\n",
    "\n",
    "def translate(text ,source_lang = 'EN',target_lang = 'JA'):\n",
    "\n",
    "    # パラメータの指定\n",
    "    params = {\n",
    "                'auth_key' : API_KEY,\n",
    "                'text' : text,\n",
    "                'source_lang' : source_lang, # 翻訳対象の言語\n",
    "                \"target_lang\": target_lang  # 翻訳後の言語\n",
    "            }\n",
    "\n",
    "    # リクエストを投げる\n",
    "    request = requests.post(\"https://api-free.deepl.com/v2/translate\", data=params) # URIは有償版, 無償版で異なるため要注意\n",
    "    result = request.json()\n",
    "\n",
    "    translated_text=result[\"translations\"][0][\"text\"]\n",
    "    return translated_text\n"
   ]
  },
  {
   "cell_type": "code",
   "execution_count": 96,
   "metadata": {},
   "outputs": [
    {
     "data": {
      "text/plain": [
       "'\\n#textra\\nimport requests as req\\nfrom requests_oauthlib import OAuth1\\nfrom xml.etree.ElementTree import *\\n\\nNAME = \\'john20231020\\'\\nKEY = \\'7615f08cad124bec08b1771b2a10251d06531ed06\\'\\nSECRET = \\'fe46b9a132183bde292fe65abf5b1cf3\\'\\nURL = \\'https://mt-auto-minhon-mlt.ucri.jgn-x.jp/api/mt/c-17566_en_de/\\'\\n\\nconsumer = OAuth1(KEY , SECRET)\\n\\ndef translate(text):\\n    params = {\\n        \\'key\\': KEY,\\n        \\'name\\': NAME,\\n        \"type\":\"json\",\\n        \"text\":text,\\n    }    \\n\\n    res = req.post(URL , data=params , auth=consumer)\\n    res.encoding = \\'utf-8\\'\\n    trans_text=json.loads(res.text)[\"resultset\"][\"result\"][\"information\"][\"text-t\"]\\n\\n    return trans_text\\n'"
      ]
     },
     "execution_count": 96,
     "metadata": {},
     "output_type": "execute_result"
    }
   ],
   "source": [
    "\"\"\"\n",
    "#textra\n",
    "import requests as req\n",
    "from requests_oauthlib import OAuth1\n",
    "from xml.etree.ElementTree import *\n",
    "\n",
    "NAME = 'john20231020'\n",
    "KEY = ''\n",
    "SECRET = ''\n",
    "URL = 'https://mt-auto-minhon-mlt.ucri.jgn-x.jp/api/mt/c-17566_en_de/'\n",
    "\n",
    "consumer = OAuth1(KEY , SECRET)\n",
    "\n",
    "def translate(text):\n",
    "    params = {\n",
    "        'key': KEY,\n",
    "        'name': NAME,\n",
    "        \"type\":\"json\",\n",
    "        \"text\":text,\n",
    "    }    \n",
    "\n",
    "    res = req.post(URL , data=params , auth=consumer)\n",
    "    res.encoding = 'utf-8'\n",
    "    trans_text=json.loads(res.text)[\"resultset\"][\"result\"][\"information\"][\"text-t\"]\n",
    "\n",
    "    return trans_text\n",
    "\"\"\""
   ]
  },
  {
   "cell_type": "code",
   "execution_count": 99,
   "metadata": {},
   "outputs": [],
   "source": [
    "\n",
    "trans_dict={}\n",
    "\n",
    "target_lang=\"DE\"\n",
    "dict_path=f\"database/output/1020translatable_context_eng_to_ger_dict_{target_lang}.json\"\n",
    "\n",
    "with open(dict_path,\"r\") as f:\n",
    "    trans_dict=json.load(f)"
   ]
  },
  {
   "cell_type": "code",
   "execution_count": 101,
   "metadata": {},
   "outputs": [
    {
     "name": "stderr",
     "output_type": "stream",
     "text": [
      "  1%|▏         | 100/7828 [10:46<13:52:08,  6.46s/it]\n"
     ]
    },
    {
     "ename": "KeyboardInterrupt",
     "evalue": "",
     "output_type": "error",
     "traceback": [
      "\u001b[0;31m---------------------------------------------------------------------------\u001b[0m",
      "\u001b[0;31mKeyboardInterrupt\u001b[0m                         Traceback (most recent call last)",
      "\u001b[1;32m/mnt/hdd/python/2023/0925nature_llm/1019gen_context_lisence.ipynb セル 15\u001b[0m line \u001b[0;36m1\n\u001b[1;32m     <a href='vscode-notebook-cell://ssh-remote%2Bnew-ubuntu/mnt/hdd/python/2023/0925nature_llm/1019gen_context_lisence.ipynb#X20sdnNjb2RlLXJlbW90ZQ%3D%3D?line=15'>16</a>\u001b[0m \u001b[39mif\u001b[39;00m eng_text \u001b[39mnot\u001b[39;00m \u001b[39min\u001b[39;00m trans_dict:\n\u001b[1;32m     <a href='vscode-notebook-cell://ssh-remote%2Bnew-ubuntu/mnt/hdd/python/2023/0925nature_llm/1019gen_context_lisence.ipynb#X20sdnNjb2RlLXJlbW90ZQ%3D%3D?line=16'>17</a>\u001b[0m     \u001b[39mtry\u001b[39;00m:\n\u001b[1;32m     <a href='vscode-notebook-cell://ssh-remote%2Bnew-ubuntu/mnt/hdd/python/2023/0925nature_llm/1019gen_context_lisence.ipynb#X20sdnNjb2RlLXJlbW90ZQ%3D%3D?line=17'>18</a>\u001b[0m         \u001b[39m#ger_text=translate(eng_text)\u001b[39;00m\n\u001b[0;32m---> <a href='vscode-notebook-cell://ssh-remote%2Bnew-ubuntu/mnt/hdd/python/2023/0925nature_llm/1019gen_context_lisence.ipynb#X20sdnNjb2RlLXJlbW90ZQ%3D%3D?line=18'>19</a>\u001b[0m         ger_text\u001b[39m=\u001b[39mtranslate(eng_text,target_lang\u001b[39m=\u001b[39mtarget_lang)\n\u001b[1;32m     <a href='vscode-notebook-cell://ssh-remote%2Bnew-ubuntu/mnt/hdd/python/2023/0925nature_llm/1019gen_context_lisence.ipynb#X20sdnNjb2RlLXJlbW90ZQ%3D%3D?line=19'>20</a>\u001b[0m         trans_dict[eng_text]\u001b[39m=\u001b[39mger_text\n\u001b[1;32m     <a href='vscode-notebook-cell://ssh-remote%2Bnew-ubuntu/mnt/hdd/python/2023/0925nature_llm/1019gen_context_lisence.ipynb#X20sdnNjb2RlLXJlbW90ZQ%3D%3D?line=20'>21</a>\u001b[0m     \u001b[39mexcept\u001b[39;00m \u001b[39mException\u001b[39;00m \u001b[39mas\u001b[39;00m e:\n",
      "\u001b[1;32m/mnt/hdd/python/2023/0925nature_llm/1019gen_context_lisence.ipynb セル 15\u001b[0m line \u001b[0;36m1\n\u001b[1;32m     <a href='vscode-notebook-cell://ssh-remote%2Bnew-ubuntu/mnt/hdd/python/2023/0925nature_llm/1019gen_context_lisence.ipynb#X20sdnNjb2RlLXJlbW90ZQ%3D%3D?line=9'>10</a>\u001b[0m params \u001b[39m=\u001b[39m {\n\u001b[1;32m     <a href='vscode-notebook-cell://ssh-remote%2Bnew-ubuntu/mnt/hdd/python/2023/0925nature_llm/1019gen_context_lisence.ipynb#X20sdnNjb2RlLXJlbW90ZQ%3D%3D?line=10'>11</a>\u001b[0m             \u001b[39m'\u001b[39m\u001b[39mauth_key\u001b[39m\u001b[39m'\u001b[39m : API_KEY,\n\u001b[1;32m     <a href='vscode-notebook-cell://ssh-remote%2Bnew-ubuntu/mnt/hdd/python/2023/0925nature_llm/1019gen_context_lisence.ipynb#X20sdnNjb2RlLXJlbW90ZQ%3D%3D?line=11'>12</a>\u001b[0m             \u001b[39m'\u001b[39m\u001b[39mtext\u001b[39m\u001b[39m'\u001b[39m : text,\n\u001b[1;32m     <a href='vscode-notebook-cell://ssh-remote%2Bnew-ubuntu/mnt/hdd/python/2023/0925nature_llm/1019gen_context_lisence.ipynb#X20sdnNjb2RlLXJlbW90ZQ%3D%3D?line=12'>13</a>\u001b[0m             \u001b[39m'\u001b[39m\u001b[39msource_lang\u001b[39m\u001b[39m'\u001b[39m : source_lang, \u001b[39m# 翻訳対象の言語\u001b[39;00m\n\u001b[1;32m     <a href='vscode-notebook-cell://ssh-remote%2Bnew-ubuntu/mnt/hdd/python/2023/0925nature_llm/1019gen_context_lisence.ipynb#X20sdnNjb2RlLXJlbW90ZQ%3D%3D?line=13'>14</a>\u001b[0m             \u001b[39m\"\u001b[39m\u001b[39mtarget_lang\u001b[39m\u001b[39m\"\u001b[39m: target_lang  \u001b[39m# 翻訳後の言語\u001b[39;00m\n\u001b[1;32m     <a href='vscode-notebook-cell://ssh-remote%2Bnew-ubuntu/mnt/hdd/python/2023/0925nature_llm/1019gen_context_lisence.ipynb#X20sdnNjb2RlLXJlbW90ZQ%3D%3D?line=14'>15</a>\u001b[0m         }\n\u001b[1;32m     <a href='vscode-notebook-cell://ssh-remote%2Bnew-ubuntu/mnt/hdd/python/2023/0925nature_llm/1019gen_context_lisence.ipynb#X20sdnNjb2RlLXJlbW90ZQ%3D%3D?line=16'>17</a>\u001b[0m \u001b[39m# リクエストを投げる\u001b[39;00m\n\u001b[0;32m---> <a href='vscode-notebook-cell://ssh-remote%2Bnew-ubuntu/mnt/hdd/python/2023/0925nature_llm/1019gen_context_lisence.ipynb#X20sdnNjb2RlLXJlbW90ZQ%3D%3D?line=17'>18</a>\u001b[0m request \u001b[39m=\u001b[39m requests\u001b[39m.\u001b[39mpost(\u001b[39m\"\u001b[39m\u001b[39mhttps://api-free.deepl.com/v2/translate\u001b[39m\u001b[39m\"\u001b[39m, data\u001b[39m=\u001b[39mparams) \u001b[39m# URIは有償版, 無償版で異なるため要注意\u001b[39;00m\n\u001b[1;32m     <a href='vscode-notebook-cell://ssh-remote%2Bnew-ubuntu/mnt/hdd/python/2023/0925nature_llm/1019gen_context_lisence.ipynb#X20sdnNjb2RlLXJlbW90ZQ%3D%3D?line=18'>19</a>\u001b[0m result \u001b[39m=\u001b[39m request\u001b[39m.\u001b[39mjson()\n\u001b[1;32m     <a href='vscode-notebook-cell://ssh-remote%2Bnew-ubuntu/mnt/hdd/python/2023/0925nature_llm/1019gen_context_lisence.ipynb#X20sdnNjb2RlLXJlbW90ZQ%3D%3D?line=20'>21</a>\u001b[0m translated_text\u001b[39m=\u001b[39mresult[\u001b[39m\"\u001b[39m\u001b[39mtranslations\u001b[39m\u001b[39m\"\u001b[39m][\u001b[39m0\u001b[39m][\u001b[39m\"\u001b[39m\u001b[39mtext\u001b[39m\u001b[39m\"\u001b[39m]\n",
      "File \u001b[0;32m~/miniconda3/envs/mi/lib/python3.11/site-packages/requests/api.py:115\u001b[0m, in \u001b[0;36mpost\u001b[0;34m(url, data, json, **kwargs)\u001b[0m\n\u001b[1;32m    103\u001b[0m \u001b[39mdef\u001b[39;00m \u001b[39mpost\u001b[39m(url, data\u001b[39m=\u001b[39m\u001b[39mNone\u001b[39;00m, json\u001b[39m=\u001b[39m\u001b[39mNone\u001b[39;00m, \u001b[39m*\u001b[39m\u001b[39m*\u001b[39mkwargs):\n\u001b[1;32m    104\u001b[0m \u001b[39m    \u001b[39m\u001b[39mr\u001b[39m\u001b[39m\"\"\"Sends a POST request.\u001b[39;00m\n\u001b[1;32m    105\u001b[0m \n\u001b[1;32m    106\u001b[0m \u001b[39m    :param url: URL for the new :class:`Request` object.\u001b[39;00m\n\u001b[0;32m   (...)\u001b[0m\n\u001b[1;32m    112\u001b[0m \u001b[39m    :rtype: requests.Response\u001b[39;00m\n\u001b[1;32m    113\u001b[0m \u001b[39m    \"\"\"\u001b[39;00m\n\u001b[0;32m--> 115\u001b[0m     \u001b[39mreturn\u001b[39;00m request(\u001b[39m\"\u001b[39m\u001b[39mpost\u001b[39m\u001b[39m\"\u001b[39m, url, data\u001b[39m=\u001b[39mdata, json\u001b[39m=\u001b[39mjson, \u001b[39m*\u001b[39m\u001b[39m*\u001b[39mkwargs)\n",
      "File \u001b[0;32m~/miniconda3/envs/mi/lib/python3.11/site-packages/requests/api.py:59\u001b[0m, in \u001b[0;36mrequest\u001b[0;34m(method, url, **kwargs)\u001b[0m\n\u001b[1;32m     55\u001b[0m \u001b[39m# By using the 'with' statement we are sure the session is closed, thus we\u001b[39;00m\n\u001b[1;32m     56\u001b[0m \u001b[39m# avoid leaving sockets open which can trigger a ResourceWarning in some\u001b[39;00m\n\u001b[1;32m     57\u001b[0m \u001b[39m# cases, and look like a memory leak in others.\u001b[39;00m\n\u001b[1;32m     58\u001b[0m \u001b[39mwith\u001b[39;00m sessions\u001b[39m.\u001b[39mSession() \u001b[39mas\u001b[39;00m session:\n\u001b[0;32m---> 59\u001b[0m     \u001b[39mreturn\u001b[39;00m session\u001b[39m.\u001b[39mrequest(method\u001b[39m=\u001b[39mmethod, url\u001b[39m=\u001b[39murl, \u001b[39m*\u001b[39m\u001b[39m*\u001b[39mkwargs)\n",
      "File \u001b[0;32m~/miniconda3/envs/mi/lib/python3.11/site-packages/requests/sessions.py:589\u001b[0m, in \u001b[0;36mSession.request\u001b[0;34m(self, method, url, params, data, headers, cookies, files, auth, timeout, allow_redirects, proxies, hooks, stream, verify, cert, json)\u001b[0m\n\u001b[1;32m    584\u001b[0m send_kwargs \u001b[39m=\u001b[39m {\n\u001b[1;32m    585\u001b[0m     \u001b[39m\"\u001b[39m\u001b[39mtimeout\u001b[39m\u001b[39m\"\u001b[39m: timeout,\n\u001b[1;32m    586\u001b[0m     \u001b[39m\"\u001b[39m\u001b[39mallow_redirects\u001b[39m\u001b[39m\"\u001b[39m: allow_redirects,\n\u001b[1;32m    587\u001b[0m }\n\u001b[1;32m    588\u001b[0m send_kwargs\u001b[39m.\u001b[39mupdate(settings)\n\u001b[0;32m--> 589\u001b[0m resp \u001b[39m=\u001b[39m \u001b[39mself\u001b[39m\u001b[39m.\u001b[39msend(prep, \u001b[39m*\u001b[39m\u001b[39m*\u001b[39msend_kwargs)\n\u001b[1;32m    591\u001b[0m \u001b[39mreturn\u001b[39;00m resp\n",
      "File \u001b[0;32m~/miniconda3/envs/mi/lib/python3.11/site-packages/requests/sessions.py:703\u001b[0m, in \u001b[0;36mSession.send\u001b[0;34m(self, request, **kwargs)\u001b[0m\n\u001b[1;32m    700\u001b[0m start \u001b[39m=\u001b[39m preferred_clock()\n\u001b[1;32m    702\u001b[0m \u001b[39m# Send the request\u001b[39;00m\n\u001b[0;32m--> 703\u001b[0m r \u001b[39m=\u001b[39m adapter\u001b[39m.\u001b[39msend(request, \u001b[39m*\u001b[39m\u001b[39m*\u001b[39mkwargs)\n\u001b[1;32m    705\u001b[0m \u001b[39m# Total elapsed time of the request (approximately)\u001b[39;00m\n\u001b[1;32m    706\u001b[0m elapsed \u001b[39m=\u001b[39m preferred_clock() \u001b[39m-\u001b[39m start\n",
      "File \u001b[0;32m~/miniconda3/envs/mi/lib/python3.11/site-packages/requests/adapters.py:486\u001b[0m, in \u001b[0;36mHTTPAdapter.send\u001b[0;34m(self, request, stream, timeout, verify, cert, proxies)\u001b[0m\n\u001b[1;32m    483\u001b[0m     timeout \u001b[39m=\u001b[39m TimeoutSauce(connect\u001b[39m=\u001b[39mtimeout, read\u001b[39m=\u001b[39mtimeout)\n\u001b[1;32m    485\u001b[0m \u001b[39mtry\u001b[39;00m:\n\u001b[0;32m--> 486\u001b[0m     resp \u001b[39m=\u001b[39m conn\u001b[39m.\u001b[39murlopen(\n\u001b[1;32m    487\u001b[0m         method\u001b[39m=\u001b[39mrequest\u001b[39m.\u001b[39mmethod,\n\u001b[1;32m    488\u001b[0m         url\u001b[39m=\u001b[39murl,\n\u001b[1;32m    489\u001b[0m         body\u001b[39m=\u001b[39mrequest\u001b[39m.\u001b[39mbody,\n\u001b[1;32m    490\u001b[0m         headers\u001b[39m=\u001b[39mrequest\u001b[39m.\u001b[39mheaders,\n\u001b[1;32m    491\u001b[0m         redirect\u001b[39m=\u001b[39m\u001b[39mFalse\u001b[39;00m,\n\u001b[1;32m    492\u001b[0m         assert_same_host\u001b[39m=\u001b[39m\u001b[39mFalse\u001b[39;00m,\n\u001b[1;32m    493\u001b[0m         preload_content\u001b[39m=\u001b[39m\u001b[39mFalse\u001b[39;00m,\n\u001b[1;32m    494\u001b[0m         decode_content\u001b[39m=\u001b[39m\u001b[39mFalse\u001b[39;00m,\n\u001b[1;32m    495\u001b[0m         retries\u001b[39m=\u001b[39m\u001b[39mself\u001b[39m\u001b[39m.\u001b[39mmax_retries,\n\u001b[1;32m    496\u001b[0m         timeout\u001b[39m=\u001b[39mtimeout,\n\u001b[1;32m    497\u001b[0m         chunked\u001b[39m=\u001b[39mchunked,\n\u001b[1;32m    498\u001b[0m     )\n\u001b[1;32m    500\u001b[0m \u001b[39mexcept\u001b[39;00m (ProtocolError, \u001b[39mOSError\u001b[39;00m) \u001b[39mas\u001b[39;00m err:\n\u001b[1;32m    501\u001b[0m     \u001b[39mraise\u001b[39;00m \u001b[39mConnectionError\u001b[39;00m(err, request\u001b[39m=\u001b[39mrequest)\n",
      "File \u001b[0;32m~/miniconda3/envs/mi/lib/python3.11/site-packages/urllib3/connectionpool.py:714\u001b[0m, in \u001b[0;36mHTTPConnectionPool.urlopen\u001b[0;34m(self, method, url, body, headers, retries, redirect, assert_same_host, timeout, pool_timeout, release_conn, chunked, body_pos, **response_kw)\u001b[0m\n\u001b[1;32m    711\u001b[0m     \u001b[39mself\u001b[39m\u001b[39m.\u001b[39m_prepare_proxy(conn)\n\u001b[1;32m    713\u001b[0m \u001b[39m# Make the request on the httplib connection object.\u001b[39;00m\n\u001b[0;32m--> 714\u001b[0m httplib_response \u001b[39m=\u001b[39m \u001b[39mself\u001b[39m\u001b[39m.\u001b[39m_make_request(\n\u001b[1;32m    715\u001b[0m     conn,\n\u001b[1;32m    716\u001b[0m     method,\n\u001b[1;32m    717\u001b[0m     url,\n\u001b[1;32m    718\u001b[0m     timeout\u001b[39m=\u001b[39mtimeout_obj,\n\u001b[1;32m    719\u001b[0m     body\u001b[39m=\u001b[39mbody,\n\u001b[1;32m    720\u001b[0m     headers\u001b[39m=\u001b[39mheaders,\n\u001b[1;32m    721\u001b[0m     chunked\u001b[39m=\u001b[39mchunked,\n\u001b[1;32m    722\u001b[0m )\n\u001b[1;32m    724\u001b[0m \u001b[39m# If we're going to release the connection in ``finally:``, then\u001b[39;00m\n\u001b[1;32m    725\u001b[0m \u001b[39m# the response doesn't need to know about the connection. Otherwise\u001b[39;00m\n\u001b[1;32m    726\u001b[0m \u001b[39m# it will also try to release it and we'll have a double-release\u001b[39;00m\n\u001b[1;32m    727\u001b[0m \u001b[39m# mess.\u001b[39;00m\n\u001b[1;32m    728\u001b[0m response_conn \u001b[39m=\u001b[39m conn \u001b[39mif\u001b[39;00m \u001b[39mnot\u001b[39;00m release_conn \u001b[39melse\u001b[39;00m \u001b[39mNone\u001b[39;00m\n",
      "File \u001b[0;32m~/miniconda3/envs/mi/lib/python3.11/site-packages/urllib3/connectionpool.py:466\u001b[0m, in \u001b[0;36mHTTPConnectionPool._make_request\u001b[0;34m(self, conn, method, url, timeout, chunked, **httplib_request_kw)\u001b[0m\n\u001b[1;32m    461\u001b[0m             httplib_response \u001b[39m=\u001b[39m conn\u001b[39m.\u001b[39mgetresponse()\n\u001b[1;32m    462\u001b[0m         \u001b[39mexcept\u001b[39;00m \u001b[39mBaseException\u001b[39;00m \u001b[39mas\u001b[39;00m e:\n\u001b[1;32m    463\u001b[0m             \u001b[39m# Remove the TypeError from the exception chain in\u001b[39;00m\n\u001b[1;32m    464\u001b[0m             \u001b[39m# Python 3 (including for exceptions like SystemExit).\u001b[39;00m\n\u001b[1;32m    465\u001b[0m             \u001b[39m# Otherwise it looks like a bug in the code.\u001b[39;00m\n\u001b[0;32m--> 466\u001b[0m             six\u001b[39m.\u001b[39mraise_from(e, \u001b[39mNone\u001b[39;00m)\n\u001b[1;32m    467\u001b[0m \u001b[39mexcept\u001b[39;00m (SocketTimeout, BaseSSLError, SocketError) \u001b[39mas\u001b[39;00m e:\n\u001b[1;32m    468\u001b[0m     \u001b[39mself\u001b[39m\u001b[39m.\u001b[39m_raise_timeout(err\u001b[39m=\u001b[39me, url\u001b[39m=\u001b[39murl, timeout_value\u001b[39m=\u001b[39mread_timeout)\n",
      "File \u001b[0;32m<string>:3\u001b[0m, in \u001b[0;36mraise_from\u001b[0;34m(value, from_value)\u001b[0m\n",
      "File \u001b[0;32m~/miniconda3/envs/mi/lib/python3.11/site-packages/urllib3/connectionpool.py:461\u001b[0m, in \u001b[0;36mHTTPConnectionPool._make_request\u001b[0;34m(self, conn, method, url, timeout, chunked, **httplib_request_kw)\u001b[0m\n\u001b[1;32m    458\u001b[0m \u001b[39mexcept\u001b[39;00m \u001b[39mTypeError\u001b[39;00m:\n\u001b[1;32m    459\u001b[0m     \u001b[39m# Python 3\u001b[39;00m\n\u001b[1;32m    460\u001b[0m     \u001b[39mtry\u001b[39;00m:\n\u001b[0;32m--> 461\u001b[0m         httplib_response \u001b[39m=\u001b[39m conn\u001b[39m.\u001b[39mgetresponse()\n\u001b[1;32m    462\u001b[0m     \u001b[39mexcept\u001b[39;00m \u001b[39mBaseException\u001b[39;00m \u001b[39mas\u001b[39;00m e:\n\u001b[1;32m    463\u001b[0m         \u001b[39m# Remove the TypeError from the exception chain in\u001b[39;00m\n\u001b[1;32m    464\u001b[0m         \u001b[39m# Python 3 (including for exceptions like SystemExit).\u001b[39;00m\n\u001b[1;32m    465\u001b[0m         \u001b[39m# Otherwise it looks like a bug in the code.\u001b[39;00m\n\u001b[1;32m    466\u001b[0m         six\u001b[39m.\u001b[39mraise_from(e, \u001b[39mNone\u001b[39;00m)\n",
      "File \u001b[0;32m~/miniconda3/envs/mi/lib/python3.11/http/client.py:1375\u001b[0m, in \u001b[0;36mHTTPConnection.getresponse\u001b[0;34m(self)\u001b[0m\n\u001b[1;32m   1373\u001b[0m \u001b[39mtry\u001b[39;00m:\n\u001b[1;32m   1374\u001b[0m     \u001b[39mtry\u001b[39;00m:\n\u001b[0;32m-> 1375\u001b[0m         response\u001b[39m.\u001b[39mbegin()\n\u001b[1;32m   1376\u001b[0m     \u001b[39mexcept\u001b[39;00m \u001b[39mConnectionError\u001b[39;00m:\n\u001b[1;32m   1377\u001b[0m         \u001b[39mself\u001b[39m\u001b[39m.\u001b[39mclose()\n",
      "File \u001b[0;32m~/miniconda3/envs/mi/lib/python3.11/http/client.py:318\u001b[0m, in \u001b[0;36mHTTPResponse.begin\u001b[0;34m(self)\u001b[0m\n\u001b[1;32m    316\u001b[0m \u001b[39m# read until we get a non-100 response\u001b[39;00m\n\u001b[1;32m    317\u001b[0m \u001b[39mwhile\u001b[39;00m \u001b[39mTrue\u001b[39;00m:\n\u001b[0;32m--> 318\u001b[0m     version, status, reason \u001b[39m=\u001b[39m \u001b[39mself\u001b[39m\u001b[39m.\u001b[39m_read_status()\n\u001b[1;32m    319\u001b[0m     \u001b[39mif\u001b[39;00m status \u001b[39m!=\u001b[39m CONTINUE:\n\u001b[1;32m    320\u001b[0m         \u001b[39mbreak\u001b[39;00m\n",
      "File \u001b[0;32m~/miniconda3/envs/mi/lib/python3.11/http/client.py:279\u001b[0m, in \u001b[0;36mHTTPResponse._read_status\u001b[0;34m(self)\u001b[0m\n\u001b[1;32m    278\u001b[0m \u001b[39mdef\u001b[39;00m \u001b[39m_read_status\u001b[39m(\u001b[39mself\u001b[39m):\n\u001b[0;32m--> 279\u001b[0m     line \u001b[39m=\u001b[39m \u001b[39mstr\u001b[39m(\u001b[39mself\u001b[39m\u001b[39m.\u001b[39mfp\u001b[39m.\u001b[39mreadline(_MAXLINE \u001b[39m+\u001b[39m \u001b[39m1\u001b[39m), \u001b[39m\"\u001b[39m\u001b[39miso-8859-1\u001b[39m\u001b[39m\"\u001b[39m)\n\u001b[1;32m    280\u001b[0m     \u001b[39mif\u001b[39;00m \u001b[39mlen\u001b[39m(line) \u001b[39m>\u001b[39m _MAXLINE:\n\u001b[1;32m    281\u001b[0m         \u001b[39mraise\u001b[39;00m LineTooLong(\u001b[39m\"\u001b[39m\u001b[39mstatus line\u001b[39m\u001b[39m\"\u001b[39m)\n",
      "File \u001b[0;32m~/miniconda3/envs/mi/lib/python3.11/socket.py:706\u001b[0m, in \u001b[0;36mSocketIO.readinto\u001b[0;34m(self, b)\u001b[0m\n\u001b[1;32m    704\u001b[0m \u001b[39mwhile\u001b[39;00m \u001b[39mTrue\u001b[39;00m:\n\u001b[1;32m    705\u001b[0m     \u001b[39mtry\u001b[39;00m:\n\u001b[0;32m--> 706\u001b[0m         \u001b[39mreturn\u001b[39;00m \u001b[39mself\u001b[39m\u001b[39m.\u001b[39m_sock\u001b[39m.\u001b[39mrecv_into(b)\n\u001b[1;32m    707\u001b[0m     \u001b[39mexcept\u001b[39;00m timeout:\n\u001b[1;32m    708\u001b[0m         \u001b[39mself\u001b[39m\u001b[39m.\u001b[39m_timeout_occurred \u001b[39m=\u001b[39m \u001b[39mTrue\u001b[39;00m\n",
      "File \u001b[0;32m~/miniconda3/envs/mi/lib/python3.11/ssl.py:1278\u001b[0m, in \u001b[0;36mSSLSocket.recv_into\u001b[0;34m(self, buffer, nbytes, flags)\u001b[0m\n\u001b[1;32m   1274\u001b[0m     \u001b[39mif\u001b[39;00m flags \u001b[39m!=\u001b[39m \u001b[39m0\u001b[39m:\n\u001b[1;32m   1275\u001b[0m         \u001b[39mraise\u001b[39;00m \u001b[39mValueError\u001b[39;00m(\n\u001b[1;32m   1276\u001b[0m           \u001b[39m\"\u001b[39m\u001b[39mnon-zero flags not allowed in calls to recv_into() on \u001b[39m\u001b[39m%s\u001b[39;00m\u001b[39m\"\u001b[39m \u001b[39m%\u001b[39m\n\u001b[1;32m   1277\u001b[0m           \u001b[39mself\u001b[39m\u001b[39m.\u001b[39m\u001b[39m__class__\u001b[39m)\n\u001b[0;32m-> 1278\u001b[0m     \u001b[39mreturn\u001b[39;00m \u001b[39mself\u001b[39m\u001b[39m.\u001b[39mread(nbytes, buffer)\n\u001b[1;32m   1279\u001b[0m \u001b[39melse\u001b[39;00m:\n\u001b[1;32m   1280\u001b[0m     \u001b[39mreturn\u001b[39;00m \u001b[39msuper\u001b[39m()\u001b[39m.\u001b[39mrecv_into(buffer, nbytes, flags)\n",
      "File \u001b[0;32m~/miniconda3/envs/mi/lib/python3.11/ssl.py:1134\u001b[0m, in \u001b[0;36mSSLSocket.read\u001b[0;34m(self, len, buffer)\u001b[0m\n\u001b[1;32m   1132\u001b[0m \u001b[39mtry\u001b[39;00m:\n\u001b[1;32m   1133\u001b[0m     \u001b[39mif\u001b[39;00m buffer \u001b[39mis\u001b[39;00m \u001b[39mnot\u001b[39;00m \u001b[39mNone\u001b[39;00m:\n\u001b[0;32m-> 1134\u001b[0m         \u001b[39mreturn\u001b[39;00m \u001b[39mself\u001b[39m\u001b[39m.\u001b[39m_sslobj\u001b[39m.\u001b[39mread(\u001b[39mlen\u001b[39m, buffer)\n\u001b[1;32m   1135\u001b[0m     \u001b[39melse\u001b[39;00m:\n\u001b[1;32m   1136\u001b[0m         \u001b[39mreturn\u001b[39;00m \u001b[39mself\u001b[39m\u001b[39m.\u001b[39m_sslobj\u001b[39m.\u001b[39mread(\u001b[39mlen\u001b[39m)\n",
      "\u001b[0;31mKeyboardInterrupt\u001b[0m: "
     ]
    }
   ],
   "source": [
    "from tqdm import tqdm\n",
    "import random\n",
    "import time\n",
    "\n",
    "random.shuffle(context_list)\n",
    "\n",
    "i=0\n",
    "\n",
    "def save():\n",
    "    with open(dict_path,\"w\") as f:\n",
    "        json.dump(trans_dict,f,indent=1)\n",
    "\n",
    "for i in tqdm(range(len(context_list))):\n",
    "    eng_text=context_list[i][\"text\"]\n",
    "\n",
    "    if eng_text not in trans_dict:\n",
    "        try:\n",
    "            #ger_text=translate(eng_text)\n",
    "            ger_text=translate(eng_text,target_lang=target_lang)\n",
    "            trans_dict[eng_text]=ger_text\n",
    "        except Exception as e:\n",
    "            print(\"error!\",e,i)\n",
    "            time.sleep(10)\n",
    "        #print(ger_text)\n",
    "    if i%20==0:\n",
    "        save()\n",
    "save()"
   ]
  },
  {
   "cell_type": "code",
   "execution_count": 113,
   "metadata": {},
   "outputs": [],
   "source": [
    "l=[]\n",
    "l.extend([r[\"text\"] for r in context_list])\n",
    "l.extend(trans_dict.values())\n",
    "random.shuffle(l)\n",
    "with open(\"database/output/1019translatable_EN_plus_part_GE.json\",\"w\") as f:\n",
    "    refs=json.dump(l,f,indent=1)"
   ]
  },
  {
   "cell_type": "code",
   "execution_count": null,
   "metadata": {},
   "outputs": [],
   "source": []
  }
 ],
 "metadata": {
  "kernelspec": {
   "display_name": "mi",
   "language": "python",
   "name": "python3"
  },
  "language_info": {
   "codemirror_mode": {
    "name": "ipython",
    "version": 3
   },
   "file_extension": ".py",
   "mimetype": "text/x-python",
   "name": "python",
   "nbconvert_exporter": "python",
   "pygments_lexer": "ipython3",
   "version": "3.11.3"
  }
 },
 "nbformat": 4,
 "nbformat_minor": 2
}
