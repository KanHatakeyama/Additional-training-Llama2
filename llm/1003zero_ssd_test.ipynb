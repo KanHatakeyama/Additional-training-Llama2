{
 "cells": [
  {
   "cell_type": "code",
   "execution_count": 1,
   "metadata": {},
   "outputs": [
    {
     "name": "stderr",
     "output_type": "stream",
     "text": [
      "/home/user/miniconda3/envs/ft/lib/python3.11/site-packages/tqdm/auto.py:21: TqdmWarning: IProgress not found. Please update jupyter and ipywidgets. See https://ipywidgets.readthedocs.io/en/stable/user_install.html\n",
      "  from .autonotebook import tqdm as notebook_tqdm\n"
     ]
    }
   ],
   "source": [
    "#ライブラリの自動リロード\n",
    "%load_ext autoreload\n",
    "%autoreload 2\n",
    "\n",
    "from scoring import eval_model\n",
    "from transformers import pipeline\n",
    "import os"
   ]
  },
  {
   "cell_type": "code",
   "execution_count": 2,
   "metadata": {},
   "outputs": [],
   "source": [
    "mode=\"zero\"\n",
    "model_name = \"meta-llama/Llama-2-7b-chat-hf\"\n",
    "#model_name = \"meta-llama/Llama-2-13b-chat-hf\"\n",
    "#model_name = \"meta-llama/Llama-2-70b-chat-hf\""
   ]
  },
  {
   "cell_type": "code",
   "execution_count": 3,
   "metadata": {},
   "outputs": [
    {
     "name": "stdout",
     "output_type": "stream",
     "text": [
      "[2023-10-04 07:36:07,293] [INFO] [real_accelerator.py:158:get_accelerator] Setting ds_accelerator to cuda (auto detect)\n"
     ]
    },
    {
     "name": "stderr",
     "output_type": "stream",
     "text": [
      "/home/user/miniconda3/envs/ft/lib/python3.11/site-packages/transformers/deepspeed.py:23: FutureWarning: transformers.deepspeed module is deprecated and will be removed in a future version. Please import deepspeed modules directly from transformers.integrations\n",
      "  warnings.warn(\n"
     ]
    }
   ],
   "source": [
    "#deepspeed\n",
    "import torch\n",
    "import deepspeed\n",
    "from transformers.deepspeed import HfDeepSpeedConfig\n",
    "from transformers import AutoModelForCausalLM, AutoTokenizer, AutoConfig\n",
    "import json\n",
    "\n"
   ]
  },
  {
   "cell_type": "code",
   "execution_count": 4,
   "metadata": {},
   "outputs": [
    {
     "name": "stdout",
     "output_type": "stream",
     "text": [
      "[2023-10-04 07:36:10,799] [INFO] [comm.py:637:init_distributed] cdb=None\n",
      "[2023-10-04 07:36:10,799] [INFO] [comm.py:652:init_distributed] Not using the DeepSpeed or dist launchers, attempting to detect MPI environment...\n"
     ]
    },
    {
     "name": "stdout",
     "output_type": "stream",
     "text": [
      "[2023-10-04 07:36:10,866] [INFO] [comm.py:702:mpi_discovery] Discovered MPI settings of world_rank=0, local_rank=0, world_size=1, master_addr=192.168.11.2, master_port=29500\n",
      "[2023-10-04 07:36:10,866] [INFO] [comm.py:668:init_distributed] Initializing TorchBackend in DeepSpeed with backend nccl\n",
      "[2023-10-04 07:36:22,772] [INFO] [partition_parameters.py:347:__exit__] finished initializing model - num_params = 291, num_elems = 6.74B\n"
     ]
    },
    {
     "name": "stderr",
     "output_type": "stream",
     "text": [
      "Loading checkpoint shards: 100%|██████████| 2/2 [00:02<00:00,  1.35s/it]\n"
     ]
    },
    {
     "name": "stdout",
     "output_type": "stream",
     "text": [
      "[2023-10-04 07:36:25,956] [INFO] [logging.py:96:log_dist] [Rank 0] DeepSpeed info: version=0.10.3, git-hash=unknown, git-branch=unknown\n",
      "[2023-10-04 07:36:25,970] [INFO] [logging.py:96:log_dist] [Rank 0] DeepSpeed Flops Profiler Enabled: False\n",
      "[2023-10-04 07:36:25,972] [INFO] [logging.py:96:log_dist] [Rank 0] Creating ZeRO Offload\n",
      "[2023-10-04 07:36:26,065] [INFO] [utils.py:803:see_memory_usage] DeepSpeedZeRoOffload initialize [begin]\n",
      "[2023-10-04 07:36:26,066] [INFO] [utils.py:804:see_memory_usage] MA 0.06 GB         Max_MA 0.86 GB         CA 1.04 GB         Max_CA 1 GB \n",
      "[2023-10-04 07:36:26,066] [INFO] [utils.py:811:see_memory_usage] CPU Virtual Memory:  used = 23.09 GB, percent = 9.2%\n",
      "Parameter Offload: Total persistent parameters: 266240 in 65 params\n",
      "[2023-10-04 07:36:26,171] [INFO] [utils.py:803:see_memory_usage] DeepSpeedZeRoOffload initialize [end]\n",
      "[2023-10-04 07:36:26,172] [INFO] [utils.py:804:see_memory_usage] MA 0.06 GB         Max_MA 0.06 GB         CA 1.04 GB         Max_CA 1 GB \n",
      "[2023-10-04 07:36:26,173] [INFO] [utils.py:811:see_memory_usage] CPU Virtual Memory:  used = 23.09 GB, percent = 9.2%\n",
      "[2023-10-04 07:36:26,173] [INFO] [config.py:967:print] DeepSpeedEngine configuration:\n",
      "[2023-10-04 07:36:26,174] [INFO] [config.py:971:print]   activation_checkpointing_config  {\n",
      "    \"partition_activations\": false, \n",
      "    \"contiguous_memory_optimization\": false, \n",
      "    \"cpu_checkpointing\": false, \n",
      "    \"number_checkpoints\": null, \n",
      "    \"synchronize_checkpoint_boundary\": false, \n",
      "    \"profile\": false\n",
      "}\n",
      "[2023-10-04 07:36:26,174] [INFO] [config.py:971:print]   aio_config ................... {'block_size': 1048576, 'queue_depth': 8, 'thread_count': 1, 'single_submit': False, 'overlap_events': True}\n",
      "[2023-10-04 07:36:26,174] [INFO] [config.py:971:print]   amp_enabled .................. False\n",
      "[2023-10-04 07:36:26,175] [INFO] [config.py:971:print]   amp_params ................... False\n",
      "[2023-10-04 07:36:26,175] [INFO] [config.py:971:print]   autotuning_config ............ {\n",
      "    \"enabled\": false, \n",
      "    \"start_step\": null, \n",
      "    \"end_step\": null, \n",
      "    \"metric_path\": null, \n",
      "    \"arg_mappings\": null, \n",
      "    \"metric\": \"throughput\", \n",
      "    \"model_info\": null, \n",
      "    \"results_dir\": \"autotuning_results\", \n",
      "    \"exps_dir\": \"autotuning_exps\", \n",
      "    \"overwrite\": true, \n",
      "    \"fast\": true, \n",
      "    \"start_profile_step\": 3, \n",
      "    \"end_profile_step\": 5, \n",
      "    \"tuner_type\": \"gridsearch\", \n",
      "    \"tuner_early_stopping\": 5, \n",
      "    \"tuner_num_trials\": 50, \n",
      "    \"model_info_path\": null, \n",
      "    \"mp_size\": 1, \n",
      "    \"max_train_batch_size\": null, \n",
      "    \"min_train_batch_size\": 1, \n",
      "    \"max_train_micro_batch_size_per_gpu\": 1.024000e+03, \n",
      "    \"min_train_micro_batch_size_per_gpu\": 1, \n",
      "    \"num_tuning_micro_batch_sizes\": 3\n",
      "}\n",
      "[2023-10-04 07:36:26,175] [INFO] [config.py:971:print]   bfloat16_enabled ............. False\n",
      "[2023-10-04 07:36:26,176] [INFO] [config.py:971:print]   checkpoint_parallel_write_pipeline  False\n",
      "[2023-10-04 07:36:26,176] [INFO] [config.py:971:print]   checkpoint_tag_validation_enabled  True\n",
      "[2023-10-04 07:36:26,176] [INFO] [config.py:971:print]   checkpoint_tag_validation_fail  False\n",
      "[2023-10-04 07:36:26,177] [INFO] [config.py:971:print]   comms_config ................. <deepspeed.comm.config.DeepSpeedCommsConfig object at 0x7fbf5c6087d0>\n",
      "[2023-10-04 07:36:26,177] [INFO] [config.py:971:print]   communication_data_type ...... None\n",
      "[2023-10-04 07:36:26,177] [INFO] [config.py:971:print]   compression_config ........... {'weight_quantization': {'shared_parameters': {'enabled': False, 'quantizer_kernel': False, 'schedule_offset': 0, 'quantize_groups': 1, 'quantize_verbose': False, 'quantization_type': 'symmetric', 'quantize_weight_in_forward': False, 'rounding': 'nearest', 'fp16_mixed_quantize': False, 'quantize_change_ratio': 0.001}, 'different_groups': {}}, 'activation_quantization': {'shared_parameters': {'enabled': False, 'quantization_type': 'symmetric', 'range_calibration': 'dynamic', 'schedule_offset': 1000}, 'different_groups': {}}, 'sparse_pruning': {'shared_parameters': {'enabled': False, 'method': 'l1', 'schedule_offset': 1000}, 'different_groups': {}}, 'row_pruning': {'shared_parameters': {'enabled': False, 'method': 'l1', 'schedule_offset': 1000}, 'different_groups': {}}, 'head_pruning': {'shared_parameters': {'enabled': False, 'method': 'topk', 'schedule_offset': 1000}, 'different_groups': {}}, 'channel_pruning': {'shared_parameters': {'enabled': False, 'method': 'l1', 'schedule_offset': 1000}, 'different_groups': {}}, 'layer_reduction': {'enabled': False}}\n",
      "[2023-10-04 07:36:26,177] [INFO] [config.py:971:print]   curriculum_enabled_legacy .... False\n",
      "[2023-10-04 07:36:26,178] [INFO] [config.py:971:print]   curriculum_params_legacy ..... False\n",
      "[2023-10-04 07:36:26,178] [INFO] [config.py:971:print]   data_efficiency_config ....... {'enabled': False, 'seed': 1234, 'data_sampling': {'enabled': False, 'num_epochs': 1000, 'num_workers': 0, 'curriculum_learning': {'enabled': False}}, 'data_routing': {'enabled': False, 'random_ltd': {'enabled': False, 'layer_token_lr_schedule': {'enabled': False}}}}\n",
      "[2023-10-04 07:36:26,178] [INFO] [config.py:971:print]   data_efficiency_enabled ...... False\n",
      "[2023-10-04 07:36:26,179] [INFO] [config.py:971:print]   dataloader_drop_last ......... False\n",
      "[2023-10-04 07:36:26,179] [INFO] [config.py:971:print]   disable_allgather ............ False\n",
      "[2023-10-04 07:36:26,179] [INFO] [config.py:971:print]   dump_state ................... False\n",
      "[2023-10-04 07:36:26,179] [INFO] [config.py:971:print]   dynamic_loss_scale_args ...... {'init_scale': 65536, 'scale_window': 1000, 'delayed_shift': 2, 'consecutive_hysteresis': False, 'min_scale': 1}\n",
      "[2023-10-04 07:36:26,180] [INFO] [config.py:971:print]   eigenvalue_enabled ........... False\n",
      "[2023-10-04 07:36:26,180] [INFO] [config.py:971:print]   eigenvalue_gas_boundary_resolution  1\n",
      "[2023-10-04 07:36:26,180] [INFO] [config.py:971:print]   eigenvalue_layer_name ........ bert.encoder.layer\n",
      "[2023-10-04 07:36:26,181] [INFO] [config.py:971:print]   eigenvalue_layer_num ......... 0\n",
      "[2023-10-04 07:36:26,181] [INFO] [config.py:971:print]   eigenvalue_max_iter .......... 100\n",
      "[2023-10-04 07:36:26,181] [INFO] [config.py:971:print]   eigenvalue_stability ......... 1e-06\n",
      "[2023-10-04 07:36:26,182] [INFO] [config.py:971:print]   eigenvalue_tol ............... 0.01\n",
      "[2023-10-04 07:36:26,182] [INFO] [config.py:971:print]   eigenvalue_verbose ........... False\n",
      "[2023-10-04 07:36:26,182] [INFO] [config.py:971:print]   elasticity_enabled ........... False\n",
      "[2023-10-04 07:36:26,182] [INFO] [config.py:971:print]   flops_profiler_config ........ {\n",
      "    \"enabled\": false, \n",
      "    \"recompute_fwd_factor\": 0.0, \n",
      "    \"profile_step\": 1, \n",
      "    \"module_depth\": -1, \n",
      "    \"top_modules\": 1, \n",
      "    \"detailed\": true, \n",
      "    \"output_file\": null\n",
      "}\n",
      "[2023-10-04 07:36:26,183] [INFO] [config.py:971:print]   fp16_auto_cast ............... False\n",
      "[2023-10-04 07:36:26,183] [INFO] [config.py:971:print]   fp16_enabled ................. auto\n",
      "[2023-10-04 07:36:26,183] [INFO] [config.py:971:print]   fp16_master_weights_and_gradients  False\n",
      "[2023-10-04 07:36:26,184] [INFO] [config.py:971:print]   global_rank .................. 0\n",
      "[2023-10-04 07:36:26,184] [INFO] [config.py:971:print]   grad_accum_dtype ............. None\n",
      "[2023-10-04 07:36:26,184] [INFO] [config.py:971:print]   gradient_accumulation_steps .. 1\n",
      "[2023-10-04 07:36:26,184] [INFO] [config.py:971:print]   gradient_clipping ............ 0.0\n",
      "[2023-10-04 07:36:26,185] [INFO] [config.py:971:print]   gradient_predivide_factor .... 1.0\n",
      "[2023-10-04 07:36:26,185] [INFO] [config.py:971:print]   hybrid_engine ................ enabled=False max_out_tokens=512 inference_tp_size=1 release_inference_cache=False pin_parameters=True tp_gather_partition_size=8\n",
      "[2023-10-04 07:36:26,185] [INFO] [config.py:971:print]   initial_dynamic_scale ........ 65536\n",
      "[2023-10-04 07:36:26,186] [INFO] [config.py:971:print]   load_universal_checkpoint .... False\n",
      "[2023-10-04 07:36:26,186] [INFO] [config.py:971:print]   loss_scale ................... 0\n",
      "[2023-10-04 07:36:26,186] [INFO] [config.py:971:print]   memory_breakdown ............. False\n",
      "[2023-10-04 07:36:26,186] [INFO] [config.py:971:print]   mics_hierarchial_params_gather  False\n",
      "[2023-10-04 07:36:26,187] [INFO] [config.py:971:print]   mics_shard_size .............. -1\n",
      "[2023-10-04 07:36:26,187] [INFO] [config.py:971:print]   monitor_config ............... tensorboard=TensorBoardConfig(enabled=False, output_path='', job_name='DeepSpeedJobName') wandb=WandbConfig(enabled=False, group=None, team=None, project='deepspeed') csv_monitor=CSVConfig(enabled=False, output_path='', job_name='DeepSpeedJobName') enabled=False\n",
      "[2023-10-04 07:36:26,187] [INFO] [config.py:971:print]   nebula_config ................ {\n",
      "    \"enabled\": false, \n",
      "    \"persistent_storage_path\": null, \n",
      "    \"persistent_time_interval\": 100, \n",
      "    \"num_of_version_in_retention\": 2, \n",
      "    \"enable_nebula_load\": true, \n",
      "    \"load_path\": null\n",
      "}\n",
      "[2023-10-04 07:36:26,188] [INFO] [config.py:971:print]   optimizer_legacy_fusion ...... False\n",
      "[2023-10-04 07:36:26,188] [INFO] [config.py:971:print]   optimizer_name ............... None\n",
      "[2023-10-04 07:36:26,188] [INFO] [config.py:971:print]   optimizer_params ............. None\n",
      "[2023-10-04 07:36:26,189] [INFO] [config.py:971:print]   pipeline ..................... {'stages': 'auto', 'partition': 'best', 'seed_layers': False, 'activation_checkpoint_interval': 0}\n",
      "[2023-10-04 07:36:26,189] [INFO] [config.py:971:print]   pld_enabled .................. False\n",
      "[2023-10-04 07:36:26,189] [INFO] [config.py:971:print]   pld_params ................... False\n",
      "[2023-10-04 07:36:26,189] [INFO] [config.py:971:print]   prescale_gradients ........... False\n",
      "[2023-10-04 07:36:26,190] [INFO] [config.py:971:print]   scheduler_name ............... None\n",
      "[2023-10-04 07:36:26,190] [INFO] [config.py:971:print]   scheduler_params ............. None\n",
      "[2023-10-04 07:36:26,190] [INFO] [config.py:971:print]   sparse_attention ............. None\n",
      "[2023-10-04 07:36:26,195] [INFO] [config.py:971:print]   sparse_gradients_enabled ..... False\n",
      "[2023-10-04 07:36:26,195] [INFO] [config.py:971:print]   steps_per_print .............. 2000\n",
      "[2023-10-04 07:36:26,195] [INFO] [config.py:971:print]   train_batch_size ............. 1\n",
      "[2023-10-04 07:36:26,195] [INFO] [config.py:971:print]   train_micro_batch_size_per_gpu  1\n",
      "[2023-10-04 07:36:26,196] [INFO] [config.py:971:print]   use_node_local_storage ....... False\n",
      "[2023-10-04 07:36:26,196] [INFO] [config.py:971:print]   wall_clock_breakdown ......... False\n",
      "[2023-10-04 07:36:26,196] [INFO] [config.py:971:print]   weight_quantization_config ... None\n",
      "[2023-10-04 07:36:26,197] [INFO] [config.py:971:print]   world_size ................... 1\n",
      "[2023-10-04 07:36:26,197] [INFO] [config.py:971:print]   zero_allow_untested_optimizer  False\n",
      "[2023-10-04 07:36:26,197] [INFO] [config.py:971:print]   zero_config .................. stage=3 contiguous_gradients=True reduce_scatter=True reduce_bucket_size=500,000,000 allgather_partitions=True allgather_bucket_size=500,000,000 overlap_comm=True load_from_fp32_weights=True elastic_checkpoint=False offload_param=DeepSpeedZeroOffloadParamConfig(device='cpu', nvme_path=None, buffer_count=5, buffer_size=100,000,000, max_in_cpu=1,000,000,000, pin_memory=True) offload_optimizer=DeepSpeedZeroOffloadOptimizerConfig(device='cpu', nvme_path=None, buffer_count=4, pin_memory=True, pipeline=False, pipeline_read=False, pipeline_write=False, fast_init=False) sub_group_size=1000000000 cpu_offload_param=None cpu_offload_use_pin_memory=None cpu_offload=None prefetch_bucket_size=50,000,000 param_persistence_threshold=100,000 model_persistence_threshold=sys.maxsize max_live_parameters=1000000000 max_reuse_distance=1000000000 gather_16bit_weights_on_model_save=True stage3_gather_fp16_weights_on_model_save=False ignore_unused_parameters=True legacy_stage1=False round_robin_gradients=False zero_hpz_partition_size=1 zero_quantized_weights=False zero_quantized_nontrainable_weights=False zero_quantized_gradients=False mics_shard_size=-1 mics_hierarchical_params_gather=False memory_efficient_linear=True pipeline_loading_checkpoint=False override_module_apply=True\n",
      "[2023-10-04 07:36:26,197] [INFO] [config.py:971:print]   zero_enabled ................. True\n",
      "[2023-10-04 07:36:26,198] [INFO] [config.py:971:print]   zero_force_ds_cpu_optimizer .. True\n",
      "[2023-10-04 07:36:26,198] [INFO] [config.py:971:print]   zero_optimization_stage ...... 3\n",
      "[2023-10-04 07:36:26,198] [INFO] [config.py:957:print_user_config]   json = {\n",
      "    \"fp16\": {\n",
      "        \"enabled\": \"auto\", \n",
      "        \"loss_scale\": 0, \n",
      "        \"loss_scale_window\": 1000, \n",
      "        \"initial_scale_power\": 16, \n",
      "        \"hysteresis\": 2, \n",
      "        \"min_loss_scale\": 1\n",
      "    }, \n",
      "    \"zero_optimization\": {\n",
      "        \"stage\": 3, \n",
      "        \"offload_optimizer\": {\n",
      "            \"device\": \"cpu\", \n",
      "            \"pin_memory\": true\n",
      "        }, \n",
      "        \"offload_param\": {\n",
      "            \"device\": \"cpu\", \n",
      "            \"pin_memory\": true\n",
      "        }, \n",
      "        \"overlap_comm\": true, \n",
      "        \"contiguous_gradients\": true, \n",
      "        \"sub_group_size\": 1.000000e+09, \n",
      "        \"reduce_bucket_size\": \"auto\", \n",
      "        \"stage3_prefetch_bucket_size\": \"auto\", \n",
      "        \"stage3_param_persistence_threshold\": \"auto\", \n",
      "        \"stage3_max_live_parameters\": 1.000000e+09, \n",
      "        \"stage3_max_reuse_distance\": 1.000000e+09, \n",
      "        \"stage3_gather_16bit_weights_on_model_save\": true\n",
      "    }, \n",
      "    \"steps_per_print\": 2.000000e+03, \n",
      "    \"train_batch_size\": 1, \n",
      "    \"train_micro_batch_size_per_gpu\": 1, \n",
      "    \"wall_clock_breakdown\": false, \n",
      "    \"reduce_bucket_size\": 1.677722e+07, \n",
      "    \"stage3_prefetch_bucket_size\": 1.509949e+07, \n",
      "    \"stage3_param_persistence_threshold\": 4.096000e+04\n",
      "}\n"
     ]
    }
   ],
   "source": [
    "os.environ[\"TOKENIZERS_PARALLELISM\"] = \"false\"  # To avoid warnings about parallelism in tokenizers\n",
    "local_rank = int(os.getenv(\"LOCAL_RANK\",0))\n",
    "world_size = int(os.getenv(\"WORLD_SIZE\",1))\n",
    "\n",
    "torch.cuda.set_device(local_rank)\n",
    "deepspeed.init_distributed()\n",
    "\n",
    "# ベースとなるZeRO3 configの読み込み\n",
    "ds_config_file = \"zero_infer.json\"\n",
    "with open(ds_config_file) as f:\n",
    "    ds_config = json.load(f)\n",
    "\n",
    "# 推論用に修正\n",
    "model_config = AutoConfig.from_pretrained(model_name)\n",
    "hidden_size = model_config.hidden_size\n",
    "\n",
    "ds_config[\"train_batch_size\"] = 1 * world_size\n",
    "ds_config[\"train_micro_batch_size_per_gpu\"] = 1\n",
    "ds_config[\"reduce_bucket_size\"] = hidden_size*hidden_size\n",
    "ds_config[\"stage3_prefetch_bucket_size\"] = 0.9 * hidden_size * hidden_size\n",
    "ds_config[\"stage3_param_persistence_threshold\"] = 10 * hidden_size\n",
    "\n",
    "\n",
    "dschf = HfDeepSpeedConfig(ds_config)  #zero3を使用するために必要(モデルロード前に実行する必要がある)\n",
    "model = AutoModelForCausalLM.from_pretrained(model_name)\n",
    "tokenizer = AutoTokenizer.from_pretrained(model_name)\n",
    "\n",
    "ds_engine = deepspeed.initialize(model=model, config_params=ds_config)[0]\n",
    "ds_model = ds_engine.module#.eval()\n"
   ]
  },
  {
   "cell_type": "code",
   "execution_count": 10,
   "metadata": {},
   "outputs": [
    {
     "name": "stderr",
     "output_type": "stream",
     "text": [
      "Map:   0%|          | 0/97053 [00:00<?, ? examples/s]Asking to pad to max_length but no maximum length is provided and the model has no predefined maximum length. Default to no padding.\n",
      "Asking to truncate to max_length but no maximum length is provided and the model has no predefined maximum length. Default to no truncation.\n",
      "Map: 100%|██████████| 97053/97053 [00:47<00:00, 2024.49 examples/s]\n"
     ]
    }
   ],
   "source": [
    "import transformers\n",
    "from datasets import load_dataset,Dataset\n",
    "from scoring import generate_prompt\n",
    "import random\n",
    "\n",
    "train_dataset_path = \"../database/output/qa_dataset_train_1002.json\"\n",
    "test_dataset_path = \"../database/output/qa_dataset_test_1002.json\"\n",
    "context_path = \"../database/output/context0926.json\"\n",
    "\n",
    "# Q&A\n",
    "with open(train_dataset_path, \"r\") as f:\n",
    "    train_dataset = json.load(f)\n",
    "\n",
    "with open(test_dataset_path, \"r\") as f:\n",
    "    test_dataset = json.load(f)\n",
    "\n",
    "\n",
    "# context\n",
    "with open(context_path, 'r') as f:\n",
    "    context_list = json.load(f)\n",
    "\n",
    "data_list = [{\"text\": i} for i in context_list]\n",
    "\n",
    "q_a_data_list = [{\"text\": generate_prompt(d)} for d in train_dataset[:]]\n",
    "data_list.extend(q_a_data_list)\n",
    "random.shuffle(data_list)\n",
    "\n",
    "# tokenize\n",
    "dataset = Dataset.from_dict({\"text\": [item[\"text\"] for item in data_list]})\n",
    "tokenizer.pad_token = tokenizer.eos_token\n",
    "tokenized_dataset = dataset.map(lambda examples: tokenizer(examples['text'],\n",
    "                                                           truncation=True,\n",
    "                                                           padding='max_length',\n",
    "                                                           max_length=1143\n",
    "                                                           ),\n",
    "                                batched=True)"
   ]
  },
  {
   "cell_type": "code",
   "execution_count": 11,
   "metadata": {},
   "outputs": [
    {
     "name": "stderr",
     "output_type": "stream",
     "text": [
      "  0%|          | 0/97053 [00:00<?, ?it/s]"
     ]
    },
    {
     "name": "stderr",
     "output_type": "stream",
     "text": [
      "100%|██████████| 97053/97053 [00:22<00:00, 4261.44it/s]\n"
     ]
    }
   ],
   "source": [
    "#from tqdm import tqdm\n",
    "#len_list=[len(tokenized_dataset[i][\"input_ids\"]) for i in tqdm(range(len(tokenized_dataset)))]"
   ]
  },
  {
   "cell_type": "code",
   "execution_count": 12,
   "metadata": {},
   "outputs": [
    {
     "data": {
      "text/plain": [
       "1143"
      ]
     },
     "execution_count": 12,
     "metadata": {},
     "output_type": "execute_result"
    }
   ],
   "source": [
    "\n",
    "max(len_list)"
   ]
  },
  {
   "cell_type": "markdown",
   "metadata": {},
   "source": [
    "# train"
   ]
  },
  {
   "cell_type": "code",
   "execution_count": 7,
   "metadata": {},
   "outputs": [
    {
     "name": "stderr",
     "output_type": "stream",
     "text": [
      "Map: 100%|██████████| 100/100 [00:00<00:00, 1630.87 examples/s]\n"
     ]
    }
   ],
   "source": [
    "from transformers import (AutoModelForCausalLM,\n",
    "                          DataCollatorForLanguageModeling, T5Tokenizer,AutoTokenizer,\n",
    "                          TextDataset, Trainer, TrainingArguments)\n",
    "\n",
    "\n",
    "\n",
    "data_collator = DataCollatorForLanguageModeling(\n",
    "    tokenizer=tokenizer,\n",
    "    mlm=False\n",
    ")"
   ]
  },
  {
   "cell_type": "code",
   "execution_count": 8,
   "metadata": {},
   "outputs": [],
   "source": [
    "\n",
    "\n",
    "#deepspeed\n",
    "epochs=1\n",
    "\n",
    "training_args = TrainingArguments(\n",
    "    output_dir='./outputs',\n",
    "    num_train_epochs=epochs,  # エポック数\n",
    "    #per_device_train_batch_size=1,  # バッチサイズ\n",
    "    gradient_accumulation_steps=1,\n",
    "    gradient_checkpointing=True,  #勾配チェックポイント\n",
    "    fp16=True,  #fp16\n",
    "    optim='adafactor',  # オプティマイザの種類\n",
    "    deepspeed='zero_train.json',  # deepspeedのconfigへのpath\n",
    "    logging_steps=1,  # 途中経過を表示する間隔\n",
    ")\n",
    "\n",
    "trainer = Trainer(\n",
    "    model=ds_model,\n",
    "    args=training_args,\n",
    "    data_collator=data_collator,\n",
    "    train_dataset=tokenized_dataset,\n",
    ")"
   ]
  },
  {
   "cell_type": "code",
   "execution_count": 9,
   "metadata": {},
   "outputs": [
    {
     "name": "stdout",
     "output_type": "stream",
     "text": [
      "[2023-10-04 00:53:02,571] [WARNING] [cpu_adam.py:84:__init__] FP16 params for CPUAdam may not work on AMD CPUs\n",
      "\u001b[93m [WARNING] \u001b[0m cpu_adam cuda is missing or is incompatible with installed torch, only cpu ops can be compiled!\n"
     ]
    },
    {
     "name": "stderr",
     "output_type": "stream",
     "text": [
      "Using /home/user/.cache/torch_extensions/py311_cu117 as PyTorch extensions root...\n",
      "Emitting ninja build file /home/user/.cache/torch_extensions/py311_cu117/cpu_adam/build.ninja...\n",
      "Building extension module cpu_adam...\n",
      "Allowing ninja to set a default number of workers... (overridable by setting the environment variable MAX_JOBS=N)\n"
     ]
    },
    {
     "name": "stdout",
     "output_type": "stream",
     "text": [
      "ninja: no work to do.\n",
      "Time to load cpu_adam op: 2.4837777614593506 seconds\n"
     ]
    },
    {
     "name": "stderr",
     "output_type": "stream",
     "text": [
      "Loading extension module cpu_adam...\n"
     ]
    },
    {
     "name": "stdout",
     "output_type": "stream",
     "text": [
      "Parameter Offload: Total persistent parameters: 414720 in 81 params\n"
     ]
    },
    {
     "name": "stderr",
     "output_type": "stream",
     "text": [
      "You're using a LlamaTokenizerFast tokenizer. Please note that with a fast tokenizer, using the `__call__` method is faster than using a method to encode the text followed by a call to the `pad` method to get a padded encoding.\n",
      "`use_cache=True` is incompatible with gradient checkpointing. Setting `use_cache=False`...\n"
     ]
    },
    {
     "data": {
      "text/html": [
       "\n",
       "    <div>\n",
       "      \n",
       "      <progress value='4' max='13' style='width:300px; height:20px; vertical-align: middle;'></progress>\n",
       "      [ 4/13 08:34 < 38:36, 0.00 it/s, Epoch 0.23/1]\n",
       "    </div>\n",
       "    <table border=\"1\" class=\"dataframe\">\n",
       "  <thead>\n",
       " <tr style=\"text-align: left;\">\n",
       "      <th>Step</th>\n",
       "      <th>Training Loss</th>\n",
       "    </tr>\n",
       "  </thead>\n",
       "  <tbody>\n",
       "    <tr>\n",
       "      <td>1</td>\n",
       "      <td>2.626200</td>\n",
       "    </tr>\n",
       "    <tr>\n",
       "      <td>2</td>\n",
       "      <td>2.772800</td>\n",
       "    </tr>\n",
       "  </tbody>\n",
       "</table><p>"
      ],
      "text/plain": [
       "<IPython.core.display.HTML object>"
      ]
     },
     "metadata": {},
     "output_type": "display_data"
    },
    {
     "name": "stderr",
     "output_type": "stream",
     "text": [
      "tried to get lr value before scheduler/optimizer started stepping, returning lr=0\n",
      "tried to get lr value before scheduler/optimizer started stepping, returning lr=0\n"
     ]
    }
   ],
   "source": [
    "result = trainer.train()"
   ]
  },
  {
   "cell_type": "code",
   "execution_count": null,
   "metadata": {},
   "outputs": [
    {
     "ename": "NameError",
     "evalue": "name 'trainer' is not defined",
     "output_type": "error",
     "traceback": [
      "\u001b[0;31m---------------------------------------------------------------------------\u001b[0m",
      "\u001b[0;31mNameError\u001b[0m                                 Traceback (most recent call last)",
      "\u001b[1;32m/mnt/hdd/python/2023/0925nature_llm/llm/0930llama2-7b_zero_w_qa.ipynb セル 11\u001b[0m line \u001b[0;36m3\n\u001b[1;32m      <a href='vscode-notebook-cell://ssh-remote%2Bnew-ubuntu/mnt/hdd/python/2023/0925nature_llm/llm/0930llama2-7b_zero_w_qa.ipynb#X13sdnNjb2RlLXJlbW90ZQ%3D%3D?line=0'>1</a>\u001b[0m mode\u001b[39m=\u001b[39m\u001b[39m\"\u001b[39m\u001b[39mzero\u001b[39m\u001b[39m\"\u001b[39m\n\u001b[1;32m      <a href='vscode-notebook-cell://ssh-remote%2Bnew-ubuntu/mnt/hdd/python/2023/0925nature_llm/llm/0930llama2-7b_zero_w_qa.ipynb#X13sdnNjb2RlLXJlbW90ZQ%3D%3D?line=1'>2</a>\u001b[0m peft_name \u001b[39m=\u001b[39m \u001b[39mf\u001b[39m\u001b[39m\"\u001b[39m\u001b[39mmodel/all_\u001b[39m\u001b[39m{\u001b[39;00mmode\u001b[39m}\u001b[39;00m\u001b[39m_qa\u001b[39m\u001b[39m\"\u001b[39m\n\u001b[0;32m----> <a href='vscode-notebook-cell://ssh-remote%2Bnew-ubuntu/mnt/hdd/python/2023/0925nature_llm/llm/0930llama2-7b_zero_w_qa.ipynb#X13sdnNjb2RlLXJlbW90ZQ%3D%3D?line=2'>3</a>\u001b[0m trainer\u001b[39m.\u001b[39msave_model(peft_name)\n\u001b[1;32m      <a href='vscode-notebook-cell://ssh-remote%2Bnew-ubuntu/mnt/hdd/python/2023/0925nature_llm/llm/0930llama2-7b_zero_w_qa.ipynb#X13sdnNjb2RlLXJlbW90ZQ%3D%3D?line=3'>4</a>\u001b[0m tokenizer\u001b[39m.\u001b[39msave_pretrained(peft_name)\n",
      "\u001b[0;31mNameError\u001b[0m: name 'trainer' is not defined"
     ]
    }
   ],
   "source": [
    "#mode=\"zero\"\n",
    "#peft_name = f\"model/all_{mode}_qa\"\n",
    "#trainer.save_model(peft_name)\n",
    "#tokenizer.save_pretrained(peft_name)"
   ]
  },
  {
   "cell_type": "code",
   "execution_count": null,
   "metadata": {},
   "outputs": [],
   "source": [
    "\n",
    "#eval_model(raw_dataset[:200],pipe,f\"res/0929test/10000_{mode}_200.csv\")"
   ]
  },
  {
   "cell_type": "code",
   "execution_count": null,
   "metadata": {},
   "outputs": [],
   "source": []
  },
  {
   "cell_type": "code",
   "execution_count": null,
   "metadata": {},
   "outputs": [],
   "source": []
  }
 ],
 "metadata": {
  "kernelspec": {
   "display_name": "llama",
   "language": "python",
   "name": "python3"
  },
  "language_info": {
   "codemirror_mode": {
    "name": "ipython",
    "version": 3
   },
   "file_extension": ".py",
   "mimetype": "text/x-python",
   "name": "python",
   "nbconvert_exporter": "python",
   "pygments_lexer": "ipython3",
   "version": "3.11.5"
  },
  "orig_nbformat": 4
 },
 "nbformat": 4,
 "nbformat_minor": 2
}
