{
 "cells": [
  {
   "cell_type": "code",
   "execution_count": 1,
   "metadata": {},
   "outputs": [],
   "source": [
    "#Q&Aをもとに､データセットをつくってみる"
   ]
  },
  {
   "cell_type": "code",
   "execution_count": 1,
   "metadata": {},
   "outputs": [],
   "source": [
    "import random\n",
    "import numpy as np\n",
    "import json\n",
    "random.seed(0)\n",
    "np.random.seed(0)"
   ]
  },
  {
   "cell_type": "code",
   "execution_count": 2,
   "metadata": {},
   "outputs": [
    {
     "data": {
      "text/plain": [
       "238917"
      ]
     },
     "execution_count": 2,
     "metadata": {},
     "output_type": "execute_result"
    }
   ],
   "source": [
    "qa_path=\"database/output/qa0926.json\"\n",
    "context_path=\"database/output/context0926.json\"\n",
    "\n",
    "\n",
    "with open(qa_path,\"r\") as f:\n",
    "    q_a_with_context_list=json.load(f)\n",
    "\n",
    "with open(context_path,\"r\") as f:\n",
    "    context_list=json.load(f)\n",
    "len(q_a_with_context_list)"
   ]
  },
  {
   "cell_type": "code",
   "execution_count": 3,
   "metadata": {},
   "outputs": [
    {
     "data": {
      "text/plain": [
       "42394"
      ]
     },
     "execution_count": 3,
     "metadata": {},
     "output_type": "execute_result"
    }
   ],
   "source": [
    "context_id_set=list(set([c[\"context_id\"] for c in q_a_with_context_list]))\n",
    "len(context_id_set)"
   ]
  },
  {
   "cell_type": "code",
   "execution_count": 5,
   "metadata": {},
   "outputs": [
    {
     "data": {
      "text/plain": [
       "'A 5′-intron near the promoter is often sufficient for IME.5′-introns can increase gene expression levels by increasing recruitment of RNA polymerase II to the transcription initiation site. Promoter-proximal introns can also affect transcription initiation via chromatin modifications. A 5′-intron is sufficient to recruit chromatin opening marks. Previous reports measured 5′-intron IME in terms of RNA abundance, protein activity or phenotype (related directly to protein activity). The contemporaneous best available technologies for these studies had technical caveats like the inability to control transgene copy number and locus (either of which could have affected transgene expression level). The in vitro measurements of IME at the RNA and protein level were assayed via biochemical extracts. Finally, in some cases, reporter gene expression was transient (temporally unstable due to the nature of transfection/transduction). With modern genome editing and microfluidic technologies, we are able to quantify IME in live C. elegans with improved technical precision.'"
      ]
     },
     "execution_count": 5,
     "metadata": {},
     "output_type": "execute_result"
    }
   ],
   "source": [
    "q_a_with_context_list[0]\n"
   ]
  },
  {
   "cell_type": "code",
   "execution_count": 4,
   "metadata": {},
   "outputs": [
    {
     "name": "stderr",
     "output_type": "stream",
     "text": [
      "  0%|          | 0/42394 [00:00<?, ?it/s]"
     ]
    },
    {
     "name": "stderr",
     "output_type": "stream",
     "text": [
      "100%|██████████| 42394/42394 [05:05<00:00, 138.78it/s]\n"
     ]
    }
   ],
   "source": [
    "from tqdm import tqdm\n",
    "#記述式と選択式の割合\n",
    "multiple_qa_ratio=0.6\n",
    "#コンテキスト有無の割合\n",
    "inc_context_ratio=0.9\n",
    "\n",
    "question_datset=[]\n",
    "\n",
    "for context_id in tqdm(context_id_set):\n",
    "    #特定のcontextを持つ問題を集める\n",
    "    part_question_list=[c for c in q_a_with_context_list if c[\"context_id\"]==context_id]\n",
    "\n",
    "    #物切れの回答類を削除\n",
    "    for typ in [\"question\",\"answer\"]:\n",
    "        part_question_list=[c for c in part_question_list if len(c[typ])>10]\n",
    "        part_question_list=[c for c in part_question_list if c[typ][-1]!=\":\"]\n",
    "        for ng_words in [\"Claude\",\"http\",\"URL\",\"Oops!\"]:\n",
    "            part_question_list=[c for c in part_question_list if c[typ].find(ng_words)==-1]\n",
    "\n",
    "    if len(part_question_list)<1:\n",
    "        continue\n",
    "\n",
    "    #ランダムに問題形式を決定\n",
    "    if np.random.random()<multiple_qa_ratio:\n",
    "        mode=\"mult\"\n",
    "    else:\n",
    "        mode=\"gen\"\n",
    "    if len(part_question_list)<4:\n",
    "        mode=\"gen\"\n",
    "\n",
    "\n",
    "    #質問をrandom select\n",
    "    sampled_qa=random.sample(part_question_list,min(4,len(part_question_list)))\n",
    "    target_qa_id=random.randint(0,min(3,len(sampled_qa)-1))\n",
    "    target_qa=sampled_qa[target_qa_id]\n",
    "\n",
    "    question_dict={\n",
    "        \"question\":target_qa[\"question\"],\n",
    "        \"answer\":target_qa[\"answer\"],\n",
    "        \"ref_id\":target_qa[\"ref_id\"],\n",
    "    }\n",
    "    #choices\n",
    "    if mode==\"mult\":\n",
    "        question_dict[\"choices\"]=[qa[\"answer\"] for qa in sampled_qa]\n",
    "\n",
    "    #contextを使うか否か\n",
    "    use_context=np.random.random()>inc_context_ratio\n",
    "\n",
    "    #質問にtheseとかを含む場合は､contextを使う\n",
    "\n",
    "    filt_keys=[\"the\",\"these\",\"those\",\"this\",\"its\",\"et al\"]\n",
    "\n",
    "    for key in filt_keys:\n",
    "        if key in target_qa[\"question\"]:\n",
    "            use_context=True\n",
    "            break\n",
    "\n",
    "    context=context_list[target_qa[\"context_id\"]]\n",
    "    if use_context:\n",
    "        question_dict[\"context\"]=context\n",
    "    else:\n",
    "        question_dict[\"context\"]=\"\"\n",
    "\n",
    "    question_dict[\"question_type\"]=\"original\"\n",
    "    question_datset.append(question_dict)"
   ]
  },
  {
   "cell_type": "code",
   "execution_count": 5,
   "metadata": {},
   "outputs": [],
   "source": [
    "with open(\"database/output/qa_dataset1028.json\",\"w\") as f:\n",
    "    json.dump(question_datset,f,indent=1)"
   ]
  },
  {
   "cell_type": "code",
   "execution_count": 6,
   "metadata": {},
   "outputs": [
    {
     "data": {
      "text/plain": [
       "11849"
      ]
     },
     "execution_count": 6,
     "metadata": {},
     "output_type": "execute_result"
    }
   ],
   "source": [
    "wo_context_data=[d for d in question_datset if d[\"context\"]==\"\"]\n",
    "len(wo_context_data)"
   ]
  },
  {
   "cell_type": "code",
   "execution_count": 7,
   "metadata": {},
   "outputs": [],
   "source": [
    "import random\n",
    "random.seed(0)\n",
    "random.shuffle(question_datset)"
   ]
  },
  {
   "cell_type": "code",
   "execution_count": 8,
   "metadata": {},
   "outputs": [],
   "source": [
    "test_nums=160\n",
    "gen_nums=40\n",
    "test_dataset=[]\n",
    "train_dataset=[]\n",
    "\n",
    "gen_count=0\n",
    "for d in question_datset:\n",
    "\n",
    "    #add testing\n",
    "    if len(test_dataset)<test_nums and d[\"context\"]==\"\":\n",
    "        if \"choices\" not in d.keys() and gen_count<gen_nums:\n",
    "            gen_count+=1\n",
    "            test_dataset.append(d)\n",
    "            continue\n",
    "\n",
    "        test_dataset.append(d)\n",
    "    \n",
    "    #add training\n",
    "    else:\n",
    "        train_dataset.append(d)\n",
    "\n"
   ]
  },
  {
   "cell_type": "code",
   "execution_count": 9,
   "metadata": {},
   "outputs": [
    {
     "data": {
      "text/plain": [
       "[{'question': 'Even if the Seebeck coefficient increases at small wire sizes, what prevents gains in the overall power factor?',\n",
       "  'answer': 'Even though the Seebeck coefficient may increase at small wire sizes, the electrical conductivity decreases due to a stronger sensitivity to carrier scattering mechanisms and geometry, possibly preventing gains in the overall power factor.',\n",
       "  'ref_id': 2574,\n",
       "  'choices': ['Calculations by Kim et al. applying the Landauer formalism showed that while the Seebeck coefficient per mode can be improved by lower dimensionality, a large packing density of nanowires with small diameters is required to realize this advantage.',\n",
       "   'Even though the Seebeck coefficient may increase at small wire sizes, the electrical conductivity decreases due to a stronger sensitivity to carrier scattering mechanisms and geometry, possibly preventing gains in the overall power factor.',\n",
       "   'The initially predicted quantum size effects drew the interest of the thermoelectrics community as they seemed to offer a way to significantly increase the Seebeck coefficient in very thin nanowires compared to bulk material.',\n",
       "   'Newer calculations by Cornett et al. taking into account the contribution of multiple subbands to the transport showed that gains in the power factor would only be achieved for even thinner nanowires with wire diameters smaller than 17 nm.'],\n",
       "  'context': 'The predicted quantum-size effects drew the interest of the thermoelectrics community as they seemed to offer a way to significantly increase the Seebeck coefficient (S), i. e. the voltage generated by a material if a temperature difference is present, in very thin nanowires compared to bulk material. The initially predicted gains could however not be realized and newer calculations by Cornett et al. taking into account the contribution of multiple subbands to the transport showed that gains in the power factor would only be achieved for even thinner nanowires with wire diameters smaller than 17\\xa0nm. Calculations by Kim et al. applying the Landauer formalism also showed that while the Seebeck coefficient per mode can be improved by lower dimensionality a large packing density of nanowires with small diameters is required to realize this advantage. However, even though the Seebeck coefficient may increase, at those small wire sizes the electrical conductivity decreases due to a stronger sensitivity to carrier scattering mechanisms and geometry, possibly preventing to achieve total gains in the power factor. In addition, even the Seebeck coefficient gains theoretically predicted for diameters smaller than 10\\xa0nm might not be realized due to significant contributions of surface states to the electrical transport within Bi. Since the surface-to-volume ratio for nanowires can be extremely high, effects due to surface transport are also expected to significantly contribute to the overall transport properties of nanowires. Metal like surface states for low indexed planes in Bi are known, rendering the surface considerably better metallic behavior than the bulk. To what extend also topological surface states in bismuth could contribute is still under investigation. In general, both kinds of surface states can behave metal-like and thereby prevent an increase in Seebeck coefficient. To provide further insights on the special combination of unique transport processes with opposite contributions to the Seebeck coefficient and electrical resistance, Bi nanowires with tailored diameter from bulk-like down to few nanometers and controlled crystallinity present a unique model system to study the interaction and interplay of these different size-dependent processes.',\n",
       "  'question_type': 'original'},\n",
       " {'question': 'What did the new experiments identify regarding the impact of oxygen on the photoreaction products?',\n",
       "  'answer': 'The new experiments identified that carrying out the photoreaction in the presence of dissolved oxygen generates additional emission features red-shifted by ~160 meV (E11* transition), while the oxygen-free photoreaction gives rise to two distinct pronounced emission bands red-shifted by ~140 and ~260 meV (E11* and E11** transitions) originating from ortho and para binding configurations, respectively.',\n",
       "  'ref_id': 10107,\n",
       "  'choices': ['The new experiments identified that carrying out the photoreaction in the presence of dissolved oxygen generates additional emission features red-shifted by ~160 meV (E11* transition), while the oxygen-free photoreaction gives rise to two distinct pronounced emission bands red-shifted by ~140 and ~260 meV (E11* and E11** transitions) originating from ortho and para binding configurations, respectively.',\n",
       "   'Previous related work by some of the same authors hypothesized that different spectral features arise from the formation of different binding configurations, but was unable to definitively assign which configurations had been formed.',\n",
       "   'Oxygen molecules are efficient triplet quenchers. Therefore, with oxygen the photoexcited aromatics react via a singlet pathway, activating ortho binding. Without oxygen, the photoexcited aromatics can undergo singlet or triplet pathways, activating ortho or para geometries, respectively.',\n",
       "   'The recent work demonstrates the ability to control binding configurations of quantum defects in single-walled carbon nanotubes (SWCNTs) by accessing the previously inaccessible para geometry through precise photochemical functionalization involving control of oxygen levels.'],\n",
       "  'context': 'Here, we demonstrate that recently developed synthetic protocol is capable of controlling binding configurations by accessing the previously inaccessible para geometry of quantum defects in SWCNTs through a precise photochemical functionalization.These new photochemical pathways can be enabled and controlled via oxygen excess.This synthetic route - relying on photoexcited chemistry - was first reported by a few of us (see ref.).This work hypothesized that different spectral features arise from the formation of different binding configurations but was unable to definitively assign which configurations had been <http://formed.In|formed.In> this contribution we identify that chemical reactions between (6, 5) SWCNT sidewalls and photoexcited aromatics in the presence of dissolved oxygen generate additional emission features red-shifted by ca.160\\u2009meV (i.e., E11* transition), whereas the oxygen-free photoreaction gives two distinct pronounced emission bands red-shifted by ca.140 and 260\\u2009meV (i.e., E11* and E11** transitions, respectively), originating from ortho and para binding configurations, respectively.The previously unachievable E11* emission for (11, 0) SWCNTs that arises from the para configuration is also obtained through the oxygen-free photochemistry.The observed trend is rationalized based on the fact that oxygen molecules are efficient triplet quenchers.Therefore, photoexcited aromatics react with SWCNT sidewalls via a singlet pathway in air-saturated samples, activating ortho binding configurations of aryl/H in the <http://nanotube.In|nanotube.In> the absence of oxygen, photoexcited aromatics are covalently bound to nanotube surfaces undergoing either singlet or triplet pathways, thus activating ortho or para geometries, <http://respectively.To|respectively.To> understand the atomistic mechanism of these photo-activated reactions and their dependence on spin multiplicity, we have modeled the reaction with and without triplet quenching using spin-constrained density functional theory (DFT).Computed reaction pathways demonstrate selectivity and dependence of outcomes of the photo-reaction on the\\xa0deactivated or activated triplet\\xa0pathway, corresponding to presence or absence of oxygen, respectively.',\n",
       "  'question_type': 'original'},\n",
       " {'question': 'What data did the authors compare their model results to?',\n",
       "  'answer': 'The authors compared their model results to existing Antarctic ice core data.',\n",
       "  'ref_id': 45804,\n",
       "  'choices': ['The authors compared their model results to existing Antarctic ice core data.',\n",
       "   'This finding suggests that major sea ice retreat could increase δO. This will have consequences for projections of sea ice in a future warmer climate.',\n",
       "   'A major sea ice retreat of 65±7% increased δO and resulted in good agreement between the model results and the data.',\n",
       "   'Removing the WAIS caused changes in atmospheric circulation and precipitation seasonality that tended to reduce δO in the model.'],\n",
       "  'context': 'We carry out a series of climate model experiments incorporating δO (ref.). We evaluate experiments including WAIS loss and Southern Hemisphere sea ice retreat at 128\\u2009ka against existing Antarctic ice core data (see Methods for full details and for a full list of experiments). Our results suggest that a full WAIS collapse cannot explain the magnitude or the spatial pattern of the 128\\u2009ka δO maximum. Removing the WAIS causes changes in atmospheric circulation and precipitation seasonality that tends to reduce δO. Including WAIS, meltwater reduces δO by freshening the surface ocean, resulting in cooling and sea ice expansion, which does not improve the model–data agreement. A major sea ice retreat of 65±7% increases δO and does result in a good model–data agreement. This finding will have consequences for sea ice projection in a future warmer climate.',\n",
       "  'question_type': 'original'}]"
      ]
     },
     "execution_count": 9,
     "metadata": {},
     "output_type": "execute_result"
    }
   ],
   "source": [
    "train_dataset[:3]"
   ]
  },
  {
   "cell_type": "code",
   "execution_count": 10,
   "metadata": {},
   "outputs": [
    {
     "data": {
      "text/html": [
       "<div>\n",
       "<style scoped>\n",
       "    .dataframe tbody tr th:only-of-type {\n",
       "        vertical-align: middle;\n",
       "    }\n",
       "\n",
       "    .dataframe tbody tr th {\n",
       "        vertical-align: top;\n",
       "    }\n",
       "\n",
       "    .dataframe thead th {\n",
       "        text-align: right;\n",
       "    }\n",
       "</style>\n",
       "<table border=\"1\" class=\"dataframe\">\n",
       "  <thead>\n",
       "    <tr style=\"text-align: right;\">\n",
       "      <th></th>\n",
       "      <th>Q</th>\n",
       "      <th>A</th>\n",
       "      <th>B</th>\n",
       "      <th>C</th>\n",
       "      <th>D</th>\n",
       "      <th>Ans</th>\n",
       "    </tr>\n",
       "  </thead>\n",
       "  <tbody>\n",
       "    <tr>\n",
       "      <th>0</th>\n",
       "      <td>A spring of force constant k is stretched a ce...</td>\n",
       "      <td>k</td>\n",
       "      <td>2k</td>\n",
       "      <td>4k</td>\n",
       "      <td>8k</td>\n",
       "      <td>D</td>\n",
       "    </tr>\n",
       "    <tr>\n",
       "      <th>1</th>\n",
       "      <td>A student performs five titrations and obtains...</td>\n",
       "      <td>Accurate but not precise</td>\n",
       "      <td>Precise but not accurate</td>\n",
       "      <td>Both accurate and precise</td>\n",
       "      <td>Neither accurate nor precise</td>\n",
       "      <td>B</td>\n",
       "    </tr>\n",
       "    <tr>\n",
       "      <th>2</th>\n",
       "      <td>The 1H spectrum of a mixture of dimethylsulpho...</td>\n",
       "      <td>1:1</td>\n",
       "      <td>1:3</td>\n",
       "      <td>1:6</td>\n",
       "      <td>2:3</td>\n",
       "      <td>C</td>\n",
       "    </tr>\n",
       "  </tbody>\n",
       "</table>\n",
       "</div>"
      ],
      "text/plain": [
       "                                                   Q  \\\n",
       "0  A spring of force constant k is stretched a ce...   \n",
       "1  A student performs five titrations and obtains...   \n",
       "2  The 1H spectrum of a mixture of dimethylsulpho...   \n",
       "\n",
       "                          A                         B  \\\n",
       "0                         k                        2k   \n",
       "1  Accurate but not precise  Precise but not accurate   \n",
       "2                       1:1                       1:3   \n",
       "\n",
       "                           C                             D Ans  \n",
       "0                         4k                            8k   D  \n",
       "1  Both accurate and precise  Neither accurate nor precise   B  \n",
       "2                        1:6                           2:3   C  "
      ]
     },
     "execution_count": 10,
     "metadata": {},
     "output_type": "execute_result"
    }
   ],
   "source": [
    "#load mmlu\n",
    "import glob\n",
    "import pandas as pd\n",
    "mmlu_path_list=glob.glob(\"database/mmlu/*.csv\")\n",
    "\n",
    "df=None\n",
    "for path in mmlu_path_list:\n",
    "    temp_df=pd.read_csv(path)\n",
    "    temp_df.columns=[\"Q\",\"A\",\"B\",\"C\",\"D\",\"Ans\"]\n",
    "    if df is None:\n",
    "        df=temp_df\n",
    "    else:\n",
    "        df=pd.concat([df,temp_df])\n",
    "#dfを行でシャッフル\n",
    "df=df.sample(frac=1).reset_index(drop=True)\n",
    "df[:3]"
   ]
  },
  {
   "cell_type": "code",
   "execution_count": 11,
   "metadata": {},
   "outputs": [
    {
     "data": {
      "text/plain": [
       "[{'question': 'A spring of force constant k is stretched a certain distance. It takes twice as much work to stretch a second spring by half this distance. The force constant of the second spring is',\n",
       "  'answer': '8k',\n",
       "  'choices': ['k', '2k', '4k', '8k'],\n",
       "  'context': '',\n",
       "  'question_type': 'mmlu'},\n",
       " {'question': 'A student performs five titrations and obtains a mean result of 0.110 M, with a standard deviation of 0.001 M. If the actual concentration of the titrated solution is 0.100 M, which of the following is true about the titration results?',\n",
       "  'answer': 'Precise but not accurate',\n",
       "  'choices': ['Accurate but not precise',\n",
       "   'Precise but not accurate',\n",
       "   'Both accurate and precise',\n",
       "   'Neither accurate nor precise'],\n",
       "  'context': '',\n",
       "  'question_type': 'mmlu'},\n",
       " {'question': 'The 1H spectrum of a mixture of dimethylsulphoxide (DMSO) and acetonitrile (AN) contains lines with relative intensities α and 3α, respectively. What is the ratio of the two concentrations, [DMSO]:[AN]?',\n",
       "  'answer': '1:6',\n",
       "  'choices': ['1:1', '1:3', '1:6', '2:3'],\n",
       "  'context': '',\n",
       "  'question_type': 'mmlu'}]"
      ]
     },
     "execution_count": 11,
     "metadata": {},
     "output_type": "execute_result"
    }
   ],
   "source": [
    "mmlu_test_dataset=[]\n",
    "mmlu_test_nums=50\n",
    "for record in df.to_dict(orient=\"records\"):\n",
    "    if len(mmlu_test_dataset)>=mmlu_test_nums:\n",
    "        break\n",
    "\n",
    "    answer=record[record[\"Ans\"]]\n",
    "    \n",
    "    question_dict={\n",
    "        \"question\":record[\"Q\"],\n",
    "        \"answer\":answer,\n",
    "        \"choices\":[record[\"A\"],record[\"B\"],record[\"C\"],record[\"D\"]],\n",
    "        \"context\":\"\",\n",
    "        \"question_type\":\"mmlu\"\n",
    "    }\n",
    "    mmlu_test_dataset.append(question_dict)\n",
    "\n",
    "mmlu_test_dataset[:3]"
   ]
  },
  {
   "cell_type": "code",
   "execution_count": 18,
   "metadata": {},
   "outputs": [],
   "source": [
    "\n",
    "with open(\"database/output/1028qa_dataset_train.json\",\"w\") as f:\n",
    "    json.dump(train_dataset,f,indent=1)\n",
    "\n",
    "with open(\"database/output/1028qa_dataset_test.json\",\"w\") as f:\n",
    "    json.dump(test_dataset+mmlu_test_dataset,f,indent=1)"
   ]
  },
  {
   "cell_type": "code",
   "execution_count": 14,
   "metadata": {},
   "outputs": [
    {
     "data": {
      "text/plain": [
       "(6171, 6)"
      ]
     },
     "execution_count": 14,
     "metadata": {},
     "output_type": "execute_result"
    }
   ],
   "source": [
    "#irrelevant mmlu qa dataset\n",
    "\n",
    "\n",
    "#load mmlu\n",
    "import glob\n",
    "import pandas as pd\n",
    "mmlu_path_list=glob.glob(\"database/mmlu/train/*.csv\")\n",
    "\n",
    "df=None\n",
    "for path in mmlu_path_list:\n",
    "    temp_df=pd.read_csv(path)\n",
    "    temp_df.columns=[\"Q\",\"A\",\"B\",\"C\",\"D\",\"Ans\"]\n",
    "    if df is None:\n",
    "        df=temp_df\n",
    "    else:\n",
    "        df=pd.concat([df,temp_df])\n",
    "#dfを行でシャッフル\n",
    "df=df.sample(frac=1).reset_index(drop=True)\n",
    "df.shape"
   ]
  },
  {
   "cell_type": "code",
   "execution_count": 17,
   "metadata": {},
   "outputs": [],
   "source": [
    "\n",
    "mmlu_train_dataset=[]\n",
    "mmlu_train_nums=6000\n",
    "for record in df.to_dict(orient=\"records\"):\n",
    "    if len(mmlu_test_dataset)>=mmlu_train_nums:\n",
    "        break\n",
    "\n",
    "    answer=record[record[\"Ans\"]]\n",
    "    \n",
    "    question_dict={\n",
    "        \"question\":record[\"Q\"],\n",
    "        \"answer\":answer,\n",
    "        \"choices\":[record[\"A\"],record[\"B\"],record[\"C\"],record[\"D\"]],\n",
    "        \"context\":\"\",\n",
    "        \"question_type\":\"mmlu\"\n",
    "    }\n",
    "    mmlu_train_dataset.append(question_dict)\n",
    "\n",
    "\n",
    "with open(\"database/output/1028mmlu_dataset_train.json\",\"w\") as f:\n",
    "    json.dump(mmlu_train_dataset,f,indent=1)"
   ]
  },
  {
   "cell_type": "code",
   "execution_count": null,
   "metadata": {},
   "outputs": [],
   "source": []
  }
 ],
 "metadata": {
  "kernelspec": {
   "display_name": "mi",
   "language": "python",
   "name": "python3"
  },
  "language_info": {
   "codemirror_mode": {
    "name": "ipython",
    "version": 3
   },
   "file_extension": ".py",
   "mimetype": "text/x-python",
   "name": "python",
   "nbconvert_exporter": "python",
   "pygments_lexer": "ipython3",
   "version": "3.11.3"
  },
  "orig_nbformat": 4
 },
 "nbformat": 4,
 "nbformat_minor": 2
}
