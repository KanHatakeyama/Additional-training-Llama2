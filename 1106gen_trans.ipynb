{
 "cells": [
  {
   "cell_type": "code",
   "execution_count": 1,
   "metadata": {},
   "outputs": [],
   "source": [
    "import json\n",
    "context_path=\"database/1103output/context_list.json\"\n"
   ]
  },
  {
   "cell_type": "code",
   "execution_count": 2,
   "metadata": {},
   "outputs": [],
   "source": [
    "with open(context_path,\"r\") as f:\n",
    "    context_list=json.load(f)"
   ]
  },
  {
   "cell_type": "code",
   "execution_count": 4,
   "metadata": {},
   "outputs": [],
   "source": [
    "import pandas as pd\n",
    "\n",
    "df=pd.DataFrame(context_list)"
   ]
  },
  {
   "cell_type": "code",
   "execution_count": 6,
   "metadata": {},
   "outputs": [],
   "source": [
    "df[\"id\"]=range(len(context_list))\n",
    "df.columns=[\"txt\",\"id\"]"
   ]
  },
  {
   "cell_type": "code",
   "execution_count": 13,
   "metadata": {},
   "outputs": [
    {
     "data": {
      "text/plain": [
       "'\\n# 最初の10,000行を取得し、n_splごとに分割して保存\\nfor start_row in range(0, df.shape[0], n_spl):\\n    end_row = start_row + n_spl\\n    output_path = os.path.join(output_folder, f\"{start_row//n_spl + 1}.xlsx\")\\n    df[start_row:end_row].to_excel(output_path, index=False)\\n\\n'"
      ]
     },
     "execution_count": 13,
     "metadata": {},
     "output_type": "execute_result"
    }
   ],
   "source": [
    "import os\n",
    "n_spl = 3000\n",
    "output_folder = \"database/1106trans\"\n",
    "\n",
    "# ディレクトリが存在しない場合は作成\n",
    "if not os.path.exists(output_folder):\n",
    "    os.makedirs(output_folder)\n",
    "\n",
    "\"\"\"\n",
    "# 最初の10,000行を取得し、n_splごとに分割して保存\n",
    "for start_row in range(0, df.shape[0], n_spl):\n",
    "    end_row = start_row + n_spl\n",
    "    output_path = os.path.join(output_folder, f\"{start_row//n_spl + 1}.xlsx\")\n",
    "    df[start_row:end_row].to_excel(output_path, index=False)\n",
    "\n",
    "\"\"\""
   ]
  },
  {
   "cell_type": "code",
   "execution_count": 24,
   "metadata": {},
   "outputs": [],
   "source": [
    "#統合\n",
    "import glob\n",
    "import json\n",
    "lang=\"ita\"\n",
    "xls_dir=output_folder+\"/\"+lang+\"/*\"\n",
    "\n",
    "xls_path_list=glob.glob(xls_dir)\n",
    "\n",
    "# 空のデータフレームを作成\n",
    "combined_df = pd.DataFrame()\n",
    "\n",
    "# 全てのExcelファイルを読み込んで一つのデータフレームに統合\n",
    "for xls_path in xls_path_list:\n",
    "    # Excelファイルを読み込む\n",
    "    df = pd.read_excel(xls_path)\n",
    "    \n",
    "    # 読み込んだデータフレームを統合する\n",
    "    combined_df = pd.concat([combined_df, df], ignore_index=True)\n",
    "\n",
    "# 必要に応じて統合後のデータフレームを処理\n",
    "\n",
    "# 統合後のデータフレームを確認\n",
    "\n",
    "combined_df.columns=[\"txt\",\"id\"]\n",
    "combined_df=combined_df.sort_values(by=\"id\")\n",
    "\n",
    "trans_cont_list=list(combined_df[\"txt\"])\n",
    "\n",
    "with open(f\"database/1103output/context_list_{lang}.json\",\"w\") as f:\n",
    "    json.dump(trans_cont_list,f,indent=4)"
   ]
  },
  {
   "cell_type": "code",
   "execution_count": null,
   "metadata": {},
   "outputs": [],
   "source": []
  },
  {
   "cell_type": "code",
   "execution_count": null,
   "metadata": {},
   "outputs": [],
   "source": []
  }
 ],
 "metadata": {
  "kernelspec": {
   "display_name": "mi",
   "language": "python",
   "name": "python3"
  },
  "language_info": {
   "codemirror_mode": {
    "name": "ipython",
    "version": 3
   },
   "file_extension": ".py",
   "mimetype": "text/x-python",
   "name": "python",
   "nbconvert_exporter": "python",
   "pygments_lexer": "ipython3",
   "version": "3.11.3"
  }
 },
 "nbformat": 4,
 "nbformat_minor": 2
}
